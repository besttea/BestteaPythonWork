{
 "cells": [
  {
   "cell_type": "markdown",
   "metadata": {},
   "source": [
    "<img src=\".\\\\diyLogo.png\" alt=\"some_text\">\n",
    "<h1> 第五讲 文件和数据格式化基础</h1>\n",
    "<a id=backup></a>\n",
    "<H2>目录</H2>  \n",
    "\n",
    "[5.1 Python输入输出](#Section3)     \n",
    "[5.2 Python文件](#Section4)  \n",
    "[5.3 Matplotlib](#Section5)  \n",
    "[5.4 Turtle](#Section6)"
   ]
  },
  {
   "cell_type": "markdown",
   "metadata": {},
   "source": [
    "# 图片浮雕处理+文字"
   ]
  },
  {
   "cell_type": "code",
   "execution_count": 1,
   "metadata": {},
   "outputs": [],
   "source": [
    "from PIL import Image, ImageFilter,ImageFont, ImageDraw\n",
    "im=Image.open(\"./img/library.png\")\n",
    "outimag=im.filter(ImageFilter.EMBOSS)\n",
    "ft = ImageFont.truetype(\"C:/WINDOWS/Fonts/MSYH.TTF\", 40)\n",
    "draw=ImageDraw.Draw(outimag)\n",
    "draw.text((30,400), u\"Python图像处理库PIL从入门到精通\",font = ft, fill = 'yellow')\n",
    "outimag.show()"
   ]
  }
 ],
 "metadata": {
  "interpreter": {
   "hash": "b77746e9332ffa618d6f1b0c30b3b999bda6b9685dc073ddc506779c9ceef622"
  },
  "kernelspec": {
   "display_name": "Python 3.9.7 64-bit",
   "name": "python3"
  },
  "language_info": {
   "codemirror_mode": {
    "name": "ipython",
    "version": 3
   },
   "file_extension": ".py",
   "mimetype": "text/x-python",
   "name": "python",
   "nbconvert_exporter": "python",
   "pygments_lexer": "ipython3",
   "version": "3.9.7"
  },
  "orig_nbformat": 4
 },
 "nbformat": 4,
 "nbformat_minor": 2
}
