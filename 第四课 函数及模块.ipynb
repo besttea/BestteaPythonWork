{
 "cells": [
  {
   "cell_type": "markdown",
   "source": [
    "<img src=\".\\\\diyLogo.png\" alt=\"some_text\">\r\n",
    "<h1> 第四讲 函数基础</h1>\r\n",
    "<a id=backup></a>\r\n",
    "<H2>目录</H2>  \r\n",
    "\r\n",
    "[3.1 Python函数](#Section1)  \r\n",
    "[3.2 Python模块](#Section2)  \r\n",
    "[3.3 Pandas ](#Section3)     \r\n",
    "[3.4 Numpy](#Section4)  "
   ],
   "metadata": {}
  },
  {
   "cell_type": "markdown",
   "source": [],
   "metadata": {}
  }
 ],
 "metadata": {
  "orig_nbformat": 4,
  "language_info": {
   "name": "python"
  }
 },
 "nbformat": 4,
 "nbformat_minor": 2
}