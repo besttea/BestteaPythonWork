{
    "cells": [
        {
            "cell_type": "markdown",
            "source": [
                "# 第一讲 基本数据结构\r\n",
                "\r\n",
                "## 1.1 Number（数字）\r\n",
                "\r\n",
                "Python3 支持 **int、float、bool、complex**（复数）。\r\n",
                "\r\n",
                "在Python 3里，只有一种整数类型 **int**，表示为长整型，没有 python2 中的 Long。\r\n",
                "\r\n",
                "像大多数语言一样，数值类型的赋值和计算都是很直观的。\r\n",
                "\r\n",
                "内置的 type() 函数可以用来查询变量所指的对象类型。\r\n"
            ],
            "metadata": {}
        },
        {
            "cell_type": "code",
            "execution_count": 23,
            "source": [
                "z=1+1j\r\n",
                "type(z) \r\n",
                "print(z.conjugate())"
            ],
            "outputs": [
                {
                    "output_type": "stream",
                    "name": "stdout",
                    "text": [
                        "(1-1j)\n"
                    ]
                }
            ],
            "metadata": {}
        },
        {
            "cell_type": "markdown",
            "source": [
                "与数学中的整数概念一致，没有取值范围限制\r\n",
                "pow(x, y)函数：计算xy\r\n"
            ],
            "metadata": {}
        },
        {
            "cell_type": "code",
            "execution_count": 1,
            "source": [
                "pow(2,500)"
            ],
            "outputs": [
                {
                    "output_type": "execute_result",
                    "data": {
                        "text/plain": [
                            "3273390607896141870013189696827599152216642046043064789483291368096133796404674554883270092325904157150886684127560071009217256545885393053328527589376"
                        ]
                    },
                    "metadata": {},
                    "execution_count": 1
                }
            ],
            "metadata": {}
        },
        {
            "cell_type": "code",
            "execution_count": 6,
            "source": [
                "import sys\r\n",
                "print(sys.float_info)\r\n",
                "print(sys.int_info)\r\n"
            ],
            "outputs": [
                {
                    "output_type": "stream",
                    "name": "stdout",
                    "text": [
                        "sys.float_info(max=1.7976931348623157e+308, max_exp=1024, max_10_exp=308, min=2.2250738585072014e-308, min_exp=-1021, min_10_exp=-307, dig=15, mant_dig=53, epsilon=2.220446049250313e-16, radix=2, rounds=1)\n",
                        "sys.int_info(bits_per_digit=30, sizeof_digit=4)\n"
                    ]
                }
            ],
            "metadata": {}
        },
        {
            "cell_type": "markdown",
            "source": [
                "## 1.2 标准数据类型\r\n",
                "Python3 中有六个标准的数据类型：\r\n",
                "\r\n",
                "**Number**（数字）  \r\n",
                "**String**（字符串）  \r\n",
                "**List**（列表）  \r\n",
                "**Tuple**（元组）  \r\n",
                "**Set**（集合）  \r\n",
                "**Dictionary**（字典）  \r\n",
                "Python3 的六个标准数据类型中：\r\n",
                "\r\n",
                "不可变数据（3 个）：Number（数字）、String（字符串）、Tuple（元组）；\r\n",
                "可变数据（3 个）：List（列表）、Dictionary（字典）、Set（集合）。"
            ],
            "metadata": {}
        },
        {
            "cell_type": "code",
            "execution_count": 25,
            "source": [
                "counter = 100       # 整型变量\r\n",
                "miles = 1000.0      # 浮点型变量\r\n",
                "name = \"runoob\"         # 字符串\r\n",
                "list1  = [1, 2, 3, 4, 5] # 列表\r\n",
                "tup1 = (1, 2, 3, 4, 5)  # 元 组\r\n",
                "dict = {'name': '张三', 'age': 15, 'Mail': 'zhs@163.com'} # 字典\r\n",
                "basket = {'apple', 'orange', 'apple', 'pear', 'orange', 'banana'} # 集合\r\n",
                "print(counter)\r\n",
                "print(miles)\r\n",
                "print(name)\r\n",
                "print(basket)\r\n"
            ],
            "outputs": [
                {
                    "output_type": "stream",
                    "name": "stdout",
                    "text": [
                        "100\n",
                        "1000.0\n",
                        "runoob\n",
                        "{'pear', 'banana', 'orange', 'apple'}\n"
                    ]
                }
            ],
            "metadata": {}
        },
        {
            "cell_type": "markdown",
            "source": [
                "## 1.3 字符串\r\n",
                "字符串是 Python 中最常用的数据类型。我们可以使用引号( ' 或 \" )来创建字符串。\r\n",
                "\r\n",
                "创建字符串很简单，只要为变量分配一个值即可。例如："
            ],
            "metadata": {}
        },
        {
            "cell_type": "code",
            "execution_count": 2,
            "source": [
                "var1 = 'Hello World!'\r\n",
                "var2 = \"Runoob\""
            ],
            "outputs": [],
            "metadata": {}
        },
        {
            "cell_type": "markdown",
            "source": [
                "Python 访问字符串中的值\r\n",
                "Python 不支持单字符类型，单字符在 Python 中也是作为一个字符串使用。\r\n",
                "\r\n",
                "Python 访问子字符串，可以使用方括号 [] 来截取字符串，字符串的截取的语法格式如下：\r\n"
            ],
            "metadata": {}
        },
        {
            "cell_type": "code",
            "execution_count": null,
            "source": [],
            "outputs": [],
            "metadata": {}
        },
        {
            "cell_type": "markdown",
            "source": [
                "在jupyter notebook使用latex编辑数学公式\r\n",
                "使用下划线_表示下标，使用^表示上标\r\n",
                "$${\\ x}^{5}$$\r\n",
                "$$\\ x_i$$\r\n"
            ],
            "metadata": {}
        },
        {
            "cell_type": "markdown",
            "source": [
                "$$\r\n",
                "x_{(22)}^{(n)}\\qquad   \r\n",
                "\\frac{1}{1+\\frac{1}{2}}\\qquad  \r\n",
                "\\sqrt{1+\\sqrt[^p]{1+a^2}}\\qquad  \r\n",
                "\\int_1^\\infty\\qquad  \r\n",
                "\\sum_{k=1}^n\\frac{1}{k}\\qquad  \r\n",
                "\\int_a^b f(x)dx\\qquad  \r\n",
                "\\frac{\\partial E_w}{\\partial w}\\qquad  \r\n",
                "\\lim_{1\\to\\infty}\\qquad  \r\n",
                "\\lt \\gt \\le \\ge \\neq \\not\\lt \\neq\\qquad  \r\n",
                "\\times \\div \\pm \\mp x \\cdot y\\qquad  \r\n",
                "\\cup \\cap \\setminus \\subset \\subseteq \\subsetneq \\supset \\in \\notin \\emptyset   \\varnothing\\qquad  \r\n",
                "\\to \\rightarrow \\leftarrow \\Rightarrow \\Leftarrow \\mapsto\\qquad  \r\n",
                "\\land \\lor \\lnot \\forall \\exists \\top \\bot \\vdash \\vDash\\qquad  \r\n",
                "\\star \\ast \\oplus \\circ \\bullet\\qquad  \r\n",
                "\\approx \\sim \\cong \\equiv \\prec\\qquad  \r\n",
                "\\infty \\aleph \\nabla \\partial\\qquad  \r\n",
                "\\epsilon \\varepsilon\\qquad  \r\n",
                "\\phi \\varphi\\qquad  \r\n",
                "\\left \\lbrace \\sum_{i=0}^n i^2 = \\frac{(n^2+n)(2n+1)}{6} \\right\\rbrace \\qquad  \r\n",
                "\\left( \\sum_{k=\\frac{1}{2}}^{N^2}\\frac{1}{k} \\right)\\qquad  \r\n",
                "\\left. \\frac{\\partial f(x, y)}{\\partial x}\\right|_{x=0}\\qquad  \r\n",
                "\\left\\lbrace\\begin{aligned}a\\\\a\\\\a\\\\\\end{aligned}\\right\\rbrace \\qquad  \r\n",
                "\\left\\lbrace\\begin{aligned}  \r\n",
                "a_1x+b_1y+c_1z &=d_1+e_1 \\\\\\ \r\n",
                "a_2x+b_2y &=d_2 \\\\\\ \r\n",
                "a_3x+b_3y+c_3z &=d_3\r\n",
                "\\end{aligned}\\right\\rbrace \\qquad  \r\n",
                "$$\r\n"
            ],
            "metadata": {}
        }
    ],
    "metadata": {
        "orig_nbformat": 4,
        "language_info": {
            "name": "python",
            "version": "3.8.3",
            "mimetype": "text/x-python",
            "codemirror_mode": {
                "name": "ipython",
                "version": 3
            },
            "pygments_lexer": "ipython3",
            "nbconvert_exporter": "python",
            "file_extension": ".py"
        },
        "kernelspec": {
            "name": "python3",
            "display_name": "Python 3.8.3 64-bit"
        },
        "interpreter": {
            "hash": "b9a268b5177726dfc8309705247cfe1b4d61ba67b2db514b67fc3d8c419bc535"
        }
    },
    "nbformat": 4,
    "nbformat_minor": 2
}