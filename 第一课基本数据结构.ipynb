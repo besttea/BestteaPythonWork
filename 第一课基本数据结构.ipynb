{
    "cells": [
        {
            "cell_type": "markdown",
            "source": [
                "<img src=\".\\\\diyLogo.png\" alt=\"some_text\">\r\n",
                "<h1> 第一讲 基本数据结构</h1>\r\n",
                "<a id=backup></a>\r\n",
                "<H2>目录</H2>  \r\n",
                "\r\n",
                "[1.1 数字常量](#Literals)   \r\n",
                "[1.2 标准数据类型](#data_type)   \r\n",
                "[1.3 数字类型的操作](#num_opr)   \r\n",
                "[1.4 字符串](#char_opr)  \r\n",
                "[1.5 Latex数学公式编辑](#Latex_form) \r\n",
                "\r\n"
            ],
            "metadata": {}
        },
        {
            "cell_type": "markdown",
            "source": [
                "<a id=\"data_struc\"></a>\r\n",
                "### 1.1 数字常量\r\n",
                "\r\n",
                "Python3 支持 **int、float、bool、complex**（复数）。\r\n",
                "\r\n",
                "在Python 3里，只有一种整数类型 **int**，表示为长整型，没有 python2 中的 **Long**。\r\n",
                "\r\n",
                "像大多数语言一样，数值类型的赋值和计算都是很直观的。\r\n",
                "\r\n",
                "内置的 type() 函数可以用来查询变量所指的对象类型。\r\n"
            ],
            "metadata": {}
        },
        {
            "cell_type": "code",
            "execution_count": 1,
            "source": [
                "z=1+1j\r\n",
                "type(z) \r\n",
                "#print(z.conjugate())"
            ],
            "outputs": [
                {
                    "output_type": "execute_result",
                    "data": {
                        "text/plain": [
                            "complex"
                        ]
                    },
                    "metadata": {},
                    "execution_count": 1
                }
            ],
            "metadata": {}
        },
        {
            "cell_type": "markdown",
            "source": [
                "与数学中的整数概念一致，没有取值范围限制\r\n",
                "pow(x, y)函数：\r\n",
                "计算 $$x^{y}$$\r\n"
            ],
            "metadata": {}
        },
        {
            "cell_type": "code",
            "execution_count": 2,
            "source": [
                "pow(2,500)"
            ],
            "outputs": [
                {
                    "output_type": "execute_result",
                    "data": {
                        "text/plain": [
                            "3273390607896141870013189696827599152216642046043064789483291368096133796404674554883270092325904157150886684127560071009217256545885393053328527589376"
                        ]
                    },
                    "metadata": {},
                    "execution_count": 2
                }
            ],
            "metadata": {}
        },
        {
            "cell_type": "code",
            "execution_count": 3,
            "source": [
                "import sys\r\n",
                "print(sys.float_info)\r\n",
                "print(sys.int_info)\r\n"
            ],
            "outputs": [
                {
                    "output_type": "stream",
                    "name": "stdout",
                    "text": [
                        "sys.float_info(max=1.7976931348623157e+308, max_exp=1024, max_10_exp=308, min=2.2250738585072014e-308, min_exp=-1021, min_10_exp=-307, dig=15, mant_dig=53, epsilon=2.220446049250313e-16, radix=2, rounds=1)\n",
                        "sys.int_info(bits_per_digit=30, sizeof_digit=4)\n"
                    ]
                }
            ],
            "metadata": {}
        },
        {
            "cell_type": "markdown",
            "source": [
                "<a id=\"data_type\"></a>\r\n",
                "## 1.2 标准数据类型\r\n",
                "<h3 style=\"color:green\"> Python3 中有六个标准的数据类型：</h3>\r\n",
                "  \r\n",
                "<table border=\"1\">\r\n",
                "    <tr>\r\n",
                "        <td> Number</td>\r\n",
                "        <td>数字</td>\r\n",
                "    </tr>\r\n",
                "    <tr>\r\n",
                "        <td>String</td>\r\n",
                "        <td>字符串</td>\r\n",
                "    </tr>\r\n",
                "    <tr>\r\n",
                "        <td>List</td>\r\n",
                "        <td>列表</td>\r\n",
                "    </tr>    \r\n",
                "    <tr>\r\n",
                "        <td>Tuple</td>\r\n",
                "        <td>元组</td>\r\n",
                "    </tr>    \r\n",
                "    <tr>\r\n",
                "        <td>Set</td>\r\n",
                "        <td>集合</td>\r\n",
                "    </tr>\r\n",
                "    <tr>\r\n",
                "        <td>Dictionary</td>\r\n",
                "        <td>字典</td>\r\n",
                "    </tr>\r\n",
                "</table>\r\n",
                "<h3 style=\"color:green\">Python3 的六个标准数据类型中：</h3>\r\n",
                "\r\n",
                "不可变数据（3 个）：Number（数字）、String（字符串）、Tuple（元组）；  \r\n",
                "可变数据（3 个）：List（列表）、Dictionary（字典）、Set（集合）。  \r\n",
                "\r\n",
                "[目录](#backup) "
            ],
            "metadata": {}
        },
        {
            "cell_type": "code",
            "execution_count": 4,
            "source": [
                "counter = 100       # 整型变量\r\n",
                "miles = 1000.0      # 浮点型变量\r\n",
                "name = \"ru'n'oob\"         # 字符串\r\n",
                "name2='xauat\"edu\"'\r\n",
                "name3='''a \r\n",
                "b\r\n",
                " c '''\r\n",
                "list1  = [1, 2, 3, 4, 5] # 列表\r\n",
                "tup1 = (1, 2, 3, 4, 5)  # 元 组\r\n",
                "dict = {'name': '张三', 'age': 15, 'Mail': 'zhs@163.com'} # 字典\r\n",
                "basket = {'apple', 'orange', 'apple', 'pear', 'orange', 'banana'} # 集合\r\n",
                "print(counter)\r\n",
                "print(miles)\r\n",
                "print(name)\r\n",
                "print(basket)\r\n"
            ],
            "outputs": [
                {
                    "output_type": "stream",
                    "name": "stdout",
                    "text": [
                        "100\n",
                        "1000.0\n",
                        "ru'n'oob\n",
                        "{'apple', 'banana', 'pear', 'orange'}\n"
                    ]
                }
            ],
            "metadata": {}
        },
        {
            "cell_type": "markdown",
            "source": [
                "<a id=\"num_opr\"></a>\r\n",
                "## 1.3 数字类型的操作\r\n",
                "数值计算+ - * /\r\n",
                "\r\n",
                "[目录](#backup) "
            ],
            "metadata": {}
        },
        {
            "cell_type": "code",
            "execution_count": 5,
            "source": [
                "a = b = 1\r\n",
                "c=a+b\r\n",
                "print(\"a+b=\", c)\r\n",
                "c=a*b\r\n",
                "print(\"a*b=\", c)\r\n",
                "a=8\r\n",
                "b=3\r\n",
                "c=a/b\r\n",
                "print(\"a/b=\", c)\r\n",
                "c=a//b\r\n",
                "print(\"a//b=\", c)\r\n",
                "c = a%b\r\n",
                "print(\"a%b =\", c)\r\n",
                "c = a ** b\r\n",
                "print(\"a**b=\", c)\r\n"
            ],
            "outputs": [
                {
                    "output_type": "stream",
                    "name": "stdout",
                    "text": [
                        "a+b= 2\n",
                        "a*b= 1\n",
                        "a/b= 2.6666666666666665\n",
                        "a//b= 2\n",
                        "a%b = 2\n",
                        "a**b= 512\n"
                    ]
                }
            ],
            "metadata": {}
        },
        {
            "cell_type": "markdown",
            "source": [
                "<a id=\"char_opr\"></a>\r\n",
                "## 1.4 字符串变量操作\r\n",
                "字符串是 Python 中最常用的数据类型。我们可以使用引号( ' 、 \" 或 ''')来创建字符串。\r\n",
                "\r\n",
                "创建字符串很简单，只要为变量分配一个值即可。例如：\r\n"
            ],
            "metadata": {}
        },
        {
            "cell_type": "code",
            "execution_count": 1,
            "source": [
                "var1 = 'Hello World!'\r\n",
                "var2 = \"Runoob\"\r\n",
                "var3='''Hello World '''"
            ],
            "outputs": [],
            "metadata": {}
        },
        {
            "cell_type": "markdown",
            "source": [
                "Python 访问字符串中的值\r\n",
                "Python 不支持单字符类型，单字符在 Python 中也是作为一个字符串使用。\r\n",
                "\r\n",
                "Python 访问子字符串，可以使用方括号 [] 来截取字符串，字符串的截取的语法格式如下：\r\n"
            ],
            "metadata": {}
        },
        {
            "cell_type": "code",
            "execution_count": 5,
            "source": [
                "print(var1[1:5])\r\n",
                "        "
            ],
            "outputs": [
                {
                    "output_type": "stream",
                    "name": "stdout",
                    "text": [
                        "ello\n"
                    ]
                }
            ],
            "metadata": {}
        },
        {
            "cell_type": "markdown",
            "source": [
                "\r\n",
                "[目录](#backup) "
            ],
            "metadata": {}
        },
        {
            "cell_type": "markdown",
            "source": [
                "<a id=\"Latex_form\"></a>\r\n",
                "## 1.5 Latex数学公式编辑\r\n",
                "在jupyter notebook使用latex编辑数学公式\r\n",
                "使用下划线_表示下标，使用^表示上标\r\n",
                "\r\n",
                "$${\\ x}^{5}   \\ x_i$$\r\n",
                "\r\n"
            ],
            "metadata": {}
        },
        {
            "cell_type": "markdown",
            "source": [
                "$$\r\n",
                "x_{(22)}^{(n)}\\qquad   \r\n",
                "\\frac{1}{1+\\frac{1}{2}}\\qquad  \r\n",
                "\\sqrt{1+\\sqrt[^p]{1+a^2}}\\qquad  \r\n",
                "\\int_1^\\infty\\qquad  \r\n",
                "\\sum_{k=1}^n\\frac{1}{k}\\qquad  \r\n",
                "\\int_a^b f(x)dx\\qquad  \r\n",
                "\\frac{\\partial E_w}{\\partial w}\\qquad  \r\n",
                "\\lim_{1\\to\\infty}\\qquad  \r\n",
                "\\lt \\gt \\le \\ge \\neq \\not\\lt \\neq\\qquad  \r\n",
                "\\times \\div \\pm \\mp x \\cdot y\\qquad  \r\n",
                "\\cup \\cap \\setminus \\subset \\subseteq \\subsetneq \\supset \\in \\notin \\emptyset   \\varnothing\\qquad  \r\n",
                "\\to \\rightarrow \\leftarrow \\Rightarrow \\Leftarrow \\mapsto\\qquad  \r\n",
                "\\land \\lor \\lnot \\forall \\exists \\top \\bot \\vdash \\vDash\\qquad  \r\n",
                "\\star \\ast \\oplus \\circ \\bullet\\qquad  \r\n",
                "\\approx \\sim \\cong \\equiv \\prec\\qquad  \r\n",
                "\\infty \\aleph \\nabla \\partial\\qquad  \r\n",
                "\\epsilon \\varepsilon\\qquad  \r\n",
                "\\phi \\varphi\\qquad  \r\n",
                "\\left \\lbrace \\sum_{i=0}^n i^2 = \\frac{(n^2+n)(2n+1)}{6} \\right\\rbrace \\qquad  \r\n",
                "\\left( \\sum_{k=\\frac{1}{2}}^{N^2}\\frac{1}{k} \\right)\\qquad  \r\n",
                "\\left. \\frac{\\partial f(x, y)}{\\partial x}\\right|_{x=0}\\qquad  \r\n",
                "\\left\\lbrace\\begin{aligned}a\\\\a\\\\a\\\\\\end{aligned}\\right\\rbrace \\qquad  \r\n",
                "\\left\\lbrace\\begin{aligned}  \r\n",
                "a_1x+b_1y+c_1z &=d_1+e_1 \\\\\\ \r\n",
                "a_2x+b_2y &=d_2 \\\\\\ \r\n",
                "a_3x+b_3y+c_3z &=d_3\r\n",
                "\\end{aligned}\\right\\rbrace \\qquad  \r\n",
                "$$\r\n"
            ],
            "metadata": {}
        },
        {
            "cell_type": "markdown",
            "source": [
                "<table><tr><th>int</th><th>long</th><th>float</th><th>complex</th></tr>\r\n",
                "<tr><td>10</td><td>51924361L</td><td>0.0</td><td>3.14j</td></tr>\r\n",
                "<tr><td>100</td><td>-0x19323L</td><td>15.20</td><td>45.j</td></tr>\r\n",
                "<tr><td>-786</td><td>0122L</td><td>-21.9</td><td>9.322e-36j</td></tr>\r\n",
                "<tr><td>080</td><td>0xDEFABCECBDAECBFBAEl</td><td>32.3e+18</td><td>.876j</td></tr>\r\n",
                "<tr><td>-0490</td><td>535633629843L</td><td>-90.</td><td>-.6545+0J</td></tr>\r\n",
                "<tr><td>-0x260</td><td>-052318172735L</td><td>-32.54e100</td><td>3e+26J</td></tr>\r\n",
                "<tr><td>0x69</td><td>-4721885298529L</td><td>70.2E-12</td><td>4.53e-7j</td></tr>\r\n",
                "</table>"
            ],
            "metadata": {}
        }
    ],
    "metadata": {
        "orig_nbformat": 4,
        "language_info": {
            "name": "python",
            "version": "3.9.7",
            "mimetype": "text/x-python",
            "codemirror_mode": {
                "name": "ipython",
                "version": 3
            },
            "pygments_lexer": "ipython3",
            "nbconvert_exporter": "python",
            "file_extension": ".py"
        },
        "kernelspec": {
            "name": "python3",
            "display_name": "Python 3.9.7 64-bit"
        },
        "interpreter": {
            "hash": "b77746e9332ffa618d6f1b0c30b3b999bda6b9685dc073ddc506779c9ceef622"
        }
    },
    "nbformat": 4,
    "nbformat_minor": 2
}