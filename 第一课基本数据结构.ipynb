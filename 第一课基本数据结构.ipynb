{
    "cells": [
        {
            "cell_type": "markdown",
            "source": [
                "第一讲 基本数据结构\r\n",
                "1.1 Number（数字）\r\n",
                "Python3 支持 int、float、bool、complex（复数）。\r\n",
                "\r\n",
                "在Python 3里，只有一种整数类型 int，表示为长整型，没有 python2 中的 Long。\r\n",
                "\r\n",
                "像大多数语言一样，数值类型的赋值和计算都是很直观的。\r\n",
                "\r\n",
                "内置的 type() 函数可以用来查询变量所指的对象类型。"
            ],
            "metadata": {}
        },
        {
            "cell_type": "code",
            "execution_count": 7,
            "source": [
                "type(1)"
            ],
            "outputs": [
                {
                    "output_type": "execute_result",
                    "data": {
                        "text/plain": [
                            "int"
                        ]
                    },
                    "metadata": {},
                    "execution_count": 7
                }
            ],
            "metadata": {}
        },
        {
            "cell_type": "markdown",
            "source": [
                "1.2 标准数据类型\r\n",
                "Python3 中有六个标准的数据类型：\r\n",
                "\r\n",
                "Number（数字）\r\n",
                "String（字符串）\r\n",
                "List（列表）\r\n",
                "Tuple（元组）\r\n",
                "Set（集合）\r\n",
                "Dictionary（字典）\r\n",
                "Python3 的六个标准数据类型中：\r\n",
                "\r\n",
                "不可变数据（3 个）：Number（数字）、String（字符串）、Tuple（元组）；\r\n",
                "可变数据（3 个）：List（列表）、Dictionary（字典）、Set（集合）。"
            ],
            "metadata": {}
        },
        {
            "cell_type": "code",
            "execution_count": 8,
            "source": [
                "counter = 100       # 整型变量\r\n",
                "miles = 1000.0      # 浮点型变量\r\n",
                "name = \"runoob\"         # 字符串\r\n",
                "list1  = [1, 2, 3, 4, 5] # 列表\r\n",
                "tup1 = (1, 2, 3, 4, 5)  # 元 组\r\n",
                "dict = {'name': '张三', 'age': 15, 'Mail': 'zhs@163.com'} # 字典\r\n",
                "basket = {'apple', 'orange', 'apple', 'pear', 'orange', 'banana'} # 集合\r\n",
                "print(counter)\r\n",
                "print(miles)\r\n",
                "print(name)\r\n",
                "print(basket)\r\n"
            ],
            "outputs": [
                {
                    "output_type": "stream",
                    "name": "stdout",
                    "text": [
                        "100\n",
                        "1000.0\n",
                        "runoob\n",
                        "{'name': '张三', 'age': 15, 'Mail': 'zhs@163.com'}\n"
                    ]
                }
            ],
            "metadata": {}
        },
        {
            "cell_type": "code",
            "execution_count": null,
            "source": [],
            "outputs": [],
            "metadata": {}
        }
    ],
    "metadata": {
        "orig_nbformat": 4,
        "language_info": {
            "name": "python",
            "version": "3.8.3",
            "mimetype": "text/x-python",
            "codemirror_mode": {
                "name": "ipython",
                "version": 3
            },
            "pygments_lexer": "ipython3",
            "nbconvert_exporter": "python",
            "file_extension": ".py"
        },
        "kernelspec": {
            "name": "python3",
            "display_name": "Python 3.8.3 64-bit"
        },
        "interpreter": {
            "hash": "b9a268b5177726dfc8309705247cfe1b4d61ba67b2db514b67fc3d8c419bc535"
        }
    },
    "nbformat": 4,
    "nbformat_minor": 2
}