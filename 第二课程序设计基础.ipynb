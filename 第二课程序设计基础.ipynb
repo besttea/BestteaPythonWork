{
 "cells": [
  {
   "cell_type": "markdown",
   "source": [
    "<img src=\".\\\\diyLogo.png\" alt=\"some_text\">\r\n",
    "<h1> 第二讲 程序设计基础</h1>\r\n",
    "<a id=backup></a>\r\n",
    "<H2>目录</H2>  \r\n",
    "\r\n",
    "[2.1 程序执行过程](#Section1)  \r\n",
    "[2.2 程序实例](#Section2)  \r\n",
    "[2.3 程序的基本结构](#Section3)     \r\n",
    "[2.4 顺序结构](#Section4)  \r\n",
    "[2.5 分支结构](#Section5)  \r\n",
    "[2.6 循环结构](#Section6) "
   ],
   "metadata": {}
  },
  {
   "cell_type": "markdown",
   "source": [
    "<a id = Section1> </a>\r\n",
    "## 2.1 程序执行过程\r\n",
    "\r\n"
   ],
   "metadata": {}
  },
  {
   "cell_type": "code",
   "execution_count": 4,
   "source": [
    "import numpy as np\r\n",
    "import matplotlib as mpl\r\n",
    "import matplotlib.pyplot as plt\r\n",
    "x = np.linspace(0,2*np.pi)\r\n",
    "plt.plot(x,np.sin(x),x,np.cos(x))"
   ],
   "outputs": [
    {
     "output_type": "execute_result",
     "data": {
      "text/plain": [
       "[<matplotlib.lines.Line2D at 0x2247d58f940>,\n",
       " <matplotlib.lines.Line2D at 0x2247d58f970>]"
      ]
     },
     "metadata": {},
     "execution_count": 4
    },
    {
     "output_type": "display_data",
     "data": {
      "image/png": "[encoded data removed]",
      "text/plain": [
       "<Figure size 432x288 with 1 Axes>"
      ]
     },
     "metadata": {
      "needs_background": "light"
     }
    }
   ],
   "metadata": {}
  },
  {
   "cell_type": "markdown",
   "source": [
    "## 程序设计语言：机器语言、汇编语言、高级语言\r\n",
    "## 编译和解释\r\n",
    "编译：fortran C C++ C#\r\n",
    "解释：basic JavaScript PHP \r\n",
    "Python？？？\r\n",
    "Python语言执行的几种方式：\r\n",
    "\r\n",
    "分析程序执行过程-IPO：  \r\n",
    "a. Input模块：  \r\n",
    "b. Process模块：  \r\n",
    "c. Output模块：  \r\n",
    "\r\n",
    "\r\n",
    "\r\n",
    "[返回](#backup)"
   ],
   "metadata": {}
  },
  {
   "cell_type": "code",
   "execution_count": null,
   "source": [],
   "outputs": [],
   "metadata": {}
  },
  {
   "cell_type": "markdown",
   "source": [
    "<a id = Section2> </a>\r\n",
    "## 2.2 程序实例\r\n",
    "\r\n",
    "<p><a href=\"https://yanghailin.blog.csdn.net/article/details/81126087?utm_medium=distribute.pc_relevant.none-task-blog-2%7Edefault%7EBlogCommendFromBaidu%7Edefault-5.no_search_link&depth_1-utm_source=distribute.pc_relevant.none-task-blog-2%7Edefault%7EBlogCommendFromBaidu%7Edefault-5.no_search_link\">\r\n",
    "this is example of python</a></p"
   ],
   "metadata": {}
  },
  {
   "cell_type": "code",
   "execution_count": 2,
   "source": [
    "\"\"\"\r\n",
    "Created on Thu Jul 19 19:51:08 2018\r\n",
    "有四个数字：1、2、3、4，能组成多少个互不相同且无重复数字的三位数？各是多少？\r\n",
    "@author: yhl\r\n",
    "\"\"\"\r\n",
    " \r\n",
    "L=[]\r\n",
    "a=[1,2,3,4]\r\n",
    " \r\n",
    "#for i in range(len(a)):\r\n",
    " \r\n",
    "for val_1 in a:   #   for(i=1;i<n;I++)\r\n",
    "    for val_2 in a:\r\n",
    "        for val_3 in a:\r\n",
    "            if(val_1 == val_2 or val_1 == val_3 or val_2 == val_3):\r\n",
    "                continue;\r\n",
    "            else:\r\n",
    "                L.append(str(val_1)+str(val_2)+str(val_3))\r\n",
    " \r\n",
    " \r\n",
    "print(len(L)) \r\n",
    "print (L)"
   ],
   "outputs": [
    {
     "output_type": "stream",
     "name": "stdout",
     "text": [
      "24\n",
      "['123', '124', '132', '134', '142', '143', '213', '214', '231', '234', '241', '243', '312', '314', '321', '324', '341', '342', '412', '413', '421', '423', '431', '432']\n"
     ]
    }
   ],
   "metadata": {}
  },
  {
   "cell_type": "code",
   "execution_count": 4,
   "source": [
    "n=0\r\n",
    "for i in range(1,5):\r\n",
    "    for j in range(1,5):\r\n",
    "        for k in range(1,5):\r\n",
    "            if( i != k ) and (i != j) and (j != k):\r\n",
    "                n=n+1\r\n",
    "                print (i,j,k,\"n=\",n)"
   ],
   "outputs": [
    {
     "output_type": "stream",
     "name": "stdout",
     "text": [
      "1 2 3 n= 1\n",
      "1 2 4 n= 2\n",
      "1 3 2 n= 3\n",
      "1 3 4 n= 4\n",
      "1 4 2 n= 5\n",
      "1 4 3 n= 6\n",
      "2 1 3 n= 7\n",
      "2 1 4 n= 8\n",
      "2 3 1 n= 9\n",
      "2 3 4 n= 10\n",
      "2 4 1 n= 11\n",
      "2 4 3 n= 12\n",
      "3 1 2 n= 13\n",
      "3 1 4 n= 14\n",
      "3 2 1 n= 15\n",
      "3 2 4 n= 16\n",
      "3 4 1 n= 17\n",
      "3 4 2 n= 18\n",
      "4 1 2 n= 19\n",
      "4 1 3 n= 20\n",
      "4 2 1 n= 21\n",
      "4 2 3 n= 22\n",
      "4 3 1 n= 23\n",
      "4 3 2 n= 24\n"
     ]
    }
   ],
   "metadata": {}
  },
  {
   "cell_type": "code",
   "execution_count": 3,
   "source": [
    "'''\r\n",
    "企业发放的奖金根据利润提成。\r\n",
    "利润(I)低于或等于10万元时，奖金可提10%；\r\n",
    "利润高于10万元，低于20万元时，低于10万元的部分\r\n",
    "按10%提成，高于10万元的部分，可提成7.5%；\r\n",
    "20万到40万之间时，高于20万元的部分，可提成5%；\r\n",
    "40万到60万之间时高于40万元的部分，可提成3%；\r\n",
    "60万到100万之间时，高于60万元的部分，可提成1.5%;\r\n",
    "高于100万元时,超过100万元的部分按1%提成。\r\n",
    "从键盘输入当月利润I，求应发放奖金总数？\r\n",
    "'''\r\n",
    " \r\n",
    "profit = 0\r\n",
    "I = int(input(\"please input: \"))\r\n",
    "if(I<=10):\r\n",
    "    profit = 0.1 * I\r\n",
    "elif(I <= 20):\r\n",
    "    profit = 10 *0.1 + (I - 10)*0.075\r\n",
    "elif(I <=40):\r\n",
    "    profit = 10 * 0.1 + (20 - 10)*0.075 + (I - 20)*0.05\r\n",
    "elif(I <= 60):\r\n",
    "    profit = 10 * 0.1 + (20 - 10)*0.075 + (40 - 20)*0.05 + (I - 40)*0.03\r\n",
    "elif(I <= 100):\r\n",
    "    profit = 10 * 0.1 + (20 - 10)*0.075 + (40 - 20)*0.05 + (60 - 40)*0.03 + (I - 60)*0.015\r\n",
    "else : \r\n",
    "    profit = 10 * 0.1 + (20 - 10)*0.075 + (40 - 20)*0.05 + (60 - 40)*0.03 + (100 - 60)*0.015 + (I -100)*0.01\r\n",
    "    \r\n",
    "print (\"profit=\",profit)\r\n",
    "        "
   ],
   "outputs": [
    {
     "output_type": "stream",
     "name": "stdout",
     "text": [
      "profit= 4.45\n"
     ]
    }
   ],
   "metadata": {}
  },
  {
   "cell_type": "code",
   "execution_count": 12,
   "source": [
    "i = int(input('净利润:'))\r\n",
    "arr = [1000000,600000,400000,200000,100000,0]\r\n",
    "rat = [0.01,0.015,0.03,0.05,0.075,0.1]\r\n",
    "r = 0\r\n",
    "for idx in range(0,6):\r\n",
    "    if i>arr[idx]:\r\n",
    "        r+=(i-arr[idx])*rat[idx]#r=r+nnn\r\n",
    "        print((i-arr[idx])*rat[idx])\r\n",
    "        i=arr[idx]\r\n",
    "print (\"profit=\",r)"
   ],
   "outputs": [
    {
     "output_type": "stream",
     "name": "stdout",
     "text": [
      "5000.0\n",
      "6000.0\n",
      "6000.0\n",
      "10000.0\n",
      "7500.0\n",
      "10000.0\n",
      "profit= 44500.0\n"
     ]
    }
   ],
   "metadata": {}
  },
  {
   "cell_type": "markdown",
   "source": [
    "### Python 数字类型转换\r\n",
    "有时候，我们需要对数据内置的类型进行转换，数据类型的转换，你只需要将数据类型作为函数名即可。\r\n",
    "\r\n",
    "int(x) 将x转换为一个整数。\r\n",
    "\r\n",
    "float(x) 将x转换到一个浮点数。\r\n",
    "\r\n",
    "complex(x) 将x转换到一个复数，实数部分为 x，虚数部分为 0。\r\n",
    "\r\n",
    "complex(x, y) 将 x 和 y 转换到一个复数，实数部分为 x，虚数部分为 y。x 和 y 是数字表达式。"
   ],
   "metadata": {}
  },
  {
   "cell_type": "markdown",
   "source": [
    "<a id=Section3></a>\r\n",
    "## 2.3程序的基本结构\r\n",
    "结构化程序的三大基本结构：\r\n",
    "\r\n",
    "a.顺序结构  \r\n",
    "b.分支结构  \r\n",
    "c.循环结构  \r\n",
    "\r\n",
    "\r\n",
    "\r\n",
    "\r\n",
    "[返回](#backup)"
   ],
   "metadata": {}
  },
  {
   "cell_type": "markdown",
   "source": [
    "<a id=Section4></a>\r\n",
    "## 2.4顺序结构\r\n",
    "\r\n",
    "### 数学函数\r\n",
    "<table><tr>\r\n",
    "<th>函数</th><th>返回值 ( 描述 )</th></tr>\r\n",
    "<tr><td><a target=\"_blank\" href=\"/python3/python3-func-number-abs.html\" rel=\"noopener noreferrer\">abs(x)</a></td><td>返回数字的绝对值，如abs(-10) 返回 10</td></tr>\r\n",
    "<tr><td><a target=\"_blank\" href=\"/python3/python3-func-number-ceil.html\" rel=\"noopener noreferrer\">ceil(x) </a></td><td>返回数字的上入整数，如math.ceil(4.1) 返回 5</td></tr>\r\n",
    "<tr><td><p>cmp(x, y)</p></td>\r\n",
    "<td>如果 x &lt; y 返回 -1, 如果 x == y 返回 0, 如果 x &gt; y 返回 1。 <strong style=\"color:red\">Python 3 已废弃，使用 (x&gt;y)-(x&lt;y) 替换</strong>。 </td>\r\n",
    "</tr>\r\n",
    "<tr><td><a target=\"_blank\" href=\"/python3/python3-func-number-exp.html\" rel=\"noopener noreferrer\">exp(x) </a></td><td>返回e的x次幂(e<sup>x</sup>),如math.exp(1) 返回2.718281828459045</td></tr>\r\n",
    "<tr><td><a target=\"_blank\" href=\"/python3/python3-func-number-fabs.html\" rel=\"noopener noreferrer\">fabs(x)</a></td><td>返回数字的绝对值，如math.fabs(-10) 返回10.0</td></tr>\r\n",
    "<tr><td><a target=\"_blank\" href=\"/python3/python3-func-number-floor.html\" rel=\"noopener noreferrer\">floor(x) </a></td><td>返回数字的下舍整数，如math.floor(4.9)返回 4</td></tr>\r\n",
    "<tr><td><a target=\"_blank\" href=\"/python3/python3-func-number-log.html\" rel=\"noopener noreferrer\">log(x) </a></td><td>如math.log(math.e)返回1.0,math.log(100,10)返回2.0</td></tr>\r\n",
    "<tr><td><a target=\"_blank\" href=\"/python3/python3-func-number-log10.html\" rel=\"noopener noreferrer\">log10(x) </a></td><td>返回以10为基数的x的对数，如math.log10(100)返回 2.0</td></tr>\r\n",
    "<tr><td><a target=\"_blank\" href=\"/python3/python3-func-number-max.html\" rel=\"noopener noreferrer\">max(x1, x2,...) </a></td><td>返回给定参数的最大值，参数可以为序列。</td></tr>\r\n",
    "<tr><td><a target=\"_blank\" href=\"/python3/python3-func-number-min.html\" rel=\"noopener noreferrer\">min(x1, x2,...) </a></td><td>返回给定参数的最小值，参数可以为序列。</td></tr>\r\n",
    "<tr><td><a target=\"_blank\" href=\"/python3/python3-func-number-modf.html\" rel=\"noopener noreferrer\">modf(x) </a></td><td>返回x的整数部分与小数部分，两部分的数值符号与x相同，整数部分以浮点型表示。</td></tr>\r\n",
    "<tr><td><a target=\"_blank\" href=\"/python3/python3-func-number-pow.html\" rel=\"noopener noreferrer\">pow(x, y)</a></td><td> x**y 运算后的值。</td></tr>\r\n",
    "<tr><td><a target=\"_blank\" href=\"/python3/python3-func-number-round.html\" rel=\"noopener noreferrer\">round(x [,n])</a></td><td><p>返回浮点数 x 的四舍五入值，如给出 n 值，则代表舍入到小数点后的位数。</p>\r\n",
    "<p><strong>其实准确的说是保留值将保留到离上一位更近的一端。</strong></p>\r\n",
    "</td></tr>\r\n",
    "<tr><td><a target=\"_blank\" href=\"/python3/python3-func-number-sqrt.html\" rel=\"noopener noreferrer\">sqrt(x) </a></td><td>返回数字x的平方根。</td></tr>\r\n",
    "</table>\r\n",
    "\r\n",
    "### 随机数函数\r\n",
    "随机数可以用于数学，游戏，安全等领域中，还经常被嵌入到算法中，用以提高算法效率，并提高程序的安全性。\r\n",
    "\r\n",
    "Python包含以下常用随机数函数：\r\n",
    "\r\n",
    "<table><tr>\r\n",
    "<th>函数</th><th>描述</th></tr>\r\n",
    "<tr><td><a target=\"_blank\" href=\"/python3/python3-func-number-choice.html\" rel=\"noopener noreferrer\">choice(seq)</a></td><td>从序列的元素中随机挑选一个元素，比如random.choice(range(10))，从0到9中随机挑选一个整数。</td></tr>\r\n",
    "<tr><td><a target=\"_blank\" href=\"/python3/python3-func-number-randrange.html\" rel=\"noopener noreferrer\">randrange ([start,] stop [,step]) </a></td><td>从指定范围内，按指定基数递增的集合中获取一个随机数，基数默认值为 1</td></tr>\r\n",
    "<tr><td><a target=\"_blank\" href=\"/python3/python3-func-number-random.html\" rel=\"noopener noreferrer\">random() </a></td><td> 随机生成下一个实数，它在[0,1)范围内。</td></tr>\r\n",
    "<tr><td><a target=\"_blank\" href=\"/python3/python3-func-number-seed.html\" rel=\"noopener noreferrer\">seed([x]) </a></td><td>改变随机数生成器的种子seed。如果你不了解其原理，你不必特别去设定seed，Python会帮你选择seed。</td></tr>\r\n",
    "<tr><td><a target=\"_blank\" href=\"/python3/python3-func-number-shuffle.html\" rel=\"noopener noreferrer\">shuffle(lst) </a></td><td>将序列的所有元素随机排序</td></tr>\r\n",
    "<tr><td><a target=\"_blank\" href=\"/python3/python3-func-number-uniform.html\" rel=\"noopener noreferrer\">uniform(x, y)</a></td><td>随机生成下一个实数，它在[x,y]范围内。</td></tr>\r\n",
    "</table>\r\n",
    "\r\n",
    "### 三角函数\r\n",
    "Python包括以下三角函数：\r\n",
    "<table><tr>\r\n",
    "<th>函数</th><th>描述</th></tr>\r\n",
    "<tr><td><a target=\"_blank\" href=\"/python3/python3-func-number-acos.html\" rel=\"noopener noreferrer\">acos(x)</a></td><td>返回x的反余弦弧度值。</td></tr>\r\n",
    "<tr><td><a target=\"_blank\" href=\"/python3/python3-func-number-asin.html\" rel=\"noopener noreferrer\">asin(x)</a></td><td>返回x的反正弦弧度值。</td></tr>\r\n",
    "<tr><td><a target=\"_blank\" href=\"/python3/python3-func-number-atan.html\" rel=\"noopener noreferrer\">atan(x)</a></td><td>返回x的反正切弧度值。</td></tr>\r\n",
    "<tr><td><a target=\"_blank\" href=\"/python3/python3-func-number-atan2.html\" rel=\"noopener noreferrer\">atan2(y, x)</a></td><td>返回给定的 X 及 Y 坐标值的反正切值。</td></tr>\r\n",
    "<tr><td><a target=\"_blank\" href=\"/python3/python3-func-number-cos.html\" rel=\"noopener noreferrer\">cos(x)</a></td><td>返回x的弧度的余弦值。</td></tr>\r\n",
    "<tr><td><a target=\"_blank\" href=\"/python3/python3-func-number-hypot.html\" rel=\"noopener noreferrer\">hypot(x, y)</a></td><td>返回欧几里德范数 sqrt(x*x + y*y)。 </td></tr>\r\n",
    "<tr><td><a target=\"_blank\" href=\"/python3/python3-func-number-sin.html\" rel=\"noopener noreferrer\">sin(x)</a></td><td>返回的x弧度的正弦值。</td></tr>\r\n",
    "<tr><td><a target=\"_blank\" href=\"/python3/python3-func-number-tan.html\" rel=\"noopener noreferrer\">tan(x)</a></td><td>返回x弧度的正切值。</td></tr>\r\n",
    "<tr><td><a target=\"_blank\" href=\"/python3/python3-func-number-degrees.html\" rel=\"noopener noreferrer\">degrees(x)</a></td><td>将弧度转换为角度,如degrees(math.pi/2) ，  返回90.0</td></tr>\r\n",
    "<tr><td><a target=\"_blank\" href=\"/python3/python3-func-number-radians.html\" rel=\"noopener noreferrer\">radians(x)</a></td><td>将角度转换为弧度</td></tr>\r\n",
    "</table>\r\n",
    "\r\n",
    "### 数学常量\r\n",
    "\r\n",
    "<table><tr>\r\n",
    "<th>常量</th><th>描述</th></tr>\r\n",
    "<tr><td>pi</td><td>数学常量 pi（圆周率，一般以π来表示）</td></tr>\r\n",
    "<tr><td>e</td><td>数学常量 e，e即自然常数（自然常数）。</td></tr>\r\n",
    "</table>\r\n",
    "\r\n",
    "[返回](#backup)"
   ],
   "metadata": {}
  },
  {
   "cell_type": "code",
   "execution_count": 4,
   "source": [
    "import graphviz\r\n",
    "dot=graphviz.Digraph(comment='the round table',name=\"顺序结构\",node_attr={'shape': 'box'})\r\n",
    "dot.node('1','Start')\r\n",
    "dot.node('2','input Radius =?',shape='parallelogram')\r\n",
    "dot.node('3','Print Radius')\r\n",
    "dot.node('4','Caculating Area')\r\n",
    "dot.node('5','Caculating perimeter')\r\n",
    "dot.node('6','print')\r\n",
    "dot.node('7','end')\r\n",
    "dot.edges(['12','23','34','45','56','67'])\r\n",
    "dot"
   ],
   "outputs": [
    {
     "output_type": "execute_result",
     "data": {
      "image/svg+xml": "<?xml version=\"1.0\" encoding=\"UTF-8\" standalone=\"no\"?>\r\n<!DOCTYPE svg PUBLIC \"-//W3C//DTD SVG 1.1//EN\"\r\n \"http://www.w3.org/Graphics/SVG/1.1/DTD/svg11.dtd\">\r\n<!-- Generated by graphviz version 2.49.0 (20210828.1703)\r\n -->\r\n<!-- Title: 顺序结构 Pages: 1 -->\r\n<svg width=\"208pt\" height=\"476pt\"\r\n viewBox=\"0.00 0.00 208.12 476.00\" xmlns=\"http://www.w3.org/2000/svg\" xmlns:xlink=\"http://www.w3.org/1999/xlink\">\r\n<g id=\"graph0\" class=\"graph\" transform=\"scale(1 1) rotate(0) translate(4 472)\">\r\n<title>顺序结构</title>\r\n<polygon fill=\"white\" stroke=\"transparent\" points=\"-4,4 -4,-472 204.12,-472 204.12,4 -4,4\"/>\r\n<!-- 1 -->\r\n<g id=\"node1\" class=\"node\">\r\n<title>1</title>\r\n<polygon fill=\"none\" stroke=\"black\" points=\"127.06,-468 73.06,-468 73.06,-432 127.06,-432 127.06,-468\"/>\r\n<text text-anchor=\"middle\" x=\"100.06\" y=\"-446.3\" font-family=\"Times New Roman,serif\" font-size=\"14.00\">Start</text>\r\n</g>\r\n<!-- 2 -->\r\n<g id=\"node2\" class=\"node\">\r\n<title>2</title>\r\n<polygon fill=\"none\" stroke=\"black\" points=\"200.18,-396 40.91,-396 -0.06,-360 159.21,-360 200.18,-396\"/>\r\n<text text-anchor=\"middle\" x=\"100.06\" y=\"-374.3\" font-family=\"Times New Roman,serif\" font-size=\"14.00\">input Radius =?</text>\r\n</g>\r\n<!-- 1&#45;&gt;2 -->\r\n<g id=\"edge1\" class=\"edge\">\r\n<title>1&#45;&gt;2</title>\r\n<path fill=\"none\" stroke=\"black\" d=\"M100.06,-431.7C100.06,-423.98 100.06,-414.71 100.06,-406.11\"/>\r\n<polygon fill=\"black\" stroke=\"black\" points=\"103.56,-406.1 100.06,-396.1 96.56,-406.1 103.56,-406.1\"/>\r\n</g>\r\n<!-- 3 -->\r\n<g id=\"node3\" class=\"node\">\r\n<title>3</title>\r\n<polygon fill=\"none\" stroke=\"black\" points=\"143.06,-324 57.06,-324 57.06,-288 143.06,-288 143.06,-324\"/>\r\n<text text-anchor=\"middle\" x=\"100.06\" y=\"-302.3\" font-family=\"Times New Roman,serif\" font-size=\"14.00\">Print Radius</text>\r\n</g>\r\n<!-- 2&#45;&gt;3 -->\r\n<g id=\"edge2\" class=\"edge\">\r\n<title>2&#45;&gt;3</title>\r\n<path fill=\"none\" stroke=\"black\" d=\"M100.06,-359.7C100.06,-351.98 100.06,-342.71 100.06,-334.11\"/>\r\n<polygon fill=\"black\" stroke=\"black\" points=\"103.56,-334.1 100.06,-324.1 96.56,-334.1 103.56,-334.1\"/>\r\n</g>\r\n<!-- 4 -->\r\n<g id=\"node4\" class=\"node\">\r\n<title>4</title>\r\n<polygon fill=\"none\" stroke=\"black\" points=\"152.56,-252 47.56,-252 47.56,-216 152.56,-216 152.56,-252\"/>\r\n<text text-anchor=\"middle\" x=\"100.06\" y=\"-230.3\" font-family=\"Times New Roman,serif\" font-size=\"14.00\">Caculating Area</text>\r\n</g>\r\n<!-- 3&#45;&gt;4 -->\r\n<g id=\"edge3\" class=\"edge\">\r\n<title>3&#45;&gt;4</title>\r\n<path fill=\"none\" stroke=\"black\" d=\"M100.06,-287.7C100.06,-279.98 100.06,-270.71 100.06,-262.11\"/>\r\n<polygon fill=\"black\" stroke=\"black\" points=\"103.56,-262.1 100.06,-252.1 96.56,-262.1 103.56,-262.1\"/>\r\n</g>\r\n<!-- 5 -->\r\n<g id=\"node5\" class=\"node\">\r\n<title>5</title>\r\n<polygon fill=\"none\" stroke=\"black\" points=\"165.56,-180 34.56,-180 34.56,-144 165.56,-144 165.56,-180\"/>\r\n<text text-anchor=\"middle\" x=\"100.06\" y=\"-158.3\" font-family=\"Times New Roman,serif\" font-size=\"14.00\">Caculating perimeter</text>\r\n</g>\r\n<!-- 4&#45;&gt;5 -->\r\n<g id=\"edge4\" class=\"edge\">\r\n<title>4&#45;&gt;5</title>\r\n<path fill=\"none\" stroke=\"black\" d=\"M100.06,-215.7C100.06,-207.98 100.06,-198.71 100.06,-190.11\"/>\r\n<polygon fill=\"black\" stroke=\"black\" points=\"103.56,-190.1 100.06,-180.1 96.56,-190.1 103.56,-190.1\"/>\r\n</g>\r\n<!-- 6 -->\r\n<g id=\"node6\" class=\"node\">\r\n<title>6</title>\r\n<polygon fill=\"none\" stroke=\"black\" points=\"127.06,-108 73.06,-108 73.06,-72 127.06,-72 127.06,-108\"/>\r\n<text text-anchor=\"middle\" x=\"100.06\" y=\"-86.3\" font-family=\"Times New Roman,serif\" font-size=\"14.00\">print</text>\r\n</g>\r\n<!-- 5&#45;&gt;6 -->\r\n<g id=\"edge5\" class=\"edge\">\r\n<title>5&#45;&gt;6</title>\r\n<path fill=\"none\" stroke=\"black\" d=\"M100.06,-143.7C100.06,-135.98 100.06,-126.71 100.06,-118.11\"/>\r\n<polygon fill=\"black\" stroke=\"black\" points=\"103.56,-118.1 100.06,-108.1 96.56,-118.1 103.56,-118.1\"/>\r\n</g>\r\n<!-- 7 -->\r\n<g id=\"node7\" class=\"node\">\r\n<title>7</title>\r\n<polygon fill=\"none\" stroke=\"black\" points=\"127.06,-36 73.06,-36 73.06,0 127.06,0 127.06,-36\"/>\r\n<text text-anchor=\"middle\" x=\"100.06\" y=\"-14.3\" font-family=\"Times New Roman,serif\" font-size=\"14.00\">end</text>\r\n</g>\r\n<!-- 6&#45;&gt;7 -->\r\n<g id=\"edge6\" class=\"edge\">\r\n<title>6&#45;&gt;7</title>\r\n<path fill=\"none\" stroke=\"black\" d=\"M100.06,-71.7C100.06,-63.98 100.06,-54.71 100.06,-46.11\"/>\r\n<polygon fill=\"black\" stroke=\"black\" points=\"103.56,-46.1 100.06,-36.1 96.56,-46.1 103.56,-46.1\"/>\r\n</g>\r\n</g>\r\n</svg>\r\n",
      "text/plain": [
       "<graphviz.dot.Digraph at 0x1fe95ddfd60>"
      ]
     },
     "metadata": {},
     "execution_count": 4
    }
   ],
   "metadata": {}
  },
  {
   "cell_type": "code",
   "execution_count": 1,
   "source": [
    "''' \r\n",
    "计算圆周长\r\n",
    "'''\r\n",
    "Radius = eval(input(\"请输入圆半径:\"))\r\n",
    "print(\"Ridus=\",Radius)\r\n",
    "Area = 3.1415*Radius*Radius\r\n",
    "perimeter  = 2*3.1415*Radius \r\n",
    "print(\"面积和周长:\",Area,perimeter)\r\n",
    "\r\n"
   ],
   "outputs": [
    {
     "output_type": "stream",
     "name": "stdout",
     "text": [
      "Ridus= 15\n",
      "面积和周长: 706.8375000000001 94.245\n"
     ]
    }
   ],
   "metadata": {}
  },
  {
   "cell_type": "markdown",
   "source": [
    "<a id=section4></a>\r\n",
    "## 2.5分支结构\r\n",
    "### 2.5.1 Python比较运算符\r\n",
    "\r\n",
    "以下假设变量a为10，变量b为20：\r\n",
    "<table><tr>\r\n",
    "<th width=\"10%\">运算符</th><th>描述</th><th>实例</th>\r\n",
    "</tr>\r\n",
    "<tr>\r\n",
    "<td>==</td><td> 等于 - 比较对象是否相等</td><td> (a == b) 返回 False。 </td>\r\n",
    "</tr>\r\n",
    "<tr>\r\n",
    "<td>!=</td><td> 不等于 - 比较两个对象是否不相等</td><td> (a != b) 返回 True。 </td>\r\n",
    "</tr>\r\n",
    "\r\n",
    "<tr>\r\n",
    "<td>&gt;</td><td> 大于 - 返回x是否大于y</td><td> (a &gt; b) 返回 False。</td>\r\n",
    "</tr>\r\n",
    "<tr>\r\n",
    "<td>&lt;</td><td> 小于 - 返回x是否小于y。所有比较运算符返回1表示真，返回0表示假。这分别与特殊的变量True和False等价。注意，这些变量名的大写。</td><td> (a &lt; b) 返回 True。 </td>\r\n",
    "</tr>\r\n",
    "<tr>\r\n",
    "<td>&gt;=</td><td> 大于等于 - 返回x是否大于等于y。</td><td> (a &gt;= b) 返回 False。</td>\r\n",
    "\r\n",
    "</tr>\r\n",
    "<tr>\r\n",
    "<td>&lt;=</td><td> 小于等于 - 返回x是否小于等于y。</td><td> (a &lt;= b) 返回 True。 </td>\r\n",
    "</tr>\r\n",
    "</table>\r\n",
    "\r\n",
    "### 2.5.2 Python逻辑运算符        \r\n",
    "Python语言支持逻辑运算符，以下假设变量 a 为 10, b为 20:\r\n",
    "<table><tr>\r\n",
    "<th>运算符</th><th>逻辑表达式</th><th>描述</th><th>实例</th>\r\n",
    "</tr>\r\n",
    "<tr>\r\n",
    "<td>and</td><td>x and y</td><td> 布尔\"与\" - 如果 x 为 False，x and y 返回 x 的值，否则返回 y 的计算值。  </td><td> (a and b) 返回 20。</td>\r\n",
    "</tr>\r\n",
    "<tr>\r\n",
    "<td>or</td><td>x or y</td><td>布尔\"或\" - 如果 x 是 True，它返回 x 的值，否则它返回 y 的计算值。</td><td> (a or b) 返回 10。</td>\r\n",
    "</tr>\r\n",
    "<tr><td>not</td><td>not x</td><td>布尔\"非\" - 如果 x 为 True，返回 False 。如果 x 为 False，它返回 True。</td><td> not(a and b) 返回 False </td>\r\n",
    "</tr>\r\n",
    "</table>\r\n",
    "\r\n",
    "[返回](#backup)"
   ],
   "metadata": {}
  },
  {
   "cell_type": "markdown",
   "source": [
    "### 2.5.3 条件控制语句\r\n",
    "Python 条件语句是通过一条或多条语句的执行结果（True 或者 False）来决定执行的代码块。\r\n",
    "\r\n",
    "可以通过下图来简单了解条件语句的执行过程:\r\n",
    "\r\n",
    "<img src=\".//img//if-condition.jpg\" width=\"250\"></img>\r\n",
    "\r\n",
    "<img src=\".//img//python-if.webp\" width=\"150\"></img>"
   ],
   "metadata": {}
  },
  {
   "cell_type": "markdown",
   "source": [
    "### 例题 求绝对值。\r\n",
    "\r\n",
    "输入：x\r\n",
    "$$\r\n",
    "\\begin{align}\r\n",
    "&&\\left|y\\right |= \\left\\{\\begin{matrix}\r\n",
    "x & if \\: x\\geq 0\\\\-x& if \\:x< 0\r\n",
    "\\end{matrix}\\right.{\\color{Red} }\r\n",
    "\\end{align}\r\n",
    "$$\r\n",
    "输出：y"
   ],
   "metadata": {}
  },
  {
   "cell_type": "code",
   "execution_count": 7,
   "source": [
    "dot=graphviz.Digraph(comment='the round table',name=\"分支结构\",node_attr={'shape': 'box'})\r\n",
    "dot.node('1','开始')\r\n",
    "dot.node('2','输入Real Number =?',shape='parallelogram')\r\n",
    "dot.node('3','判断RealNumber是否大于0？',shape='diamond')\r\n",
    "dot.node('4','RealNumber=RealNumber')\r\n",
    "dot.node('5','RealNumber=-RealNumber')\r\n",
    "dot.node('6','输出绝对值',shape='parallelogram')\r\n",
    "dot.node('7','结束')\r\n",
    "dot.edges(['12','23','34','35','46','56','67'])\r\n",
    "dot"
   ],
   "outputs": [
    {
     "output_type": "execute_result",
     "data": {
      "image/svg+xml": "<?xml version=\"1.0\" encoding=\"UTF-8\" standalone=\"no\"?>\r\n<!DOCTYPE svg PUBLIC \"-//W3C//DTD SVG 1.1//EN\"\r\n \"http://www.w3.org/Graphics/SVG/1.1/DTD/svg11.dtd\">\r\n<!-- Generated by graphviz version 2.49.0 (20210828.1703)\r\n -->\r\n<!-- Title: 分支结构 Pages: 1 -->\r\n<svg width=\"401pt\" height=\"404pt\"\r\n viewBox=\"0.00 0.00 401.40 404.00\" xmlns=\"http://www.w3.org/2000/svg\" xmlns:xlink=\"http://www.w3.org/1999/xlink\">\r\n<g id=\"graph0\" class=\"graph\" transform=\"scale(1 1) rotate(0) translate(4 400)\">\r\n<title>分支结构</title>\r\n<polygon fill=\"white\" stroke=\"transparent\" points=\"-4,4 -4,-400 397.4,-400 397.4,4 -4,4\"/>\r\n<!-- 1 -->\r\n<g id=\"node1\" class=\"node\">\r\n<title>1</title>\r\n<polygon fill=\"none\" stroke=\"black\" points=\"223.7,-396 169.7,-396 169.7,-360 223.7,-360 223.7,-396\"/>\r\n<text text-anchor=\"middle\" x=\"196.7\" y=\"-374.3\" font-family=\"Times New Roman,serif\" font-size=\"14.00\">开始</text>\r\n</g>\r\n<!-- 2 -->\r\n<g id=\"node2\" class=\"node\">\r\n<title>2</title>\r\n<polygon fill=\"none\" stroke=\"black\" points=\"332.74,-324 116.33,-324 60.66,-288 277.07,-288 332.74,-324\"/>\r\n<text text-anchor=\"middle\" x=\"196.7\" y=\"-302.3\" font-family=\"Times New Roman,serif\" font-size=\"14.00\">输入Real Number =?</text>\r\n</g>\r\n<!-- 1&#45;&gt;2 -->\r\n<g id=\"edge1\" class=\"edge\">\r\n<title>1&#45;&gt;2</title>\r\n<path fill=\"none\" stroke=\"black\" d=\"M196.7,-359.7C196.7,-351.98 196.7,-342.71 196.7,-334.11\"/>\r\n<polygon fill=\"black\" stroke=\"black\" points=\"200.2,-334.1 196.7,-324.1 193.2,-334.1 200.2,-334.1\"/>\r\n</g>\r\n<!-- 3 -->\r\n<g id=\"node3\" class=\"node\">\r\n<title>3</title>\r\n<polygon fill=\"none\" stroke=\"black\" points=\"196.7,-252 -0.2,-234 196.7,-216 393.6,-234 196.7,-252\"/>\r\n<text text-anchor=\"middle\" x=\"196.7\" y=\"-230.3\" font-family=\"Times New Roman,serif\" font-size=\"14.00\">判断RealNumber是否大于0？</text>\r\n</g>\r\n<!-- 2&#45;&gt;3 -->\r\n<g id=\"edge2\" class=\"edge\">\r\n<title>2&#45;&gt;3</title>\r\n<path fill=\"none\" stroke=\"black\" d=\"M196.7,-287.7C196.7,-279.98 196.7,-270.71 196.7,-262.11\"/>\r\n<polygon fill=\"black\" stroke=\"black\" points=\"200.2,-262.1 196.7,-252.1 193.2,-262.1 200.2,-262.1\"/>\r\n</g>\r\n<!-- 4 -->\r\n<g id=\"node4\" class=\"node\">\r\n<title>4</title>\r\n<polygon fill=\"none\" stroke=\"black\" points=\"186.7,-180 22.7,-180 22.7,-144 186.7,-144 186.7,-180\"/>\r\n<text text-anchor=\"middle\" x=\"104.7\" y=\"-158.3\" font-family=\"Times New Roman,serif\" font-size=\"14.00\">RealNumber=RealNumber</text>\r\n</g>\r\n<!-- 3&#45;&gt;4 -->\r\n<g id=\"edge3\" class=\"edge\">\r\n<title>3&#45;&gt;4</title>\r\n<path fill=\"none\" stroke=\"black\" d=\"M176.74,-217.81C164.66,-208.62 149.01,-196.71 135.38,-186.34\"/>\r\n<polygon fill=\"black\" stroke=\"black\" points=\"137.29,-183.4 127.21,-180.13 133.05,-188.97 137.29,-183.4\"/>\r\n</g>\r\n<!-- 5 -->\r\n<g id=\"node5\" class=\"node\">\r\n<title>5</title>\r\n<polygon fill=\"none\" stroke=\"black\" points=\"374.2,-180 205.2,-180 205.2,-144 374.2,-144 374.2,-180\"/>\r\n<text text-anchor=\"middle\" x=\"289.7\" y=\"-158.3\" font-family=\"Times New Roman,serif\" font-size=\"14.00\">RealNumber=&#45;RealNumber</text>\r\n</g>\r\n<!-- 3&#45;&gt;5 -->\r\n<g id=\"edge4\" class=\"edge\">\r\n<title>3&#45;&gt;5</title>\r\n<path fill=\"none\" stroke=\"black\" d=\"M216.88,-217.81C229.09,-208.62 244.91,-196.71 258.68,-186.34\"/>\r\n<polygon fill=\"black\" stroke=\"black\" points=\"261.06,-188.94 266.95,-180.13 256.85,-183.34 261.06,-188.94\"/>\r\n</g>\r\n<!-- 6 -->\r\n<g id=\"node6\" class=\"node\">\r\n<title>6</title>\r\n<polygon fill=\"none\" stroke=\"black\" points=\"295.01,-108 138.62,-108 98.39,-72 254.78,-72 295.01,-108\"/>\r\n<text text-anchor=\"middle\" x=\"196.7\" y=\"-86.3\" font-family=\"Times New Roman,serif\" font-size=\"14.00\">输出绝对值</text>\r\n</g>\r\n<!-- 4&#45;&gt;6 -->\r\n<g id=\"edge5\" class=\"edge\">\r\n<title>4&#45;&gt;6</title>\r\n<path fill=\"none\" stroke=\"black\" d=\"M127.44,-143.7C139.14,-134.8 153.56,-123.82 166.21,-114.2\"/>\r\n<polygon fill=\"black\" stroke=\"black\" points=\"168.38,-116.94 174.22,-108.1 164.14,-111.37 168.38,-116.94\"/>\r\n</g>\r\n<!-- 5&#45;&gt;6 -->\r\n<g id=\"edge6\" class=\"edge\">\r\n<title>5&#45;&gt;6</title>\r\n<path fill=\"none\" stroke=\"black\" d=\"M266.71,-143.7C254.89,-134.8 240.31,-123.82 227.52,-114.2\"/>\r\n<polygon fill=\"black\" stroke=\"black\" points=\"229.52,-111.32 219.42,-108.1 225.31,-116.91 229.52,-111.32\"/>\r\n</g>\r\n<!-- 7 -->\r\n<g id=\"node7\" class=\"node\">\r\n<title>7</title>\r\n<polygon fill=\"none\" stroke=\"black\" points=\"223.7,-36 169.7,-36 169.7,0 223.7,0 223.7,-36\"/>\r\n<text text-anchor=\"middle\" x=\"196.7\" y=\"-14.3\" font-family=\"Times New Roman,serif\" font-size=\"14.00\">结束</text>\r\n</g>\r\n<!-- 6&#45;&gt;7 -->\r\n<g id=\"edge7\" class=\"edge\">\r\n<title>6&#45;&gt;7</title>\r\n<path fill=\"none\" stroke=\"black\" d=\"M196.7,-71.7C196.7,-63.98 196.7,-54.71 196.7,-46.11\"/>\r\n<polygon fill=\"black\" stroke=\"black\" points=\"200.2,-46.1 196.7,-36.1 193.2,-46.1 200.2,-46.1\"/>\r\n</g>\r\n</g>\r\n</svg>\r\n",
      "text/plain": [
       "<graphviz.dot.Digraph at 0x1fe95eae760>"
      ]
     },
     "metadata": {},
     "execution_count": 7
    }
   ],
   "metadata": {}
  },
  {
   "cell_type": "code",
   "execution_count": 5,
   "source": [
    "'''\r\n",
    "求绝对值。\r\n",
    "'''\r\n",
    "RealNumber = eval(input(\"输入实数:\"))\r\n",
    "\r\n",
    "if (RealNumber < 0):\r\n",
    "    RealNumber = -RealNumber\r\n",
    "print(\"绝对值:\",RealNumber)\r\n"
   ],
   "outputs": [
    {
     "output_type": "stream",
     "name": "stdout",
     "text": [
      "Real Number 3\n",
      "绝对值: 3\n"
     ]
    }
   ],
   "metadata": {}
  },
  {
   "cell_type": "markdown",
   "source": [
    "<a id=section6></a>\r\n",
    "## 2.6循环结构\r\n",
    "\r\n",
    "循环结构：\r\n",
    "\r\n",
    "while语句\r\n",
    "\r\n",
    "for语句\r\n",
    "\r\n",
    "循环分类：  \r\n",
    "当型循环  \r\n",
    "直到型循环  \r\n",
    "\r\n",
    "\r\n",
    "\r\n",
    "\r\n",
    "[返回](#backup)"
   ],
   "metadata": {}
  },
  {
   "cell_type": "code",
   "execution_count": 1,
   "source": [
    "char1 =\"a\"\r\n",
    "char2=\"b\"\r\n",
    "char3=\"c\"\r\n",
    "char=char1+char2+char3\r\n",
    "boor1=(char[2]==char3)\r\n",
    "print(boor1)"
   ],
   "outputs": [
    {
     "output_type": "stream",
     "name": "stdout",
     "text": [
      "True\n"
     ]
    }
   ],
   "metadata": {}
  },
  {
   "cell_type": "markdown",
   "source": [
    "### 例题 整数累加：  \r\n",
    "输入：正整数R    \r\n",
    "处理：  \r\n",
    "S=1+2+3+…+R  \r\n",
    "<img src=\"./img/int_add.png\" width=\"150\">  \r\n",
    "输出：输出S"
   ],
   "metadata": {}
  },
  {
   "cell_type": "code",
   "execution_count": 4,
   "source": [
    "R = eval(input(\"请输入正整数:\"))\r\n",
    "i, S = 0, 0\r\n",
    "while (i<=R):\r\n",
    "    S = S + i\r\n",
    "    i = i + 1\r\n",
    "print(\"累加求和\",S)\r\n"
   ],
   "outputs": [
    {
     "output_type": "stream",
     "name": "stdout",
     "text": [
      "累加求和 55\n"
     ]
    }
   ],
   "metadata": {}
  },
  {
   "cell_type": "markdown",
   "source": [
    "### Python 提供了 for 循环和 while 循环（在 Python 中没有 do..while 循环）:\r\n",
    "\r\n",
    "<table><tr><th style=\"width:30%\">循环类型</th><th>描述</th></tr>\r\n",
    "<tr><td><a href=\"/python/python-while-loop.html\" title=\"Python WHILE 循环\">while 循环</a></td><td>在给定的判断条件为 true 时执行循环体，否则退出循环体。</td></tr>\r\n",
    "<tr><td><a href=\"/python/python-for-loop.html\" title=\" Python FOR 循环\">for 循环</a></td><td>重复执行语句</td></tr>\r\n",
    "<tr><td><a href=\"/python/python-nested-loops.html\" title=\"Python 循环全套\">嵌套循环</a></td><td>你可以在while循环体中嵌套for循环</td></tr>\r\n",
    "</table>\r\n",
    "\r\n",
    "### 循环控制语句\r\n",
    "循环控制语句可以更改语句执行的顺序。Python支持以下循环控制语句：\r\n",
    "<table><tr><th style=\"width:30%\">控制语句</th><th>描述</th></tr>\r\n",
    "<tr><td><a href=\"/python/python-break-statement.html\" title=\"Python break 语句\">break 语句</a></td><td>在语句块执行过程中终止循环，并且跳出整个循环</td></tr>\r\n",
    "<tr><td><a href=\"/python/python-continue-statement.html\" title=\"Python  语句\">continue 语句</a></td><td>在语句块执行过程中终止当前循环，跳出该次循环，执行下一次循环。</td></tr>\r\n",
    "<tr><td><a href=\"/python/python-pass-statement.html\" title=\"Python pass 语句\">pass 语句</a></td><td>pass是空语句，是为了保持程序结构的完整性。</td></tr>\r\n",
    "</table>"
   ],
   "metadata": {}
  },
  {
   "cell_type": "markdown",
   "source": [
    "### 例题 绘制数字图画\r\n",
    "   <img src=\".//img//jqm1.jpg\" width=\"150 \" alt=\"机器猫\">"
   ],
   "metadata": {}
  },
  {
   "cell_type": "code",
   "execution_count": null,
   "source": [
    "import matplotlib.pyplot as plt\r\n",
    "show_heigth = 50\r\n",
    "show_width = 110\r\n",
    "#这两个数字是调出来的\r\n",
    "\r\n",
    "ascii_char = list(\r\n",
    "    \"$@B%8&WM#*oahkbdpqwmZO0QLCJUYXzcvunxrjft/\\|()1{}[]?-_+~<>i!lI;:,\\\"^`'. \")\r\n",
    "#生成一个ascii字符列表\r\n",
    "char_len = len(ascii_char)\r\n",
    "\r\n",
    "pic = plt.imread(\"..\\\\jqm1.jpg\")\r\n",
    "#使用plt.imread方法来读取图像，对于彩图，返回size = heigth*width*3的图像\r\n",
    "#matplotlib 中色彩排列是R G B\r\n",
    "#opencv的cv2中色彩排列是B G R\r\n",
    "\r\n",
    "pic_heigth, pic_width, _ = pic.shape\r\n",
    "#获取图像的高、宽\r\n",
    "\r\n",
    "gray = 0.2126 * pic[:, :, 0] + 0.7152 * pic[:, :, 1] + 0.0722 * pic[:, :, 2]\r\n",
    "#RGB转灰度图的公式 gray = 0.2126 * r + 0.7152 * g + 0.0722 * b\r\n",
    "\r\n",
    "#思路就是根据灰度值，映射到相应的ascii_char\r\n",
    "for i in range(show_heigth):\r\n",
    "    #根据比例映射到对应的像素\r\n",
    "    y = int(i * pic_heigth / show_heigth)\r\n",
    "    text = \"\"\r\n",
    "    for j in range(show_width):\r\n",
    "        x = int(j * pic_width / show_width)\r\n",
    "        text += ascii_char[int(gray[y][x] / 256 * char_len)]\r\n",
    "    print(text)"
   ],
   "outputs": [
    {
     "output_type": "stream",
     "name": "stdout",
     "text": [
      "                                                                                                              \n",
      "                                                                                                              \n",
      "                                                                                                              \n",
      "                                                                                                              \n",
      "                                                                                                              \n",
      "                                                                                                              \n",
      "                                                   .     .....                                                \n",
      "                                            \"}#cx1^\"..wnrruM``' ,Qnth) .                                      \n",
      "                                     . ''fcrrxn^..    '.&J. ..   ..zrxrjnw'                                   \n",
      "                                    ..Yzrxrxrrh.    .$@: (.$$`     ?frrxxrxfz`'                               \n",
      "                                   .bxrrrrrrrxb.    .B%$ ]U$$M     !fxrxxxrxjn%^                              \n",
      "                                ..>/xxrrrY%i`'\"`    ``.^Mx I`^    .0 .'Wurxrxrnf).                            \n",
      "                                \"drrrn8^' .    .<J`` `#Cqdbqi` '`W'       `Wjtrxr&                            \n",
      "                              . kxxjW . ..           8dbdbbb8.         ` .^'`&xxxrq                           \n",
      "                             . 0rrx: `     .rW, '.   '8dbbdo . .. ($j..  .  ..mbjxx .                         \n",
      "                             . xO. ...`          `      . ''               ..`  \"'Xz.                         \n",
      "                               m . ';1vCZZ0Q0QOZO0C^    `'    .'}Ld%$8*pOzf]:... .j*.                         \n",
      "                              ;w                .       `:       '               'Wd.                         \n",
      "                              `na    .`.)w@BJ-  '' ..  ..l''     ... '+h@u....  `QnM'                         \n",
      "                    ..f>'. x+^.vnOz0 '.. ...[M%kddkbdbbkbdbbbbkpb&B0'.....  . ,$xjjU                          \n",
      "                   ..        .q%xC. '`ddbbkbbbbkkbbbbbbbbbbbbbbbbbbbbkbbbkbp    nxx`                          \n",
      "                  '~           aJjU. '.*bbbbbbbbbbbbbbbbbbbbbbbbbbbbbbbbbd*.  .`frb                           \n",
      "                  '!           8<jf.    jpkbbbbbbbbbbbbbbbbbbbbbbbbbbbbbd>     *xh`                           \n",
      "                  .I.        .~nubzL:    \"Zbbbbbbbddbbbbbbbbbbbbbbbbbbd%'.   .8jW.                            \n",
      "                    .rl `''`nnjrrrxdr~      \\bwWrrxxxrxr&w0xxxxxxnOpk8     .^oj#..                            \n",
      "                          'CfxxrrxrrYxk`    . '%rxxxxxxxxxxxxxxxrxr% ..   .'0nl .                             \n",
      "                           '.Yjxrrxxrjwx1'.     `.*Crxxxxxxxxxnj@        `WjM'                                \n",
      "                             ''Zxrrrxrrrdb#?`      `. '`''. ' ..       `bcp%..                                \n",
      "                                .wjrxrrxx%ddbkkbbbdppdbddkhbpdpdpdddbbkbbqb@w'.                               \n",
      "                                  'ZxxrrrxrxnruWWawdwai<><>~OwbppqOk8#Xxnrxrrrub.                             \n",
      "                                  ..`Qxrxxrru/ .    1~><>~<><_'. . .\"urxrxjYrxxrj8`  .                        \n",
      "                                     `fxrrjb .     .'<<ibp~>>0.     .'/rjrrvrrxrxrj ...lY                     \n",
      "                                      axxjc          `h~>]_0`.        .vnxxxrxxxxrn`'    8'                   \n",
      "                                      Wxxr  .``` `. .......... .  .. .  Orrn`&uxxo`       Z                   \n",
      "                                      ojrx. .|.                    ..   Cxrn ..h.        >'                   \n",
      "                                     .fjjrZ . r                     C  MjrrC . .f<`   .?O'                    \n",
      "                                     . CrrxW '^8.'               .`'` wxrxr8       .. .                       \n",
      "                                      .WjrxrjU  .p- .       . .'L\", :ufxrxrX.                                 \n",
      "                                      .)xrxrxrrn&,. ^ 1W$@MQ^`. \"1ZxxxxxxxY'                                  \n",
      "                                     .'0xxxrrrxxrxxxfrjxuuvrxxnrrrrrrrrrrxr*.                                 \n",
      "                                      LxxrjrrrxxxxxxxxrxoMcurrrrrrrrrxxrrrxx'                                 \n",
      "                                   r\\..-Ojnrrrrrjrxrcd^.  '`qnxxnrxrxnxvrZMJ^ix`                              \n",
      "                                 .k.                  .$  L.                   1.                             \n",
      "                                 .u'                  .|  `|                  .Y.                             \n",
      "                                   .hi....  ' .''.`'xC'     '/%Y. '.   '.`. Y$`'                              \n",
      "                                                                                                              \n",
      "                                                                                                              \n",
      "                                                                                                              \n",
      "                                                         ` '^,`^^..' .^ '. \"^' . ' . .   ^\"^\"'      .    ..`  \n",
      "                                                             '          .`                       .            \n"
     ]
    }
   ],
   "metadata": {}
  },
  {
   "cell_type": "markdown",
   "source": [
    "# ! pip install -i http源\r\n",
    "新版ubuntu要求使用https源，要注意。\r\n",
    "\r\n",
    "清华：https://pypi.tuna.tsinghua.edu.cn/simple\r\n",
    "\r\n",
    "阿里云：https://mirrors.aliyun.com/pypi/simple/\r\n",
    "\r\n",
    "中国科技大学 https://pypi.mirrors.ustc.edu.cn/simple/\r\n",
    "\r\n",
    "华中理工大学：https://pypi.hustunique.com/\r\n",
    "\r\n",
    "山东理工大学：https://pypi.sdutlinux.org/ \r\n",
    "\r\n",
    "豆瓣：https://pypi.douban.com/simple/\r\n"
   ],
   "metadata": {}
  }
 ],
 "metadata": {
  "orig_nbformat": 4,
  "language_info": {
   "name": "python",
   "version": "3.9.7",
   "mimetype": "text/x-python",
   "codemirror_mode": {
    "name": "ipython",
    "version": 3
   },
   "pygments_lexer": "ipython3",
   "nbconvert_exporter": "python",
   "file_extension": ".py"
  },
  "kernelspec": {
   "name": "python3",
   "display_name": "Python 3.9.7 64-bit"
  },
  "interpreter": {
   "hash": "b77746e9332ffa618d6f1b0c30b3b999bda6b9685dc073ddc506779c9ceef622"
  }
 },
 "nbformat": 4,
 "nbformat_minor": 2
}