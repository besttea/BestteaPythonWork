{
 "cells": [
  {
   "cell_type": "markdown",
   "source": [
    "<img src=\".\\\\diyLogo.png\" alt=\"some_text\">\r\n",
    "<h1> 第二讲 程序设计基础</h1>\r\n",
    "<a id=backup></a>\r\n",
    "<H2>目录</H2>  \r\n",
    "\r\n",
    "[2.1 程序执行过程](#Section1)  \r\n",
    "[2.2 程序实例](#Section2)  \r\n",
    "[2.3 程序的基本结构](#Section3)     \r\n",
    "[2.4 顺序结构](#Section4)  \r\n",
    "[2.5 分支结构](#Section5)  \r\n",
    "[2.6 循环结构](#Section6) "
   ],
   "metadata": {}
  },
  {
   "cell_type": "markdown",
   "source": [
    "<a id = Section1> </a>\r\n",
    "## 2.1 程序执行过程\r\n",
    "\r\n"
   ],
   "metadata": {}
  },
  {
   "cell_type": "code",
   "execution_count": 2,
   "source": [
    "import numpy as np\r\n",
    "import matplotlib as mpl\r\n",
    "import matplotlib.pyplot as plt\r\n",
    "x = np.linspace(0,4*np.pi )\r\n",
    "plt.plot(x,np.sin(x),x,np.cos(x))"
   ],
   "outputs": [
    {
     "output_type": "execute_result",
     "data": {
      "text/plain": [
       "[<matplotlib.lines.Line2D at 0x11e5b9a2580>,\n",
       " <matplotlib.lines.Line2D at 0x11e5b9a25b0>]"
      ]
     },
     "metadata": {},
     "execution_count": 2
    },
    {
     "output_type": "display_data",
     "data": {
      "image/png": "[encoded data removed]",
      "text/plain": [
       "<Figure size 432x288 with 1 Axes>"
      ]
     },
     "metadata": {
      "needs_background": "light"
     }
    }
   ],
   "metadata": {}
  },
  {
   "cell_type": "markdown",
   "source": [
    "## 程序设计语言：机器语言、汇编语言、高级语言\r\n",
    "## 编译和解释\r\n",
    "编译：fortran C C++ C#\r\n",
    "解释：basic JavaScript PHP \r\n",
    "Python？？？\r\n",
    "Python语言执行的几种方式：\r\n",
    "\r\n",
    "分析程序执行过程-IPO：  \r\n",
    "a. Input模块：  \r\n",
    "b. Process模块：  \r\n",
    "c. Output模块：  \r\n",
    "\r\n",
    "\r\n",
    "\r\n",
    "[返回](#backup)"
   ],
   "metadata": {}
  },
  {
   "cell_type": "markdown",
   "source": [
    "<a id = Section2> </a>\r\n",
    "## 2.2 程序实例\r\n",
    "\r\n",
    "<p><a href=\"https://yanghailin.blog.csdn.net/article/details/81126087?utm_medium=distribute.pc_relevant.none-task-blog-2%7Edefault%7EBlogCommendFromBaidu%7Edefault-5.no_search_link&depth_1-utm_source=distribute.pc_relevant.none-task-blog-2%7Edefault%7EBlogCommendFromBaidu%7Edefault-5.no_search_link\">\r\n",
    "this is example of python</a></p"
   ],
   "metadata": {}
  },
  {
   "cell_type": "code",
   "execution_count": 2,
   "source": [
    "\"\"\"\r\n",
    "Created on Thu Jul 19 19:51:08 2018\r\n",
    "有四个数字：1、2、3、4，能组成多少个互不相同且无重复数字的三位数？各是多少？\r\n",
    "@author: yhl\r\n",
    "\"\"\"\r\n",
    " \r\n",
    "L=[]\r\n",
    "a=[1,2,3,4]\r\n",
    " \r\n",
    "#for i in range(len(a)):\r\n",
    " \r\n",
    "for val_1 in a:\r\n",
    "    for val_2 in a:\r\n",
    "        for val_3 in a:\r\n",
    "            if(val_1 == val_2 or val_1 == val_3 or val_2 == val_3):\r\n",
    "                continue;\r\n",
    "            else:\r\n",
    "                L.append(str(val_1)+str(val_2)+str(val_3))\r\n",
    " \r\n",
    " \r\n",
    "print(len(L)) \r\n",
    "print (L)"
   ],
   "outputs": [
    {
     "output_type": "stream",
     "name": "stdout",
     "text": [
      "24\n",
      "['123', '124', '132', '134', '142', '143', '213', '214', '231', '234', '241', '243', '312', '314', '321', '324', '341', '342', '412', '413', '421', '423', '431', '432']\n"
     ]
    }
   ],
   "metadata": {}
  },
  {
   "cell_type": "code",
   "execution_count": 4,
   "source": [
    "n=0\r\n",
    "for i in range(1,5):\r\n",
    "    for j in range(1,5):\r\n",
    "        for k in range(1,5):\r\n",
    "            if( i != k ) and (i != j) and (j != k):\r\n",
    "                n=n+1\r\n",
    "                print (i,j,k,\"n=\",n)"
   ],
   "outputs": [
    {
     "output_type": "stream",
     "name": "stdout",
     "text": [
      "1 2 3 n= 1\n",
      "1 2 4 n= 2\n",
      "1 3 2 n= 3\n",
      "1 3 4 n= 4\n",
      "1 4 2 n= 5\n",
      "1 4 3 n= 6\n",
      "2 1 3 n= 7\n",
      "2 1 4 n= 8\n",
      "2 3 1 n= 9\n",
      "2 3 4 n= 10\n",
      "2 4 1 n= 11\n",
      "2 4 3 n= 12\n",
      "3 1 2 n= 13\n",
      "3 1 4 n= 14\n",
      "3 2 1 n= 15\n",
      "3 2 4 n= 16\n",
      "3 4 1 n= 17\n",
      "3 4 2 n= 18\n",
      "4 1 2 n= 19\n",
      "4 1 3 n= 20\n",
      "4 2 1 n= 21\n",
      "4 2 3 n= 22\n",
      "4 3 1 n= 23\n",
      "4 3 2 n= 24\n"
     ]
    }
   ],
   "metadata": {}
  },
  {
   "cell_type": "code",
   "execution_count": 3,
   "source": [
    "'''\r\n",
    "企业发放的奖金根据利润提成。\r\n",
    "利润(I)低于或等于10万元时，奖金可提10%；\r\n",
    "利润高于10万元，低于20万元时，低于10万元的部分\r\n",
    "按10%提成，高于10万元的部分，可提成7.5%；\r\n",
    "20万到40万之间时，高于20万元的部分，可提成5%；\r\n",
    "40万到60万之间时高于40万元的部分，可提成3%；\r\n",
    "60万到100万之间时，高于60万元的部分，可提成1.5%;\r\n",
    "高于100万元时,超过100万元的部分按1%提成。\r\n",
    "从键盘输入当月利润I，求应发放奖金总数？\r\n",
    "'''\r\n",
    " \r\n",
    "profit = 0\r\n",
    "I = int(input(\"please input: \"))\r\n",
    "if(I<=10):\r\n",
    "    profit = 0.1 * I\r\n",
    "elif(I <= 20):\r\n",
    "    profit = 10 *0.1 + (I - 10)*0.075\r\n",
    "elif(I <=40):\r\n",
    "    profit = 10 * 0.1 + (20 - 10)*0.075 + (I - 20)*0.05\r\n",
    "elif(I <= 60):\r\n",
    "    profit = 10 * 0.1 + (20 - 10)*0.075 + (40 - 20)*0.05 + (I - 40)*0.03\r\n",
    "elif(I <= 100):\r\n",
    "    profit = 10 * 0.1 + (20 - 10)*0.075 + (40 - 20)*0.05 + (60 - 40)*0.03 + (I - 60)*0.015\r\n",
    "else : \r\n",
    "    profit = 10 * 0.1 + (20 - 10)*0.075 + (40 - 20)*0.05 + (60 - 40)*0.03 + (100 - 60)*0.015 + (I -100)*0.01\r\n",
    "    \r\n",
    "print (\"profit=\",profit)\r\n",
    "        "
   ],
   "outputs": [
    {
     "output_type": "stream",
     "name": "stdout",
     "text": [
      "profit= 4.45\n"
     ]
    }
   ],
   "metadata": {}
  },
  {
   "cell_type": "code",
   "execution_count": 12,
   "source": [
    "i = int(input('净利润:'))\r\n",
    "arr = [1000000,600000,400000,200000,100000,0]\r\n",
    "rat = [0.01,0.015,0.03,0.05,0.075,0.1]\r\n",
    "r = 0\r\n",
    "for idx in range(0,6):\r\n",
    "    if i>arr[idx]:\r\n",
    "        r+=(i-arr[idx])*rat[idx]\r\n",
    "        print((i-arr[idx])*rat[idx])\r\n",
    "        i=arr[idx]\r\n",
    "print (\"profit=\",r)"
   ],
   "outputs": [
    {
     "output_type": "stream",
     "name": "stdout",
     "text": [
      "5000.0\n",
      "6000.0\n",
      "6000.0\n",
      "10000.0\n",
      "7500.0\n",
      "10000.0\n",
      "profit= 44500.0\n"
     ]
    }
   ],
   "metadata": {}
  },
  {
   "cell_type": "markdown",
   "source": [
    "### Python 数字类型转换\r\n",
    "有时候，我们需要对数据内置的类型进行转换，数据类型的转换，你只需要将数据类型作为函数名即可。\r\n",
    "\r\n",
    "int(x) 将x转换为一个整数。\r\n",
    "\r\n",
    "float(x) 将x转换到一个浮点数。\r\n",
    "\r\n",
    "complex(x) 将x转换到一个复数，实数部分为 x，虚数部分为 0。\r\n",
    "\r\n",
    "complex(x, y) 将 x 和 y 转换到一个复数，实数部分为 x，虚数部分为 y。x 和 y 是数字表达式。"
   ],
   "metadata": {}
  },
  {
   "cell_type": "markdown",
   "source": [
    "<a id=section3></a>\r\n",
    "## 2.3程序的基本结构\r\n",
    "结构化程序的三大基本结构：\r\n",
    "\r\n",
    "a.顺序结构  \r\n",
    "b.分支结构  \r\n",
    "c.循环结构  \r\n",
    "\r\n",
    "\r\n",
    "\r\n",
    "\r\n",
    "[返回](#backup)"
   ],
   "metadata": {}
  },
  {
   "cell_type": "markdown",
   "source": [
    "<a id=section4></a>\r\n",
    "## 2.4顺序结构\r\n",
    "\r\n",
    "\r\n",
    "### 数学函数\r\n",
    "<table><tr>\r\n",
    "<th>函数</th><th>返回值 ( 描述 )</th></tr>\r\n",
    "<tr><td><a target=\"_blank\" href=\"/python3/python3-func-number-abs.html\" rel=\"noopener noreferrer\">abs(x)</a></td><td>返回数字的绝对值，如abs(-10) 返回 10</td></tr>\r\n",
    "<tr><td><a target=\"_blank\" href=\"/python3/python3-func-number-ceil.html\" rel=\"noopener noreferrer\">ceil(x) </a></td><td>返回数字的上入整数，如math.ceil(4.1) 返回 5</td></tr>\r\n",
    "<tr><td><p>cmp(x, y)</p></td>\r\n",
    "<td>如果 x &lt; y 返回 -1, 如果 x == y 返回 0, 如果 x &gt; y 返回 1。 <strong style=\"color:red\">Python 3 已废弃，使用 (x&gt;y)-(x&lt;y) 替换</strong>。 </td>\r\n",
    "</tr>\r\n",
    "<tr><td><a target=\"_blank\" href=\"/python3/python3-func-number-exp.html\" rel=\"noopener noreferrer\">exp(x) </a></td><td>返回e的x次幂(e<sup>x</sup>),如math.exp(1) 返回2.718281828459045</td></tr>\r\n",
    "<tr><td><a target=\"_blank\" href=\"/python3/python3-func-number-fabs.html\" rel=\"noopener noreferrer\">fabs(x)</a></td><td>返回数字的绝对值，如math.fabs(-10) 返回10.0</td></tr>\r\n",
    "<tr><td><a target=\"_blank\" href=\"/python3/python3-func-number-floor.html\" rel=\"noopener noreferrer\">floor(x) </a></td><td>返回数字的下舍整数，如math.floor(4.9)返回 4</td></tr>\r\n",
    "<tr><td><a target=\"_blank\" href=\"/python3/python3-func-number-log.html\" rel=\"noopener noreferrer\">log(x) </a></td><td>如math.log(math.e)返回1.0,math.log(100,10)返回2.0</td></tr>\r\n",
    "<tr><td><a target=\"_blank\" href=\"/python3/python3-func-number-log10.html\" rel=\"noopener noreferrer\">log10(x) </a></td><td>返回以10为基数的x的对数，如math.log10(100)返回 2.0</td></tr>\r\n",
    "<tr><td><a target=\"_blank\" href=\"/python3/python3-func-number-max.html\" rel=\"noopener noreferrer\">max(x1, x2,...) </a></td><td>返回给定参数的最大值，参数可以为序列。</td></tr>\r\n",
    "<tr><td><a target=\"_blank\" href=\"/python3/python3-func-number-min.html\" rel=\"noopener noreferrer\">min(x1, x2,...) </a></td><td>返回给定参数的最小值，参数可以为序列。</td></tr>\r\n",
    "<tr><td><a target=\"_blank\" href=\"/python3/python3-func-number-modf.html\" rel=\"noopener noreferrer\">modf(x) </a></td><td>返回x的整数部分与小数部分，两部分的数值符号与x相同，整数部分以浮点型表示。</td></tr>\r\n",
    "<tr><td><a target=\"_blank\" href=\"/python3/python3-func-number-pow.html\" rel=\"noopener noreferrer\">pow(x, y)</a></td><td> x**y 运算后的值。</td></tr>\r\n",
    "<tr><td><a target=\"_blank\" href=\"/python3/python3-func-number-round.html\" rel=\"noopener noreferrer\">round(x [,n])</a></td><td><p>返回浮点数 x 的四舍五入值，如给出 n 值，则代表舍入到小数点后的位数。</p>\r\n",
    "<p><strong>其实准确的说是保留值将保留到离上一位更近的一端。</strong></p>\r\n",
    "</td></tr>\r\n",
    "<tr><td><a target=\"_blank\" href=\"/python3/python3-func-number-sqrt.html\" rel=\"noopener noreferrer\">sqrt(x) </a></td><td>返回数字x的平方根。</td></tr>\r\n",
    "</table>\r\n",
    "\r\n",
    "### 随机数函数\r\n",
    "随机数可以用于数学，游戏，安全等领域中，还经常被嵌入到算法中，用以提高算法效率，并提高程序的安全性。\r\n",
    "\r\n",
    "Python包含以下常用随机数函数：\r\n",
    "\r\n",
    "<table><tr>\r\n",
    "<th>函数</th><th>描述</th></tr>\r\n",
    "<tr><td><a target=\"_blank\" href=\"/python3/python3-func-number-choice.html\" rel=\"noopener noreferrer\">choice(seq)</a></td><td>从序列的元素中随机挑选一个元素，比如random.choice(range(10))，从0到9中随机挑选一个整数。</td></tr>\r\n",
    "<tr><td><a target=\"_blank\" href=\"/python3/python3-func-number-randrange.html\" rel=\"noopener noreferrer\">randrange ([start,] stop [,step]) </a></td><td>从指定范围内，按指定基数递增的集合中获取一个随机数，基数默认值为 1</td></tr>\r\n",
    "<tr><td><a target=\"_blank\" href=\"/python3/python3-func-number-random.html\" rel=\"noopener noreferrer\">random() </a></td><td> 随机生成下一个实数，它在[0,1)范围内。</td></tr>\r\n",
    "<tr><td><a target=\"_blank\" href=\"/python3/python3-func-number-seed.html\" rel=\"noopener noreferrer\">seed([x]) </a></td><td>改变随机数生成器的种子seed。如果你不了解其原理，你不必特别去设定seed，Python会帮你选择seed。</td></tr>\r\n",
    "<tr><td><a target=\"_blank\" href=\"/python3/python3-func-number-shuffle.html\" rel=\"noopener noreferrer\">shuffle(lst) </a></td><td>将序列的所有元素随机排序</td></tr>\r\n",
    "<tr><td><a target=\"_blank\" href=\"/python3/python3-func-number-uniform.html\" rel=\"noopener noreferrer\">uniform(x, y)</a></td><td>随机生成下一个实数，它在[x,y]范围内。</td></tr>\r\n",
    "</table>\r\n",
    "\r\n",
    "### 三角函数\r\n",
    "Python包括以下三角函数：\r\n",
    "<table><tr>\r\n",
    "<th>函数</th><th>描述</th></tr>\r\n",
    "<tr><td><a target=\"_blank\" href=\"/python3/python3-func-number-acos.html\" rel=\"noopener noreferrer\">acos(x)</a></td><td>返回x的反余弦弧度值。</td></tr>\r\n",
    "<tr><td><a target=\"_blank\" href=\"/python3/python3-func-number-asin.html\" rel=\"noopener noreferrer\">asin(x)</a></td><td>返回x的反正弦弧度值。</td></tr>\r\n",
    "<tr><td><a target=\"_blank\" href=\"/python3/python3-func-number-atan.html\" rel=\"noopener noreferrer\">atan(x)</a></td><td>返回x的反正切弧度值。</td></tr>\r\n",
    "<tr><td><a target=\"_blank\" href=\"/python3/python3-func-number-atan2.html\" rel=\"noopener noreferrer\">atan2(y, x)</a></td><td>返回给定的 X 及 Y 坐标值的反正切值。</td></tr>\r\n",
    "<tr><td><a target=\"_blank\" href=\"/python3/python3-func-number-cos.html\" rel=\"noopener noreferrer\">cos(x)</a></td><td>返回x的弧度的余弦值。</td></tr>\r\n",
    "<tr><td><a target=\"_blank\" href=\"/python3/python3-func-number-hypot.html\" rel=\"noopener noreferrer\">hypot(x, y)</a></td><td>返回欧几里德范数 sqrt(x*x + y*y)。 </td></tr>\r\n",
    "<tr><td><a target=\"_blank\" href=\"/python3/python3-func-number-sin.html\" rel=\"noopener noreferrer\">sin(x)</a></td><td>返回的x弧度的正弦值。</td></tr>\r\n",
    "<tr><td><a target=\"_blank\" href=\"/python3/python3-func-number-tan.html\" rel=\"noopener noreferrer\">tan(x)</a></td><td>返回x弧度的正切值。</td></tr>\r\n",
    "<tr><td><a target=\"_blank\" href=\"/python3/python3-func-number-degrees.html\" rel=\"noopener noreferrer\">degrees(x)</a></td><td>将弧度转换为角度,如degrees(math.pi/2) ，  返回90.0</td></tr>\r\n",
    "<tr><td><a target=\"_blank\" href=\"/python3/python3-func-number-radians.html\" rel=\"noopener noreferrer\">radians(x)</a></td><td>将角度转换为弧度</td></tr>\r\n",
    "</table>\r\n",
    "\r\n",
    "### 数学常量\r\n",
    "\r\n",
    "<table><tr>\r\n",
    "<th>常量</th><th>描述</th></tr>\r\n",
    "<tr><td>pi</td><td>数学常量 pi（圆周率，一般以π来表示）</td></tr>\r\n",
    "<tr><td>e</td><td>数学常量 e，e即自然常数（自然常数）。</td></tr>\r\n",
    "</table>\r\n",
    "\r\n",
    "[返回](#backup)"
   ],
   "metadata": {}
  },
  {
   "cell_type": "code",
   "execution_count": 4,
   "source": [
    "''' \r\n",
    "计算圆周长\r\n",
    "'''\r\n",
    "Radius = eval(input(\"请输入圆半径:\"))\r\n",
    "print(\"Ridus=\",Radius)\r\n",
    "Area = 3.1415*Radius*Radius\r\n",
    "perimeter  = 2*3.1415*Radius \r\n",
    "print(\"面积和周长:\",Area,perimeter)\r\n",
    "\r\n"
   ],
   "outputs": [
    {
     "output_type": "stream",
     "name": "stdout",
     "text": [
      "Hello, 10\n",
      "Enter your name:\n",
      "Hello, 10\n",
      "Ridus= 10\n",
      "面积和周长: 314.15000000000003 62.830000000000005\n"
     ]
    }
   ],
   "metadata": {}
  },
  {
   "cell_type": "markdown",
   "source": [
    "<a id=section4></a>\r\n",
    "## 2.5分支结构\r\n",
    "### 2.5.1 Python比较运算符\r\n",
    "\r\n",
    "以下假设变量a为10，变量b为20：\r\n",
    "<table><tr>\r\n",
    "<th width=\"10%\">运算符</th><th>描述</th><th>实例</th>\r\n",
    "</tr>\r\n",
    "<tr>\r\n",
    "<td>==</td><td> 等于 - 比较对象是否相等</td><td> (a == b) 返回 False。 </td>\r\n",
    "</tr>\r\n",
    "<tr>\r\n",
    "<td>!=</td><td> 不等于 - 比较两个对象是否不相等</td><td> (a != b) 返回 True。 </td>\r\n",
    "</tr>\r\n",
    "\r\n",
    "<tr>\r\n",
    "<td>&gt;</td><td> 大于 - 返回x是否大于y</td><td> (a &gt; b) 返回 False。</td>\r\n",
    "</tr>\r\n",
    "<tr>\r\n",
    "<td>&lt;</td><td> 小于 - 返回x是否小于y。所有比较运算符返回1表示真，返回0表示假。这分别与特殊的变量True和False等价。注意，这些变量名的大写。</td><td> (a &lt; b) 返回 True。 </td>\r\n",
    "</tr>\r\n",
    "<tr>\r\n",
    "<td>&gt;=</td><td> 大于等于 - 返回x是否大于等于y。</td><td> (a &gt;= b) 返回 False。</td>\r\n",
    "\r\n",
    "</tr>\r\n",
    "<tr>\r\n",
    "<td>&lt;=</td><td> 小于等于 - 返回x是否小于等于y。</td><td> (a &lt;= b) 返回 True。 </td>\r\n",
    "</tr>\r\n",
    "</table>\r\n",
    "\r\n",
    "### 2.5.2 Python逻辑运算符        \r\n",
    "Python语言支持逻辑运算符，以下假设变量 a 为 10, b为 20:\r\n",
    "<table><tr>\r\n",
    "<th>运算符</th><th>逻辑表达式</th><th>描述</th><th>实例</th>\r\n",
    "</tr>\r\n",
    "<tr>\r\n",
    "<td>and</td><td>x and y</td><td> 布尔\"与\" - 如果 x 为 False，x and y 返回 x 的值，否则返回 y 的计算值。  </td><td> (a and b) 返回 20。</td>\r\n",
    "</tr>\r\n",
    "<tr>\r\n",
    "<td>or</td><td>x or y</td><td>布尔\"或\" - 如果 x 是 True，它返回 x 的值，否则它返回 y 的计算值。</td><td> (a or b) 返回 10。</td>\r\n",
    "</tr>\r\n",
    "<tr><td>not</td><td>not x</td><td>布尔\"非\" - 如果 x 为 True，返回 False 。如果 x 为 False，它返回 True。</td><td> not(a and b) 返回 False </td>\r\n",
    "</tr>\r\n",
    "</table>\r\n",
    "\r\n",
    "[返回](#backup)"
   ],
   "metadata": {}
  },
  {
   "cell_type": "markdown",
   "source": [
    "### 2.5.3 条件控制语句\r\n",
    "Python 条件语句是通过一条或多条语句的执行结果（True 或者 False）来决定执行的代码块。\r\n",
    "\r\n",
    "可以通过下图来简单了解条件语句的执行过程:\r\n",
    "\r\n",
    "<img src=\".//img//if-condition.jpg\" width=\"250\"></img>\r\n",
    "\r\n",
    "<img src=\".//img//python-if.webp\" width=\"150\"></img>"
   ],
   "metadata": {}
  },
  {
   "cell_type": "markdown",
   "source": [
    "### 例题 求绝对值。\r\n",
    "\r\n",
    "输入：x\r\n",
    "$$\r\n",
    "\\begin{align}\r\n",
    "&&\\left|y\\right |= \\left\\{\\begin{matrix}\r\n",
    "x & if \\: x\\geq 0\\\\-x& if \\:x< 0\r\n",
    "\\end{matrix}\\right.{\\color{Red} }\r\n",
    "\\end{align}\r\n",
    "$$\r\n",
    "输出：y"
   ],
   "metadata": {}
  },
  {
   "cell_type": "code",
   "execution_count": 3,
   "source": [
    "'''\r\n",
    "求绝对值。\r\n",
    "'''\r\n",
    "RealNumber = eval(input(\"输入实数:\"))\r\n",
    "if (RealNumber < 0):\r\n",
    "    RealNumber = -RealNumber\r\n",
    "print(\"绝对值:\",RealNumber)\r\n"
   ],
   "outputs": [
    {
     "output_type": "stream",
     "name": "stdout",
     "text": [
      "绝对值 1.2\n"
     ]
    }
   ],
   "metadata": {}
  },
  {
   "cell_type": "markdown",
   "source": [
    "<a id=section6></a>\r\n",
    "## 2.6循环结构\r\n",
    "\r\n",
    "循环结构：\r\n",
    "\r\n",
    "while语句\r\n",
    "\r\n",
    "for语句\r\n",
    "\r\n",
    "循环分类：  \r\n",
    "当型循环  \r\n",
    "直到型循环  \r\n",
    "\r\n",
    "\r\n",
    "\r\n",
    "\r\n",
    "[返回](#backup)"
   ],
   "metadata": {}
  },
  {
   "cell_type": "code",
   "execution_count": 1,
   "source": [
    "char1 =\"a\"\r\n",
    "char2=\"b\"\r\n",
    "char3=\"c\"\r\n",
    "char=char1+char2+char3\r\n",
    "boor1=(char[2]==char3)\r\n",
    "print(boor1)"
   ],
   "outputs": [
    {
     "output_type": "stream",
     "name": "stdout",
     "text": [
      "True\n"
     ]
    }
   ],
   "metadata": {}
  },
  {
   "cell_type": "markdown",
   "source": [
    "### 例题 整数累加：  \r\n",
    "输入：正整数R    \r\n",
    "处理：  \r\n",
    "S=1+2+3+…+R  \r\n",
    "<img src=\"./img/int_add.png\" width=\"150\">  \r\n",
    "输出：输出S"
   ],
   "metadata": {}
  },
  {
   "cell_type": "code",
   "execution_count": 4,
   "source": [
    "R = eval(input(\"请输入正整数:\"))\r\n",
    "i, S = 0, 0\r\n",
    "while (i<=R):\r\n",
    "    S = S + i\r\n",
    "    i = i + 1\r\n",
    "print(\"累加求和\",S)\r\n"
   ],
   "outputs": [
    {
     "output_type": "stream",
     "name": "stdout",
     "text": [
      "累加求和 55\n"
     ]
    }
   ],
   "metadata": {}
  },
  {
   "cell_type": "code",
   "execution_count": null,
   "source": [],
   "outputs": [],
   "metadata": {}
  },
  {
   "cell_type": "markdown",
   "source": [
    "### 例题 绘制数字图画\r\n",
    "   <img src=\".//img//jqm1.jpg\" width=\"150 \" alt=\"机器猫\">"
   ],
   "metadata": {}
  },
  {
   "cell_type": "code",
   "execution_count": null,
   "source": [
    "import matplotlib.pyplot as plt\r\n",
    "show_heigth = 50\r\n",
    "show_width = 110\r\n",
    "#这两个数字是调出来的\r\n",
    "\r\n",
    "ascii_char = list(\r\n",
    "    \"$@B%8&WM#*oahkbdpqwmZO0QLCJUYXzcvunxrjft/\\|()1{}[]?-_+~<>i!lI;:,\\\"^`'. \")\r\n",
    "#生成一个ascii字符列表\r\n",
    "char_len = len(ascii_char)\r\n",
    "\r\n",
    "pic = plt.imread(\"..\\\\jqm1.jpg\")\r\n",
    "#使用plt.imread方法来读取图像，对于彩图，返回size = heigth*width*3的图像\r\n",
    "#matplotlib 中色彩排列是R G B\r\n",
    "#opencv的cv2中色彩排列是B G R\r\n",
    "\r\n",
    "pic_heigth, pic_width, _ = pic.shape\r\n",
    "#获取图像的高、宽\r\n",
    "\r\n",
    "gray = 0.2126 * pic[:, :, 0] + 0.7152 * pic[:, :, 1] + 0.0722 * pic[:, :, 2]\r\n",
    "#RGB转灰度图的公式 gray = 0.2126 * r + 0.7152 * g + 0.0722 * b\r\n",
    "\r\n",
    "#思路就是根据灰度值，映射到相应的ascii_char\r\n",
    "for i in range(show_heigth):\r\n",
    "    #根据比例映射到对应的像素\r\n",
    "    y = int(i * pic_heigth / show_heigth)\r\n",
    "    text = \"\"\r\n",
    "    for j in range(show_width):\r\n",
    "        x = int(j * pic_width / show_width)\r\n",
    "        text += ascii_char[int(gray[y][x] / 256 * char_len)]\r\n",
    "    print(text)"
   ],
   "outputs": [
    {
     "output_type": "stream",
     "name": "stdout",
     "text": [
      "                                                                                                              \n",
      "                                                                                                              \n",
      "                                                                                                              \n",
      "                                                                                                              \n",
      "                                                                                                              \n",
      "                                                                                                              \n",
      "                                                   .     .....                                                \n",
      "                                            \"}#cx1^\"..wnrruM``' ,Qnth) .                                      \n",
      "                                     . ''fcrrxn^..    '.&J. ..   ..zrxrjnw'                                   \n",
      "                                    ..Yzrxrxrrh.    .$@: (.$$`     ?frrxxrxfz`'                               \n",
      "                                   .bxrrrrrrrxb.    .B%$ ]U$$M     !fxrxxxrxjn%^                              \n",
      "                                ..>/xxrrrY%i`'\"`    ``.^Mx I`^    .0 .'Wurxrxrnf).                            \n",
      "                                \"drrrn8^' .    .<J`` `#Cqdbqi` '`W'       `Wjtrxr&                            \n",
      "                              . kxxjW . ..           8dbdbbb8.         ` .^'`&xxxrq                           \n",
      "                             . 0rrx: `     .rW, '.   '8dbbdo . .. ($j..  .  ..mbjxx .                         \n",
      "                             . xO. ...`          `      . ''               ..`  \"'Xz.                         \n",
      "                               m . ';1vCZZ0Q0QOZO0C^    `'    .'}Ld%$8*pOzf]:... .j*.                         \n",
      "                              ;w                .       `:       '               'Wd.                         \n",
      "                              `na    .`.)w@BJ-  '' ..  ..l''     ... '+h@u....  `QnM'                         \n",
      "                    ..f>'. x+^.vnOz0 '.. ...[M%kddkbdbbkbdbbbbkpb&B0'.....  . ,$xjjU                          \n",
      "                   ..        .q%xC. '`ddbbkbbbbkkbbbbbbbbbbbbbbbbbbbbkbbbkbp    nxx`                          \n",
      "                  '~           aJjU. '.*bbbbbbbbbbbbbbbbbbbbbbbbbbbbbbbbbd*.  .`frb                           \n",
      "                  '!           8<jf.    jpkbbbbbbbbbbbbbbbbbbbbbbbbbbbbbd>     *xh`                           \n",
      "                  .I.        .~nubzL:    \"Zbbbbbbbddbbbbbbbbbbbbbbbbbbd%'.   .8jW.                            \n",
      "                    .rl `''`nnjrrrxdr~      \\bwWrrxxxrxr&w0xxxxxxnOpk8     .^oj#..                            \n",
      "                          'CfxxrrxrrYxk`    . '%rxxxxxxxxxxxxxxxrxr% ..   .'0nl .                             \n",
      "                           '.Yjxrrxxrjwx1'.     `.*Crxxxxxxxxxnj@        `WjM'                                \n",
      "                             ''Zxrrrxrrrdb#?`      `. '`''. ' ..       `bcp%..                                \n",
      "                                .wjrxrrxx%ddbkkbbbdppdbddkhbpdpdpdddbbkbbqb@w'.                               \n",
      "                                  'ZxxrrrxrxnruWWawdwai<><>~OwbppqOk8#Xxnrxrrrub.                             \n",
      "                                  ..`Qxrxxrru/ .    1~><>~<><_'. . .\"urxrxjYrxxrj8`  .                        \n",
      "                                     `fxrrjb .     .'<<ibp~>>0.     .'/rjrrvrrxrxrj ...lY                     \n",
      "                                      axxjc          `h~>]_0`.        .vnxxxrxxxxrn`'    8'                   \n",
      "                                      Wxxr  .``` `. .......... .  .. .  Orrn`&uxxo`       Z                   \n",
      "                                      ojrx. .|.                    ..   Cxrn ..h.        >'                   \n",
      "                                     .fjjrZ . r                     C  MjrrC . .f<`   .?O'                    \n",
      "                                     . CrrxW '^8.'               .`'` wxrxr8       .. .                       \n",
      "                                      .WjrxrjU  .p- .       . .'L\", :ufxrxrX.                                 \n",
      "                                      .)xrxrxrrn&,. ^ 1W$@MQ^`. \"1ZxxxxxxxY'                                  \n",
      "                                     .'0xxxrrrxxrxxxfrjxuuvrxxnrrrrrrrrrrxr*.                                 \n",
      "                                      LxxrjrrrxxxxxxxxrxoMcurrrrrrrrrxxrrrxx'                                 \n",
      "                                   r\\..-Ojnrrrrrjrxrcd^.  '`qnxxnrxrxnxvrZMJ^ix`                              \n",
      "                                 .k.                  .$  L.                   1.                             \n",
      "                                 .u'                  .|  `|                  .Y.                             \n",
      "                                   .hi....  ' .''.`'xC'     '/%Y. '.   '.`. Y$`'                              \n",
      "                                                                                                              \n",
      "                                                                                                              \n",
      "                                                                                                              \n",
      "                                                         ` '^,`^^..' .^ '. \"^' . ' . .   ^\"^\"'      .    ..`  \n",
      "                                                             '          .`                       .            \n"
     ]
    }
   ],
   "metadata": {}
  }
 ],
 "metadata": {
  "orig_nbformat": 4,
  "language_info": {
   "name": "python",
   "version": "3.9.7",
   "mimetype": "text/x-python",
   "codemirror_mode": {
    "name": "ipython",
    "version": 3
   },
   "pygments_lexer": "ipython3",
   "nbconvert_exporter": "python",
   "file_extension": ".py"
  },
  "kernelspec": {
   "name": "python3",
   "display_name": "Python 3.9.7 64-bit"
  },
  "interpreter": {
   "hash": "b77746e9332ffa618d6f1b0c30b3b999bda6b9685dc073ddc506779c9ceef622"
  }
 },
 "nbformat": 4,
 "nbformat_minor": 2
}