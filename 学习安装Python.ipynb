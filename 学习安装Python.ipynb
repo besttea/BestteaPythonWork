{
 "cells": [
  {
   "cell_type": "code",
   "execution_count": null,
   "source": [],
   "outputs": [],
   "metadata": {
    "tags": [],
    "cell_id": "00000-a12c1e78-94f6-4c6f-8738-3da8b968231d",
    "deepnote_cell_type": "code"
   }
  },
  {
   "cell_type": "markdown",
   "source": [
    "# 学习Jupyter"
   ],
   "metadata": {
    "cell_id": "00000-c6415894-0b12-40ac-9a43-6731e3ae3766",
    "deepnote_cell_type": "markdown"
   }
  },
  {
   "cell_type": "markdown",
   "source": [
    "# 安装Python及Jupyter"
   ],
   "metadata": {
    "cell_id": "00001-28686d5b-f309-44a3-bb1b-902511354d69",
    "deepnote_cell_type": "markdown"
   }
  },
  {
   "cell_type": "markdown",
   "source": [
    "\n",
    "## Visual Studio Code + Python + Jupyter"
   ],
   "metadata": {
    "cell_id": "00002-40c02e1a-7dca-40c2-8ca4-c6a5bbbf951d",
    "deepnote_cell_type": "markdown"
   }
  },
  {
   "cell_type": "markdown",
   "source": [
    "## Anoconda Jupyter"
   ],
   "metadata": {
    "cell_id": "00003-4356437f-9e5f-450f-bbe9-f0867e7ee4ba",
    "deepnote_cell_type": "markdown"
   }
  },
  {
   "cell_type": "code",
   "execution_count": null,
   "source": [
    "import numpy\r\n",
    "dir(numpy)\r\n"
   ],
   "outputs": [
    {
     "output_type": "execute_result",
     "data": {
      "text/plain": [
       "['ALLOW_THREADS',\n",
       " 'AxisError',\n",
       " 'BUFSIZE',\n",
       " 'CLIP',\n",
       " 'ComplexWarning',\n",
       " 'DataSource',\n",
       " 'ERR_CALL',\n",
       " 'ERR_DEFAULT',\n",
       " 'ERR_IGNORE',\n",
       " 'ERR_LOG',\n",
       " 'ERR_PRINT',\n",
       " 'ERR_RAISE',\n",
       " 'ERR_WARN',\n",
       " 'FLOATING_POINT_SUPPORT',\n",
       " 'FPE_DIVIDEBYZERO',\n",
       " 'FPE_INVALID',\n",
       " 'FPE_OVERFLOW',\n",
       " 'FPE_UNDERFLOW',\n",
       " 'False_',\n",
       " 'Inf',\n",
       " 'Infinity',\n",
       " 'MAXDIMS',\n",
       " 'MAY_SHARE_BOUNDS',\n",
       " 'MAY_SHARE_EXACT',\n",
       " 'MachAr',\n",
       " 'ModuleDeprecationWarning',\n",
       " 'NAN',\n",
       " 'NINF',\n",
       " 'NZERO',\n",
       " 'NaN',\n",
       " 'PINF',\n",
       " 'PZERO',\n",
       " 'RAISE',\n",
       " 'RankWarning',\n",
       " 'SHIFT_DIVIDEBYZERO',\n",
       " 'SHIFT_INVALID',\n",
       " 'SHIFT_OVERFLOW',\n",
       " 'SHIFT_UNDERFLOW',\n",
       " 'ScalarType',\n",
       " 'Tester',\n",
       " 'TooHardError',\n",
       " 'True_',\n",
       " 'UFUNC_BUFSIZE_DEFAULT',\n",
       " 'UFUNC_PYVALS_NAME',\n",
       " 'VisibleDeprecationWarning',\n",
       " 'WRAP',\n",
       " '_NoValue',\n",
       " '_UFUNC_API',\n",
       " '__NUMPY_SETUP__',\n",
       " '__all__',\n",
       " '__builtins__',\n",
       " '__cached__',\n",
       " '__config__',\n",
       " '__dir__',\n",
       " '__doc__',\n",
       " '__file__',\n",
       " '__getattr__',\n",
       " '__git_revision__',\n",
       " '__loader__',\n",
       " '__name__',\n",
       " '__package__',\n",
       " '__path__',\n",
       " '__spec__',\n",
       " '__version__',\n",
       " '_add_newdoc_ufunc',\n",
       " '_distributor_init',\n",
       " '_globals',\n",
       " '_mat',\n",
       " '_pytesttester',\n",
       " 'abs',\n",
       " 'absolute',\n",
       " 'add',\n",
       " 'add_docstring',\n",
       " 'add_newdoc',\n",
       " 'add_newdoc_ufunc',\n",
       " 'alen',\n",
       " 'all',\n",
       " 'allclose',\n",
       " 'alltrue',\n",
       " 'amax',\n",
       " 'amin',\n",
       " 'angle',\n",
       " 'any',\n",
       " 'append',\n",
       " 'apply_along_axis',\n",
       " 'apply_over_axes',\n",
       " 'arange',\n",
       " 'arccos',\n",
       " 'arccosh',\n",
       " 'arcsin',\n",
       " 'arcsinh',\n",
       " 'arctan',\n",
       " 'arctan2',\n",
       " 'arctanh',\n",
       " 'argmax',\n",
       " 'argmin',\n",
       " 'argpartition',\n",
       " 'argsort',\n",
       " 'argwhere',\n",
       " 'around',\n",
       " 'array',\n",
       " 'array2string',\n",
       " 'array_equal',\n",
       " 'array_equiv',\n",
       " 'array_repr',\n",
       " 'array_split',\n",
       " 'array_str',\n",
       " 'asanyarray',\n",
       " 'asarray',\n",
       " 'asarray_chkfinite',\n",
       " 'ascontiguousarray',\n",
       " 'asfarray',\n",
       " 'asfortranarray',\n",
       " 'asmatrix',\n",
       " 'asscalar',\n",
       " 'atleast_1d',\n",
       " 'atleast_2d',\n",
       " 'atleast_3d',\n",
       " 'average',\n",
       " 'bartlett',\n",
       " 'base_repr',\n",
       " 'binary_repr',\n",
       " 'bincount',\n",
       " 'bitwise_and',\n",
       " 'bitwise_not',\n",
       " 'bitwise_or',\n",
       " 'bitwise_xor',\n",
       " 'blackman',\n",
       " 'block',\n",
       " 'bmat',\n",
       " 'bool',\n",
       " 'bool8',\n",
       " 'bool_',\n",
       " 'broadcast',\n",
       " 'broadcast_arrays',\n",
       " 'broadcast_to',\n",
       " 'busday_count',\n",
       " 'busday_offset',\n",
       " 'busdaycalendar',\n",
       " 'byte',\n",
       " 'byte_bounds',\n",
       " 'bytes0',\n",
       " 'bytes_',\n",
       " 'c_',\n",
       " 'can_cast',\n",
       " 'cast',\n",
       " 'cbrt',\n",
       " 'cdouble',\n",
       " 'ceil',\n",
       " 'cfloat',\n",
       " 'char',\n",
       " 'character',\n",
       " 'chararray',\n",
       " 'choose',\n",
       " 'clip',\n",
       " 'clongdouble',\n",
       " 'clongfloat',\n",
       " 'column_stack',\n",
       " 'common_type',\n",
       " 'compare_chararrays',\n",
       " 'compat',\n",
       " 'complex',\n",
       " 'complex128',\n",
       " 'complex256',\n",
       " 'complex64',\n",
       " 'complex_',\n",
       " 'complexfloating',\n",
       " 'compress',\n",
       " 'concatenate',\n",
       " 'conj',\n",
       " 'conjugate',\n",
       " 'convolve',\n",
       " 'copy',\n",
       " 'copysign',\n",
       " 'copyto',\n",
       " 'core',\n",
       " 'corrcoef',\n",
       " 'correlate',\n",
       " 'cos',\n",
       " 'cosh',\n",
       " 'count_nonzero',\n",
       " 'cov',\n",
       " 'cross',\n",
       " 'csingle',\n",
       " 'ctypeslib',\n",
       " 'cumprod',\n",
       " 'cumproduct',\n",
       " 'cumsum',\n",
       " 'datetime64',\n",
       " 'datetime_as_string',\n",
       " 'datetime_data',\n",
       " 'deg2rad',\n",
       " 'degrees',\n",
       " 'delete',\n",
       " 'deprecate',\n",
       " 'deprecate_with_doc',\n",
       " 'diag',\n",
       " 'diag_indices',\n",
       " 'diag_indices_from',\n",
       " 'diagflat',\n",
       " 'diagonal',\n",
       " 'diff',\n",
       " 'digitize',\n",
       " 'disp',\n",
       " 'divide',\n",
       " 'divmod',\n",
       " 'dot',\n",
       " 'double',\n",
       " 'dsplit',\n",
       " 'dstack',\n",
       " 'dtype',\n",
       " 'e',\n",
       " 'ediff1d',\n",
       " 'einsum',\n",
       " 'einsum_path',\n",
       " 'emath',\n",
       " 'empty',\n",
       " 'empty_like',\n",
       " 'equal',\n",
       " 'errstate',\n",
       " 'euler_gamma',\n",
       " 'exp',\n",
       " 'exp2',\n",
       " 'expand_dims',\n",
       " 'expm1',\n",
       " 'extract',\n",
       " 'eye',\n",
       " 'fabs',\n",
       " 'fastCopyAndTranspose',\n",
       " 'fft',\n",
       " 'fill_diagonal',\n",
       " 'find_common_type',\n",
       " 'finfo',\n",
       " 'fix',\n",
       " 'flatiter',\n",
       " 'flatnonzero',\n",
       " 'flexible',\n",
       " 'flip',\n",
       " 'fliplr',\n",
       " 'flipud',\n",
       " 'float',\n",
       " 'float128',\n",
       " 'float16',\n",
       " 'float32',\n",
       " 'float64',\n",
       " 'float_',\n",
       " 'float_power',\n",
       " 'floating',\n",
       " 'floor',\n",
       " 'floor_divide',\n",
       " 'fmax',\n",
       " 'fmin',\n",
       " 'fmod',\n",
       " 'format_float_positional',\n",
       " 'format_float_scientific',\n",
       " 'format_parser',\n",
       " 'frexp',\n",
       " 'frombuffer',\n",
       " 'fromfile',\n",
       " 'fromfunction',\n",
       " 'fromiter',\n",
       " 'frompyfunc',\n",
       " 'fromregex',\n",
       " 'fromstring',\n",
       " 'full',\n",
       " 'full_like',\n",
       " 'fv',\n",
       " 'gcd',\n",
       " 'generic',\n",
       " 'genfromtxt',\n",
       " 'geomspace',\n",
       " 'get_array_wrap',\n",
       " 'get_include',\n",
       " 'get_printoptions',\n",
       " 'getbufsize',\n",
       " 'geterr',\n",
       " 'geterrcall',\n",
       " 'geterrobj',\n",
       " 'gradient',\n",
       " 'greater',\n",
       " 'greater_equal',\n",
       " 'half',\n",
       " 'hamming',\n",
       " 'hanning',\n",
       " 'heaviside',\n",
       " 'histogram',\n",
       " 'histogram2d',\n",
       " 'histogram_bin_edges',\n",
       " 'histogramdd',\n",
       " 'hsplit',\n",
       " 'hstack',\n",
       " 'hypot',\n",
       " 'i0',\n",
       " 'identity',\n",
       " 'iinfo',\n",
       " 'imag',\n",
       " 'in1d',\n",
       " 'index_exp',\n",
       " 'indices',\n",
       " 'inexact',\n",
       " 'inf',\n",
       " 'info',\n",
       " 'infty',\n",
       " 'inner',\n",
       " 'insert',\n",
       " 'int',\n",
       " 'int0',\n",
       " 'int16',\n",
       " 'int32',\n",
       " 'int64',\n",
       " 'int8',\n",
       " 'int_',\n",
       " 'intc',\n",
       " 'integer',\n",
       " 'interp',\n",
       " 'intersect1d',\n",
       " 'intp',\n",
       " 'invert',\n",
       " 'ipmt',\n",
       " 'irr',\n",
       " 'is_busday',\n",
       " 'isclose',\n",
       " 'iscomplex',\n",
       " 'iscomplexobj',\n",
       " 'isfinite',\n",
       " 'isfortran',\n",
       " 'isin',\n",
       " 'isinf',\n",
       " 'isnan',\n",
       " 'isnat',\n",
       " 'isneginf',\n",
       " 'isposinf',\n",
       " 'isreal',\n",
       " 'isrealobj',\n",
       " 'isscalar',\n",
       " 'issctype',\n",
       " 'issubclass_',\n",
       " 'issubdtype',\n",
       " 'issubsctype',\n",
       " 'iterable',\n",
       " 'ix_',\n",
       " 'kaiser',\n",
       " 'kernel_version',\n",
       " 'kron',\n",
       " 'lcm',\n",
       " 'ldexp',\n",
       " 'left_shift',\n",
       " 'less',\n",
       " 'less_equal',\n",
       " 'lexsort',\n",
       " 'lib',\n",
       " 'linalg',\n",
       " 'linspace',\n",
       " 'little_endian',\n",
       " 'load',\n",
       " 'loads',\n",
       " 'loadtxt',\n",
       " 'log',\n",
       " 'log10',\n",
       " 'log1p',\n",
       " 'log2',\n",
       " 'logaddexp',\n",
       " 'logaddexp2',\n",
       " 'logical_and',\n",
       " 'logical_not',\n",
       " 'logical_or',\n",
       " 'logical_xor',\n",
       " 'logspace',\n",
       " 'long',\n",
       " 'longcomplex',\n",
       " 'longdouble',\n",
       " 'longfloat',\n",
       " 'longlong',\n",
       " 'lookfor',\n",
       " 'ma',\n",
       " 'mafromtxt',\n",
       " 'mask_indices',\n",
       " 'mat',\n",
       " 'math',\n",
       " 'matmul',\n",
       " 'matrix',\n",
       " 'matrixlib',\n",
       " 'max',\n",
       " 'maximum',\n",
       " 'maximum_sctype',\n",
       " 'may_share_memory',\n",
       " 'mean',\n",
       " 'median',\n",
       " 'memmap',\n",
       " 'meshgrid',\n",
       " 'mgrid',\n",
       " 'min',\n",
       " 'min_scalar_type',\n",
       " 'minimum',\n",
       " 'mintypecode',\n",
       " 'mirr',\n",
       " 'mod',\n",
       " 'modf',\n",
       " 'moveaxis',\n",
       " 'msort',\n",
       " 'multiply',\n",
       " 'nan',\n",
       " 'nan_to_num',\n",
       " 'nanargmax',\n",
       " 'nanargmin',\n",
       " 'nancumprod',\n",
       " 'nancumsum',\n",
       " 'nanmax',\n",
       " 'nanmean',\n",
       " 'nanmedian',\n",
       " 'nanmin',\n",
       " 'nanpercentile',\n",
       " 'nanprod',\n",
       " 'nanquantile',\n",
       " 'nanstd',\n",
       " 'nansum',\n",
       " 'nanvar',\n",
       " 'nbytes',\n",
       " 'ndarray',\n",
       " 'ndenumerate',\n",
       " 'ndfromtxt',\n",
       " 'ndim',\n",
       " 'ndindex',\n",
       " 'nditer',\n",
       " 'negative',\n",
       " 'nested_iters',\n",
       " 'newaxis',\n",
       " 'nextafter',\n",
       " 'nonzero',\n",
       " 'not_equal',\n",
       " 'nper',\n",
       " 'npv',\n",
       " 'numarray',\n",
       " 'number',\n",
       " 'obj2sctype',\n",
       " 'object',\n",
       " 'object0',\n",
       " 'object_',\n",
       " 'ogrid',\n",
       " 'oldnumeric',\n",
       " 'ones',\n",
       " 'ones_like',\n",
       " 'os',\n",
       " 'outer',\n",
       " 'packbits',\n",
       " 'pad',\n",
       " 'partition',\n",
       " 'percentile',\n",
       " 'pi',\n",
       " 'piecewise',\n",
       " 'place',\n",
       " 'pmt',\n",
       " 'poly',\n",
       " 'poly1d',\n",
       " 'polyadd',\n",
       " 'polyder',\n",
       " 'polydiv',\n",
       " 'polyfit',\n",
       " 'polyint',\n",
       " 'polymul',\n",
       " 'polynomial',\n",
       " 'polysub',\n",
       " 'polyval',\n",
       " 'positive',\n",
       " 'power',\n",
       " 'ppmt',\n",
       " 'printoptions',\n",
       " 'prod',\n",
       " 'product',\n",
       " 'promote_types',\n",
       " 'ptp',\n",
       " 'put',\n",
       " 'put_along_axis',\n",
       " 'putmask',\n",
       " 'pv',\n",
       " 'quantile',\n",
       " 'r_',\n",
       " 'rad2deg',\n",
       " 'radians',\n",
       " 'random',\n",
       " 'rate',\n",
       " 'ravel',\n",
       " 'ravel_multi_index',\n",
       " 'real',\n",
       " 'real_if_close',\n",
       " 'rec',\n",
       " 'recarray',\n",
       " 'recfromcsv',\n",
       " 'recfromtxt',\n",
       " 'reciprocal',\n",
       " 'record',\n",
       " 'remainder',\n",
       " 'repeat',\n",
       " 'require',\n",
       " 'reshape',\n",
       " 'resize',\n",
       " 'result_type',\n",
       " 'right_shift',\n",
       " 'rint',\n",
       " 'roll',\n",
       " 'rollaxis',\n",
       " 'roots',\n",
       " 'rot90',\n",
       " 'round',\n",
       " 'round_',\n",
       " 'row_stack',\n",
       " 's_',\n",
       " 'safe_eval',\n",
       " 'save',\n",
       " 'savetxt',\n",
       " 'savez',\n",
       " 'savez_compressed',\n",
       " 'sctype2char',\n",
       " 'sctypeDict',\n",
       " 'sctypeNA',\n",
       " 'sctypes',\n",
       " 'searchsorted',\n",
       " 'select',\n",
       " 'set_numeric_ops',\n",
       " 'set_printoptions',\n",
       " 'set_string_function',\n",
       " 'setbufsize',\n",
       " 'setdiff1d',\n",
       " 'seterr',\n",
       " 'seterrcall',\n",
       " 'seterrobj',\n",
       " 'setxor1d',\n",
       " 'shape',\n",
       " 'shares_memory',\n",
       " 'short',\n",
       " 'show_config',\n",
       " 'sign',\n",
       " 'signbit',\n",
       " 'signedinteger',\n",
       " 'sin',\n",
       " 'sinc',\n",
       " 'single',\n",
       " 'singlecomplex',\n",
       " 'sinh',\n",
       " 'size',\n",
       " 'sometrue',\n",
       " 'sort',\n",
       " 'sort_complex',\n",
       " 'source',\n",
       " 'spacing',\n",
       " 'split',\n",
       " 'sqrt',\n",
       " 'square',\n",
       " 'squeeze',\n",
       " 'stack',\n",
       " 'std',\n",
       " 'str',\n",
       " 'str0',\n",
       " 'str_',\n",
       " 'string_',\n",
       " 'subtract',\n",
       " 'sum',\n",
       " 'swapaxes',\n",
       " 'sys',\n",
       " 'take',\n",
       " 'take_along_axis',\n",
       " 'tan',\n",
       " 'tanh',\n",
       " 'tensordot',\n",
       " 'test',\n",
       " 'testing',\n",
       " 'tile',\n",
       " 'timedelta64',\n",
       " 'trace',\n",
       " 'tracemalloc_domain',\n",
       " 'transpose',\n",
       " 'trapz',\n",
       " 'tri',\n",
       " 'tril',\n",
       " 'tril_indices',\n",
       " 'tril_indices_from',\n",
       " 'trim_zeros',\n",
       " 'triu',\n",
       " 'triu_indices',\n",
       " 'triu_indices_from',\n",
       " 'true_divide',\n",
       " 'trunc',\n",
       " 'typeDict',\n",
       " 'typeNA',\n",
       " 'typecodes',\n",
       " 'typename',\n",
       " 'ubyte',\n",
       " 'ufunc',\n",
       " 'uint',\n",
       " 'uint0',\n",
       " 'uint16',\n",
       " 'uint32',\n",
       " 'uint64',\n",
       " 'uint8',\n",
       " 'uintc',\n",
       " 'uintp',\n",
       " 'ulonglong',\n",
       " 'unicode',\n",
       " 'unicode_',\n",
       " 'union1d',\n",
       " 'unique',\n",
       " 'unpackbits',\n",
       " 'unravel_index',\n",
       " 'unsignedinteger',\n",
       " 'unwrap',\n",
       " 'use_hugepage',\n",
       " 'ushort',\n",
       " 'vander',\n",
       " 'var',\n",
       " 'vdot',\n",
       " 'vectorize',\n",
       " 'version',\n",
       " 'void',\n",
       " 'void0',\n",
       " 'vsplit',\n",
       " 'vstack',\n",
       " 'warnings',\n",
       " 'where',\n",
       " 'who',\n",
       " 'zeros',\n",
       " 'zeros_like']"
      ]
     },
     "metadata": {},
     "execution_count": 4
    }
   ],
   "metadata": {
    "tags": [],
    "cell_id": "00004-f89f29a6-6062-4820-b696-2e19df0ead1f",
    "deepnote_to_be_reexecuted": false,
    "source_hash": "15116530",
    "execution_start": 1631653824946,
    "execution_millis": 20,
    "deepnote_cell_type": "code"
   }
  },
  {
   "cell_type": "code",
   "execution_count": 2,
   "source": [
    " list(range(1, 11))"
   ],
   "outputs": [
    {
     "output_type": "execute_result",
     "data": {
      "text/plain": [
       "[1, 2, 3, 4, 5, 6, 7, 8, 9, 10]"
      ]
     },
     "metadata": {},
     "execution_count": 2
    }
   ],
   "metadata": {
    "tags": [],
    "cell_id": "00005-06b7e5e5-8e2c-4ad0-b923-4d80da3ec566",
    "deepnote_to_be_reexecuted": false,
    "source_hash": "6e37a546",
    "execution_start": 1631885834542,
    "execution_millis": 1,
    "deepnote_cell_type": "code"
   }
  },
  {
   "cell_type": "code",
   "execution_count": null,
   "source": [],
   "outputs": [],
   "metadata": {
    "tags": [],
    "cell_id": "00006-df0db469-da2c-403b-8f2f-fe87ea4b2bac",
    "deepnote_cell_type": "code"
   }
  },
  {
   "cell_type": "code",
   "execution_count": 1,
   "source": [
    " L = ['Hello', 'World', 'IBM', 'Apple']\r\n",
    "[s.lower() for s in L]"
   ],
   "outputs": [
    {
     "output_type": "execute_result",
     "data": {
      "text/plain": [
       "['hello', 'world', 'ibm', 'apple']"
      ]
     },
     "metadata": {},
     "execution_count": 1
    }
   ],
   "metadata": {
    "tags": [],
    "cell_id": "00006-1ace5f2c-a45b-4862-be3c-dfc2dde2958f",
    "deepnote_to_be_reexecuted": false,
    "source_hash": "d1ea1f50",
    "execution_start": 1631885760287,
    "execution_millis": 109,
    "deepnote_cell_type": "code"
   }
  },
  {
   "cell_type": "markdown",
   "source": [
    "但如果要生成[1x1, 2x2, 3x3, ..., 10x10]怎么做？方法一是循环："
   ],
   "metadata": {
    "tags": [],
    "cell_id": "00008-e0935947-2ac7-4d2f-ac72-ae2df1645f6f",
    "deepnote_cell_type": "markdown"
   }
  },
  {
   "cell_type": "code",
   "execution_count": 5,
   "source": [
    " L = []\r\n",
    " for x in range(1, 11):\r\n",
    "   L.append(x * x)\r\n",
    "print(L)"
   ],
   "outputs": [
    {
     "output_type": "stream",
     "name": "stdout",
     "text": [
      "[1, 4, 9, 16, 25, 36, 49, 64, 81, 100]\n"
     ]
    }
   ],
   "metadata": {
    "tags": [],
    "cell_id": "00007-d2580274-587c-4283-afe1-a11afa1d9920",
    "deepnote_to_be_reexecuted": false,
    "source_hash": "a5f9e4bc",
    "execution_start": 1631885959504,
    "execution_millis": 15,
    "deepnote_cell_type": "code"
   }
  },
  {
   "cell_type": "markdown",
   "source": [
    "但是循环太繁琐，而列表生成式则可以用一行语句代替循环生成上面的list："
   ],
   "metadata": {
    "tags": [],
    "cell_id": "00010-8258bb75-0a8a-444b-aaf7-eb4fe4513972",
    "deepnote_cell_type": "markdown"
   }
  },
  {
   "cell_type": "code",
   "execution_count": 6,
   "source": [
    "[x * x for x in range(1, 11)]"
   ],
   "outputs": [
    {
     "output_type": "execute_result",
     "data": {
      "text/plain": [
       "[1, 4, 9, 16, 25, 36, 49, 64, 81, 100]"
      ]
     },
     "metadata": {},
     "execution_count": 6
    }
   ],
   "metadata": {
    "tags": [],
    "cell_id": "00011-5f321afd-9c6e-4799-85a9-4721209e9365",
    "deepnote_to_be_reexecuted": false,
    "source_hash": "e2d85553",
    "execution_start": 1631886014183,
    "deepnote_cell_type": "code"
   }
  },
  {
   "cell_type": "markdown",
   "source": [
    "写列表生成式时，把要生成的元素x * x放到前面，后面跟for循环，就可以把list创建出来，十分有用，多写几次，很快就可以熟悉这种语法。\n",
    "\n",
    "for循环后面还可以加上if判断，这样我们就可以筛选出仅偶数的平方："
   ],
   "metadata": {
    "tags": [],
    "cell_id": "00012-e8083fde-8923-47b9-95e5-cb49332ae881",
    "deepnote_cell_type": "markdown"
   }
  },
  {
   "cell_type": "code",
   "execution_count": 7,
   "source": [
    "[x*x  for x in range(1,11) if x%2==0]"
   ],
   "outputs": [
    {
     "output_type": "execute_result",
     "data": {
      "text/plain": [
       "[4, 16, 36, 64, 100]"
      ]
     },
     "metadata": {},
     "execution_count": 7
    }
   ],
   "metadata": {
    "tags": [],
    "cell_id": "00013-02ca42fa-9a01-425c-be00-000eda01be1c",
    "deepnote_to_be_reexecuted": false,
    "source_hash": "e31aab6d",
    "execution_start": 1631886161247,
    "execution_millis": 13,
    "deepnote_cell_type": "code"
   }
  },
  {
   "cell_type": "code",
   "execution_count": 11,
   "source": [
    "L=[]\r\n",
    "for x in range(1,11):\r\n",
    "    if x%2==0:\r\n",
    "        L.append(x*x)\r\n",
    "print (L)"
   ],
   "outputs": [
    {
     "output_type": "stream",
     "name": "stdout",
     "text": [
      "[4, 16, 36, 64, 100]\n"
     ]
    }
   ],
   "metadata": {
    "tags": [],
    "cell_id": "00014-15e83b41-b9a7-488b-b093-b978de040365",
    "deepnote_to_be_reexecuted": false,
    "source_hash": "a6861751",
    "execution_start": 1631886362269,
    "execution_millis": 20,
    "deepnote_cell_type": "code"
   }
  },
  {
   "cell_type": "markdown",
   "source": [
    "还可以使用两层循环，可以生成全排列："
   ],
   "metadata": {
    "tags": [],
    "cell_id": "00014-7084da68-8002-4e04-afb6-d1a1a0e55d24",
    "deepnote_cell_type": "markdown"
   }
  },
  {
   "cell_type": "code",
   "execution_count": 8,
   "source": [
    "[m + n for m in 'ABC' for n in 'XYZ']"
   ],
   "outputs": [
    {
     "output_type": "execute_result",
     "data": {
      "text/plain": [
       "['AX', 'AY', 'AZ', 'BX', 'BY', 'BZ', 'CX', 'CY', 'CZ']"
      ]
     },
     "metadata": {},
     "execution_count": 8
    }
   ],
   "metadata": {
    "tags": [],
    "cell_id": "00015-f3ca4f46-a32f-45b7-b7b7-b360bec1df17",
    "deepnote_to_be_reexecuted": false,
    "source_hash": "c6e4b9ba",
    "execution_start": 1631886198757,
    "execution_millis": 16,
    "deepnote_cell_type": "code"
   }
  },
  {
   "cell_type": "code",
   "execution_count": 13,
   "source": [
    "L=[]\r\n",
    "for m in 'ABC':\r\n",
    "    for n in 'XYZ':\r\n",
    "        L.append(m+n)\r\n",
    "print(L)"
   ],
   "outputs": [
    {
     "output_type": "stream",
     "name": "stdout",
     "text": [
      "['AX', 'AY', 'AZ', 'BX', 'BY', 'BZ', 'CX', 'CY', 'CZ']\n"
     ]
    }
   ],
   "metadata": {
    "tags": [],
    "cell_id": "00017-4ce869b8-b5dc-4c96-b8e6-e8fb30d3ca5c",
    "deepnote_to_be_reexecuted": false,
    "source_hash": "8964108",
    "execution_start": 1631886455875,
    "execution_millis": 14,
    "deepnote_cell_type": "code"
   }
  },
  {
   "cell_type": "code",
   "execution_count": 16,
   "source": [
    "import os\r\n",
    "[d for d in os.listdir(\".\")]"
   ],
   "outputs": [
    {
     "output_type": "execute_result",
     "data": {
      "text/plain": [
       "['第一课基本数据结构.ipynb',\n",
       " 'diyLogo.png',\n",
       " 'test.html',\n",
       " 'example21.py',\n",
       " '.vscode',\n",
       " '学习安装Python.ipynb',\n",
       " 'tiantian01.py',\n",
       " 'img',\n",
       " 'test.ipynb',\n",
       " '.git',\n",
       " 'README.md',\n",
       " '第二课程序设计基础.ipynb']"
      ]
     },
     "metadata": {},
     "execution_count": 16
    }
   ],
   "metadata": {
    "tags": [],
    "cell_id": "00018-66e47e1a-5a96-4c7c-8125-09d05de1ed77",
    "deepnote_to_be_reexecuted": false,
    "source_hash": "bc4b2048",
    "execution_start": 1631886686635,
    "execution_millis": 116,
    "deepnote_cell_type": "code"
   }
  },
  {
   "cell_type": "code",
   "execution_count": 3,
   "source": [
    "import numpy as np\r\n",
    "x=np.arange(32).reshape((8,4))\r\n",
    "print (x[np.ix_([1,5,7,2],[0,3,1,2])])\r\n"
   ],
   "outputs": [
    {
     "output_type": "stream",
     "name": "stdout",
     "text": [
      "[[ 4  7  5  6]\n",
      " [20 23 21 22]\n",
      " [28 31 29 30]\n",
      " [ 8 11  9 10]]\n"
     ]
    }
   ],
   "metadata": {
    "tags": [],
    "cell_id": "00019-b0cab964-44fe-4a98-8207-366d4e4883aa",
    "deepnote_cell_type": "code"
   }
  },
  {
   "cell_type": "markdown",
   "source": [],
   "metadata": {}
  },
  {
   "cell_type": "code",
   "execution_count": null,
   "source": [
    "from sklearn import tree\r\n",
    "from sklearn.datasets import load_wine\r\n",
    "from sklearn.model_selection import train_test_split\r\n",
    "wine = load_wine()\r\n",
    "#区分数据集和测试集\r\n",
    "Xtrain,Xtest,Ytrain,Ytest = train_test_split(wine.data,wine.target,test_size=0.3)\r\n",
    "\r\n",
    "clf = tree.DecisionTreeClassifier(criterion=\"entropy\")\r\n",
    "clf = clf.fit(Xtrain,Ytrain)\r\n",
    "score = clf.score(Xtest,Ytest)\r\n",
    "feature_name = ['酒精','苹果酸','灰','灰的碱性','镁','总酚','类黄酮','非黄烷类酚类','花青素','颜色强度','色调','稀释葡萄酒','脯氨酸']\r\n",
    "\r\n",
    "import graphviz\r\n",
    "#输出生成的决策树\r\n",
    "dot_data = tree.export_graphviz(clf\r\n",
    "                               ,feature_names = feature_name\r\n",
    "                               ,class_names = [\"琴酒\",\"雪莉\",\"贝尔摩德\"]\r\n",
    "                               ,filled=True\r\n",
    "                               ,rounded=True\r\n",
    "                               ,out_file=None #---->（异常二的解决方法二）\r\n",
    "                                ,special_characters=\"utf-8\"\r\n",
    "                               )\r\n",
    "\r\n",
    "graph = graphviz.Source(dot_data)\r\n",
    "graph.view()\r\n",
    "graph\r\n",
    "            "
   ],
   "outputs": [],
   "metadata": {}
  },
  {
   "cell_type": "markdown",
   "source": [
    "绘制dot图"
   ],
   "metadata": {}
  },
  {
   "cell_type": "code",
   "execution_count": 2,
   "source": [
    "dot=graphviz.Digraph(comment='the round table',node_attr={'shape': 'box'})\r\n",
    "dot.node('A','Start')\r\n",
    "dot.node('B','A=0')\r\n",
    "dot.node('C','B=1')\r\n",
    "dot.node('D','C=A+B',shape='parallelogram')\r\n",
    "dot.node('E','print(c)')\r\n",
    "dot.node('F','end')\r\n",
    "dot.edges(['AB','BC','CD','DE','EF'])\r\n",
    "dot"
   ],
   "outputs": [
    {
     "output_type": "execute_result",
     "data": {
      "image/svg+xml": "<?xml version=\"1.0\" encoding=\"UTF-8\" standalone=\"no\"?>\r\n<!DOCTYPE svg PUBLIC \"-//W3C//DTD SVG 1.1//EN\"\r\n \"http://www.w3.org/Graphics/SVG/1.1/DTD/svg11.dtd\">\r\n<!-- Generated by graphviz version 2.49.0 (20210828.1703)\r\n -->\r\n<!-- Pages: 1 -->\r\n<svg width=\"126pt\" height=\"404pt\"\r\n viewBox=\"0.00 0.00 126.16 404.00\" xmlns=\"http://www.w3.org/2000/svg\" xmlns:xlink=\"http://www.w3.org/1999/xlink\">\r\n<g id=\"graph0\" class=\"graph\" transform=\"scale(1 1) rotate(0) translate(4 400)\">\r\n<polygon fill=\"white\" stroke=\"transparent\" points=\"-4,4 -4,-400 122.16,-400 122.16,4 -4,4\"/>\r\n<!-- A -->\r\n<g id=\"node1\" class=\"node\">\r\n<title>A</title>\r\n<polygon fill=\"none\" stroke=\"black\" points=\"86.08,-396 32.08,-396 32.08,-360 86.08,-360 86.08,-396\"/>\r\n<text text-anchor=\"middle\" x=\"59.08\" y=\"-374.3\" font-family=\"Times New Roman,serif\" font-size=\"14.00\">Start</text>\r\n</g>\r\n<!-- B -->\r\n<g id=\"node2\" class=\"node\">\r\n<title>B</title>\r\n<polygon fill=\"none\" stroke=\"black\" points=\"86.08,-324 32.08,-324 32.08,-288 86.08,-288 86.08,-324\"/>\r\n<text text-anchor=\"middle\" x=\"59.08\" y=\"-302.3\" font-family=\"Times New Roman,serif\" font-size=\"14.00\">A=0</text>\r\n</g>\r\n<!-- A&#45;&gt;B -->\r\n<g id=\"edge1\" class=\"edge\">\r\n<title>A&#45;&gt;B</title>\r\n<path fill=\"none\" stroke=\"black\" d=\"M59.08,-359.7C59.08,-351.98 59.08,-342.71 59.08,-334.11\"/>\r\n<polygon fill=\"black\" stroke=\"black\" points=\"62.58,-334.1 59.08,-324.1 55.58,-334.1 62.58,-334.1\"/>\r\n</g>\r\n<!-- C -->\r\n<g id=\"node3\" class=\"node\">\r\n<title>C</title>\r\n<polygon fill=\"none\" stroke=\"black\" points=\"86.08,-252 32.08,-252 32.08,-216 86.08,-216 86.08,-252\"/>\r\n<text text-anchor=\"middle\" x=\"59.08\" y=\"-230.3\" font-family=\"Times New Roman,serif\" font-size=\"14.00\">B=1</text>\r\n</g>\r\n<!-- B&#45;&gt;C -->\r\n<g id=\"edge2\" class=\"edge\">\r\n<title>B&#45;&gt;C</title>\r\n<path fill=\"none\" stroke=\"black\" d=\"M59.08,-287.7C59.08,-279.98 59.08,-270.71 59.08,-262.11\"/>\r\n<polygon fill=\"black\" stroke=\"black\" points=\"62.58,-262.1 59.08,-252.1 55.58,-262.1 62.58,-262.1\"/>\r\n</g>\r\n<!-- D -->\r\n<g id=\"node4\" class=\"node\">\r\n<title>D</title>\r\n<polygon fill=\"none\" stroke=\"black\" points=\"118.25,-180 24.13,-180 -0.08,-144 94.04,-144 118.25,-180\"/>\r\n<text text-anchor=\"middle\" x=\"59.08\" y=\"-158.3\" font-family=\"Times New Roman,serif\" font-size=\"14.00\">C=A+B</text>\r\n</g>\r\n<!-- C&#45;&gt;D -->\r\n<g id=\"edge3\" class=\"edge\">\r\n<title>C&#45;&gt;D</title>\r\n<path fill=\"none\" stroke=\"black\" d=\"M59.08,-215.7C59.08,-207.98 59.08,-198.71 59.08,-190.11\"/>\r\n<polygon fill=\"black\" stroke=\"black\" points=\"62.58,-190.1 59.08,-180.1 55.58,-190.1 62.58,-190.1\"/>\r\n</g>\r\n<!-- E -->\r\n<g id=\"node5\" class=\"node\">\r\n<title>E</title>\r\n<polygon fill=\"none\" stroke=\"black\" points=\"88.08,-108 30.08,-108 30.08,-72 88.08,-72 88.08,-108\"/>\r\n<text text-anchor=\"middle\" x=\"59.08\" y=\"-86.3\" font-family=\"Times New Roman,serif\" font-size=\"14.00\">print(c)</text>\r\n</g>\r\n<!-- D&#45;&gt;E -->\r\n<g id=\"edge4\" class=\"edge\">\r\n<title>D&#45;&gt;E</title>\r\n<path fill=\"none\" stroke=\"black\" d=\"M59.08,-143.7C59.08,-135.98 59.08,-126.71 59.08,-118.11\"/>\r\n<polygon fill=\"black\" stroke=\"black\" points=\"62.58,-118.1 59.08,-108.1 55.58,-118.1 62.58,-118.1\"/>\r\n</g>\r\n<!-- F -->\r\n<g id=\"node6\" class=\"node\">\r\n<title>F</title>\r\n<polygon fill=\"none\" stroke=\"black\" points=\"86.08,-36 32.08,-36 32.08,0 86.08,0 86.08,-36\"/>\r\n<text text-anchor=\"middle\" x=\"59.08\" y=\"-14.3\" font-family=\"Times New Roman,serif\" font-size=\"14.00\">end</text>\r\n</g>\r\n<!-- E&#45;&gt;F -->\r\n<g id=\"edge5\" class=\"edge\">\r\n<title>E&#45;&gt;F</title>\r\n<path fill=\"none\" stroke=\"black\" d=\"M59.08,-71.7C59.08,-63.98 59.08,-54.71 59.08,-46.11\"/>\r\n<polygon fill=\"black\" stroke=\"black\" points=\"62.58,-46.1 59.08,-36.1 55.58,-46.1 62.58,-46.1\"/>\r\n</g>\r\n</g>\r\n</svg>\r\n",
      "text/plain": [
       "<graphviz.dot.Digraph at 0x1cf5bcbb7c0>"
      ]
     },
     "metadata": {},
     "execution_count": 2
    }
   ],
   "metadata": {}
  }
 ],
 "nbformat": 4,
 "nbformat_minor": 2,
 "metadata": {
  "orig_nbformat": 4,
  "language_info": {
   "name": "python",
   "version": "3.9.7",
   "mimetype": "text/x-python",
   "codemirror_mode": {
    "name": "ipython",
    "version": 3
   },
   "pygments_lexer": "ipython3",
   "nbconvert_exporter": "python",
   "file_extension": ".py"
  },
  "kernelspec": {
   "name": "python3",
   "display_name": "Python 3.9.7 64-bit"
  },
  "interpreter": {
   "hash": "b77746e9332ffa618d6f1b0c30b3b999bda6b9685dc073ddc506779c9ceef622"
  },
  "deepnote_notebook_id": "76065766-8f89-4f9d-a534-3b5cc4300152",
  "deepnote": {},
  "deepnote_execution_queue": []
 }
}