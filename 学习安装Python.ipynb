{
 "cells": [
  {
   "cell_type": "markdown",
   "source": [
    "学习Jupyter"
   ],
   "metadata": {}
  },
  {
   "cell_type": "markdown",
   "source": [
    "#安装Python及Jupyter"
   ],
   "metadata": {}
  },
  {
   "cell_type": "markdown",
   "source": [
    "\r\n",
    "##VSC+Python+Jupyter"
   ],
   "metadata": {}
  },
  {
   "cell_type": "markdown",
   "source": [
    "##Anoconda Jupyter"
   ],
   "metadata": {}
  }
 ],
 "metadata": {
  "orig_nbformat": 4,
  "language_info": {
   "name": "python",
   "version": "3.9.7"
  },
  "kernelspec": {
   "name": "python3",
   "display_name": "Python 3.9.7 64-bit"
  },
  "interpreter": {
   "hash": "b77746e9332ffa618d6f1b0c30b3b999bda6b9685dc073ddc506779c9ceef622"
  }
 },
 "nbformat": 4,
 "nbformat_minor": 2
}