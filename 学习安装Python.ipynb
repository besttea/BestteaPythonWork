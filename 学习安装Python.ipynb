{
 "cells": [
  {
   "cell_type": "code",
   "execution_count": null,
   "metadata": {
    "cell_id": "00000-a12c1e78-94f6-4c6f-8738-3da8b968231d",
    "deepnote_cell_type": "code",
    "tags": []
   },
   "outputs": [],
   "source": []
  },
  {
   "cell_type": "markdown",
   "metadata": {
    "cell_id": "00000-c6415894-0b12-40ac-9a43-6731e3ae3766",
    "deepnote_cell_type": "markdown"
   },
   "source": [
    "# 学习Jupyter"
   ]
  },
  {
   "cell_type": "markdown",
   "metadata": {
    "cell_id": "00001-28686d5b-f309-44a3-bb1b-902511354d69",
    "deepnote_cell_type": "markdown"
   },
   "source": [
    "# 安装Python及Jupyter"
   ]
  },
  {
   "cell_type": "markdown",
   "metadata": {
    "cell_id": "00002-40c02e1a-7dca-40c2-8ca4-c6a5bbbf951d",
    "deepnote_cell_type": "markdown"
   },
   "source": [
    "\n",
    "## Visual Studio Code + Python + Jupyter"
   ]
  },
  {
   "cell_type": "markdown",
   "metadata": {
    "cell_id": "00003-4356437f-9e5f-450f-bbe9-f0867e7ee4ba",
    "deepnote_cell_type": "markdown"
   },
   "source": [
    "## Anoconda Jupyter"
   ]
  },
  {
   "cell_type": "code",
   "execution_count": null,
   "metadata": {
    "cell_id": "00004-f89f29a6-6062-4820-b696-2e19df0ead1f",
    "deepnote_cell_type": "code",
    "deepnote_to_be_reexecuted": false,
    "execution_millis": 20,
    "execution_start": 1631653824946,
    "source_hash": "15116530",
    "tags": []
   },
   "outputs": [
    {
     "data": {
      "text/plain": [
       "['ALLOW_THREADS',\n",
       " 'AxisError',\n",
       " 'BUFSIZE',\n",
       " 'CLIP',\n",
       " 'ComplexWarning',\n",
       " 'DataSource',\n",
       " 'ERR_CALL',\n",
       " 'ERR_DEFAULT',\n",
       " 'ERR_IGNORE',\n",
       " 'ERR_LOG',\n",
       " 'ERR_PRINT',\n",
       " 'ERR_RAISE',\n",
       " 'ERR_WARN',\n",
       " 'FLOATING_POINT_SUPPORT',\n",
       " 'FPE_DIVIDEBYZERO',\n",
       " 'FPE_INVALID',\n",
       " 'FPE_OVERFLOW',\n",
       " 'FPE_UNDERFLOW',\n",
       " 'False_',\n",
       " 'Inf',\n",
       " 'Infinity',\n",
       " 'MAXDIMS',\n",
       " 'MAY_SHARE_BOUNDS',\n",
       " 'MAY_SHARE_EXACT',\n",
       " 'MachAr',\n",
       " 'ModuleDeprecationWarning',\n",
       " 'NAN',\n",
       " 'NINF',\n",
       " 'NZERO',\n",
       " 'NaN',\n",
       " 'PINF',\n",
       " 'PZERO',\n",
       " 'RAISE',\n",
       " 'RankWarning',\n",
       " 'SHIFT_DIVIDEBYZERO',\n",
       " 'SHIFT_INVALID',\n",
       " 'SHIFT_OVERFLOW',\n",
       " 'SHIFT_UNDERFLOW',\n",
       " 'ScalarType',\n",
       " 'Tester',\n",
       " 'TooHardError',\n",
       " 'True_',\n",
       " 'UFUNC_BUFSIZE_DEFAULT',\n",
       " 'UFUNC_PYVALS_NAME',\n",
       " 'VisibleDeprecationWarning',\n",
       " 'WRAP',\n",
       " '_NoValue',\n",
       " '_UFUNC_API',\n",
       " '__NUMPY_SETUP__',\n",
       " '__all__',\n",
       " '__builtins__',\n",
       " '__cached__',\n",
       " '__config__',\n",
       " '__dir__',\n",
       " '__doc__',\n",
       " '__file__',\n",
       " '__getattr__',\n",
       " '__git_revision__',\n",
       " '__loader__',\n",
       " '__name__',\n",
       " '__package__',\n",
       " '__path__',\n",
       " '__spec__',\n",
       " '__version__',\n",
       " '_add_newdoc_ufunc',\n",
       " '_distributor_init',\n",
       " '_globals',\n",
       " '_mat',\n",
       " '_pytesttester',\n",
       " 'abs',\n",
       " 'absolute',\n",
       " 'add',\n",
       " 'add_docstring',\n",
       " 'add_newdoc',\n",
       " 'add_newdoc_ufunc',\n",
       " 'alen',\n",
       " 'all',\n",
       " 'allclose',\n",
       " 'alltrue',\n",
       " 'amax',\n",
       " 'amin',\n",
       " 'angle',\n",
       " 'any',\n",
       " 'append',\n",
       " 'apply_along_axis',\n",
       " 'apply_over_axes',\n",
       " 'arange',\n",
       " 'arccos',\n",
       " 'arccosh',\n",
       " 'arcsin',\n",
       " 'arcsinh',\n",
       " 'arctan',\n",
       " 'arctan2',\n",
       " 'arctanh',\n",
       " 'argmax',\n",
       " 'argmin',\n",
       " 'argpartition',\n",
       " 'argsort',\n",
       " 'argwhere',\n",
       " 'around',\n",
       " 'array',\n",
       " 'array2string',\n",
       " 'array_equal',\n",
       " 'array_equiv',\n",
       " 'array_repr',\n",
       " 'array_split',\n",
       " 'array_str',\n",
       " 'asanyarray',\n",
       " 'asarray',\n",
       " 'asarray_chkfinite',\n",
       " 'ascontiguousarray',\n",
       " 'asfarray',\n",
       " 'asfortranarray',\n",
       " 'asmatrix',\n",
       " 'asscalar',\n",
       " 'atleast_1d',\n",
       " 'atleast_2d',\n",
       " 'atleast_3d',\n",
       " 'average',\n",
       " 'bartlett',\n",
       " 'base_repr',\n",
       " 'binary_repr',\n",
       " 'bincount',\n",
       " 'bitwise_and',\n",
       " 'bitwise_not',\n",
       " 'bitwise_or',\n",
       " 'bitwise_xor',\n",
       " 'blackman',\n",
       " 'block',\n",
       " 'bmat',\n",
       " 'bool',\n",
       " 'bool8',\n",
       " 'bool_',\n",
       " 'broadcast',\n",
       " 'broadcast_arrays',\n",
       " 'broadcast_to',\n",
       " 'busday_count',\n",
       " 'busday_offset',\n",
       " 'busdaycalendar',\n",
       " 'byte',\n",
       " 'byte_bounds',\n",
       " 'bytes0',\n",
       " 'bytes_',\n",
       " 'c_',\n",
       " 'can_cast',\n",
       " 'cast',\n",
       " 'cbrt',\n",
       " 'cdouble',\n",
       " 'ceil',\n",
       " 'cfloat',\n",
       " 'char',\n",
       " 'character',\n",
       " 'chararray',\n",
       " 'choose',\n",
       " 'clip',\n",
       " 'clongdouble',\n",
       " 'clongfloat',\n",
       " 'column_stack',\n",
       " 'common_type',\n",
       " 'compare_chararrays',\n",
       " 'compat',\n",
       " 'complex',\n",
       " 'complex128',\n",
       " 'complex256',\n",
       " 'complex64',\n",
       " 'complex_',\n",
       " 'complexfloating',\n",
       " 'compress',\n",
       " 'concatenate',\n",
       " 'conj',\n",
       " 'conjugate',\n",
       " 'convolve',\n",
       " 'copy',\n",
       " 'copysign',\n",
       " 'copyto',\n",
       " 'core',\n",
       " 'corrcoef',\n",
       " 'correlate',\n",
       " 'cos',\n",
       " 'cosh',\n",
       " 'count_nonzero',\n",
       " 'cov',\n",
       " 'cross',\n",
       " 'csingle',\n",
       " 'ctypeslib',\n",
       " 'cumprod',\n",
       " 'cumproduct',\n",
       " 'cumsum',\n",
       " 'datetime64',\n",
       " 'datetime_as_string',\n",
       " 'datetime_data',\n",
       " 'deg2rad',\n",
       " 'degrees',\n",
       " 'delete',\n",
       " 'deprecate',\n",
       " 'deprecate_with_doc',\n",
       " 'diag',\n",
       " 'diag_indices',\n",
       " 'diag_indices_from',\n",
       " 'diagflat',\n",
       " 'diagonal',\n",
       " 'diff',\n",
       " 'digitize',\n",
       " 'disp',\n",
       " 'divide',\n",
       " 'divmod',\n",
       " 'dot',\n",
       " 'double',\n",
       " 'dsplit',\n",
       " 'dstack',\n",
       " 'dtype',\n",
       " 'e',\n",
       " 'ediff1d',\n",
       " 'einsum',\n",
       " 'einsum_path',\n",
       " 'emath',\n",
       " 'empty',\n",
       " 'empty_like',\n",
       " 'equal',\n",
       " 'errstate',\n",
       " 'euler_gamma',\n",
       " 'exp',\n",
       " 'exp2',\n",
       " 'expand_dims',\n",
       " 'expm1',\n",
       " 'extract',\n",
       " 'eye',\n",
       " 'fabs',\n",
       " 'fastCopyAndTranspose',\n",
       " 'fft',\n",
       " 'fill_diagonal',\n",
       " 'find_common_type',\n",
       " 'finfo',\n",
       " 'fix',\n",
       " 'flatiter',\n",
       " 'flatnonzero',\n",
       " 'flexible',\n",
       " 'flip',\n",
       " 'fliplr',\n",
       " 'flipud',\n",
       " 'float',\n",
       " 'float128',\n",
       " 'float16',\n",
       " 'float32',\n",
       " 'float64',\n",
       " 'float_',\n",
       " 'float_power',\n",
       " 'floating',\n",
       " 'floor',\n",
       " 'floor_divide',\n",
       " 'fmax',\n",
       " 'fmin',\n",
       " 'fmod',\n",
       " 'format_float_positional',\n",
       " 'format_float_scientific',\n",
       " 'format_parser',\n",
       " 'frexp',\n",
       " 'frombuffer',\n",
       " 'fromfile',\n",
       " 'fromfunction',\n",
       " 'fromiter',\n",
       " 'frompyfunc',\n",
       " 'fromregex',\n",
       " 'fromstring',\n",
       " 'full',\n",
       " 'full_like',\n",
       " 'fv',\n",
       " 'gcd',\n",
       " 'generic',\n",
       " 'genfromtxt',\n",
       " 'geomspace',\n",
       " 'get_array_wrap',\n",
       " 'get_include',\n",
       " 'get_printoptions',\n",
       " 'getbufsize',\n",
       " 'geterr',\n",
       " 'geterrcall',\n",
       " 'geterrobj',\n",
       " 'gradient',\n",
       " 'greater',\n",
       " 'greater_equal',\n",
       " 'half',\n",
       " 'hamming',\n",
       " 'hanning',\n",
       " 'heaviside',\n",
       " 'histogram',\n",
       " 'histogram2d',\n",
       " 'histogram_bin_edges',\n",
       " 'histogramdd',\n",
       " 'hsplit',\n",
       " 'hstack',\n",
       " 'hypot',\n",
       " 'i0',\n",
       " 'identity',\n",
       " 'iinfo',\n",
       " 'imag',\n",
       " 'in1d',\n",
       " 'index_exp',\n",
       " 'indices',\n",
       " 'inexact',\n",
       " 'inf',\n",
       " 'info',\n",
       " 'infty',\n",
       " 'inner',\n",
       " 'insert',\n",
       " 'int',\n",
       " 'int0',\n",
       " 'int16',\n",
       " 'int32',\n",
       " 'int64',\n",
       " 'int8',\n",
       " 'int_',\n",
       " 'intc',\n",
       " 'integer',\n",
       " 'interp',\n",
       " 'intersect1d',\n",
       " 'intp',\n",
       " 'invert',\n",
       " 'ipmt',\n",
       " 'irr',\n",
       " 'is_busday',\n",
       " 'isclose',\n",
       " 'iscomplex',\n",
       " 'iscomplexobj',\n",
       " 'isfinite',\n",
       " 'isfortran',\n",
       " 'isin',\n",
       " 'isinf',\n",
       " 'isnan',\n",
       " 'isnat',\n",
       " 'isneginf',\n",
       " 'isposinf',\n",
       " 'isreal',\n",
       " 'isrealobj',\n",
       " 'isscalar',\n",
       " 'issctype',\n",
       " 'issubclass_',\n",
       " 'issubdtype',\n",
       " 'issubsctype',\n",
       " 'iterable',\n",
       " 'ix_',\n",
       " 'kaiser',\n",
       " 'kernel_version',\n",
       " 'kron',\n",
       " 'lcm',\n",
       " 'ldexp',\n",
       " 'left_shift',\n",
       " 'less',\n",
       " 'less_equal',\n",
       " 'lexsort',\n",
       " 'lib',\n",
       " 'linalg',\n",
       " 'linspace',\n",
       " 'little_endian',\n",
       " 'load',\n",
       " 'loads',\n",
       " 'loadtxt',\n",
       " 'log',\n",
       " 'log10',\n",
       " 'log1p',\n",
       " 'log2',\n",
       " 'logaddexp',\n",
       " 'logaddexp2',\n",
       " 'logical_and',\n",
       " 'logical_not',\n",
       " 'logical_or',\n",
       " 'logical_xor',\n",
       " 'logspace',\n",
       " 'long',\n",
       " 'longcomplex',\n",
       " 'longdouble',\n",
       " 'longfloat',\n",
       " 'longlong',\n",
       " 'lookfor',\n",
       " 'ma',\n",
       " 'mafromtxt',\n",
       " 'mask_indices',\n",
       " 'mat',\n",
       " 'math',\n",
       " 'matmul',\n",
       " 'matrix',\n",
       " 'matrixlib',\n",
       " 'max',\n",
       " 'maximum',\n",
       " 'maximum_sctype',\n",
       " 'may_share_memory',\n",
       " 'mean',\n",
       " 'median',\n",
       " 'memmap',\n",
       " 'meshgrid',\n",
       " 'mgrid',\n",
       " 'min',\n",
       " 'min_scalar_type',\n",
       " 'minimum',\n",
       " 'mintypecode',\n",
       " 'mirr',\n",
       " 'mod',\n",
       " 'modf',\n",
       " 'moveaxis',\n",
       " 'msort',\n",
       " 'multiply',\n",
       " 'nan',\n",
       " 'nan_to_num',\n",
       " 'nanargmax',\n",
       " 'nanargmin',\n",
       " 'nancumprod',\n",
       " 'nancumsum',\n",
       " 'nanmax',\n",
       " 'nanmean',\n",
       " 'nanmedian',\n",
       " 'nanmin',\n",
       " 'nanpercentile',\n",
       " 'nanprod',\n",
       " 'nanquantile',\n",
       " 'nanstd',\n",
       " 'nansum',\n",
       " 'nanvar',\n",
       " 'nbytes',\n",
       " 'ndarray',\n",
       " 'ndenumerate',\n",
       " 'ndfromtxt',\n",
       " 'ndim',\n",
       " 'ndindex',\n",
       " 'nditer',\n",
       " 'negative',\n",
       " 'nested_iters',\n",
       " 'newaxis',\n",
       " 'nextafter',\n",
       " 'nonzero',\n",
       " 'not_equal',\n",
       " 'nper',\n",
       " 'npv',\n",
       " 'numarray',\n",
       " 'number',\n",
       " 'obj2sctype',\n",
       " 'object',\n",
       " 'object0',\n",
       " 'object_',\n",
       " 'ogrid',\n",
       " 'oldnumeric',\n",
       " 'ones',\n",
       " 'ones_like',\n",
       " 'os',\n",
       " 'outer',\n",
       " 'packbits',\n",
       " 'pad',\n",
       " 'partition',\n",
       " 'percentile',\n",
       " 'pi',\n",
       " 'piecewise',\n",
       " 'place',\n",
       " 'pmt',\n",
       " 'poly',\n",
       " 'poly1d',\n",
       " 'polyadd',\n",
       " 'polyder',\n",
       " 'polydiv',\n",
       " 'polyfit',\n",
       " 'polyint',\n",
       " 'polymul',\n",
       " 'polynomial',\n",
       " 'polysub',\n",
       " 'polyval',\n",
       " 'positive',\n",
       " 'power',\n",
       " 'ppmt',\n",
       " 'printoptions',\n",
       " 'prod',\n",
       " 'product',\n",
       " 'promote_types',\n",
       " 'ptp',\n",
       " 'put',\n",
       " 'put_along_axis',\n",
       " 'putmask',\n",
       " 'pv',\n",
       " 'quantile',\n",
       " 'r_',\n",
       " 'rad2deg',\n",
       " 'radians',\n",
       " 'random',\n",
       " 'rate',\n",
       " 'ravel',\n",
       " 'ravel_multi_index',\n",
       " 'real',\n",
       " 'real_if_close',\n",
       " 'rec',\n",
       " 'recarray',\n",
       " 'recfromcsv',\n",
       " 'recfromtxt',\n",
       " 'reciprocal',\n",
       " 'record',\n",
       " 'remainder',\n",
       " 'repeat',\n",
       " 'require',\n",
       " 'reshape',\n",
       " 'resize',\n",
       " 'result_type',\n",
       " 'right_shift',\n",
       " 'rint',\n",
       " 'roll',\n",
       " 'rollaxis',\n",
       " 'roots',\n",
       " 'rot90',\n",
       " 'round',\n",
       " 'round_',\n",
       " 'row_stack',\n",
       " 's_',\n",
       " 'safe_eval',\n",
       " 'save',\n",
       " 'savetxt',\n",
       " 'savez',\n",
       " 'savez_compressed',\n",
       " 'sctype2char',\n",
       " 'sctypeDict',\n",
       " 'sctypeNA',\n",
       " 'sctypes',\n",
       " 'searchsorted',\n",
       " 'select',\n",
       " 'set_numeric_ops',\n",
       " 'set_printoptions',\n",
       " 'set_string_function',\n",
       " 'setbufsize',\n",
       " 'setdiff1d',\n",
       " 'seterr',\n",
       " 'seterrcall',\n",
       " 'seterrobj',\n",
       " 'setxor1d',\n",
       " 'shape',\n",
       " 'shares_memory',\n",
       " 'short',\n",
       " 'show_config',\n",
       " 'sign',\n",
       " 'signbit',\n",
       " 'signedinteger',\n",
       " 'sin',\n",
       " 'sinc',\n",
       " 'single',\n",
       " 'singlecomplex',\n",
       " 'sinh',\n",
       " 'size',\n",
       " 'sometrue',\n",
       " 'sort',\n",
       " 'sort_complex',\n",
       " 'source',\n",
       " 'spacing',\n",
       " 'split',\n",
       " 'sqrt',\n",
       " 'square',\n",
       " 'squeeze',\n",
       " 'stack',\n",
       " 'std',\n",
       " 'str',\n",
       " 'str0',\n",
       " 'str_',\n",
       " 'string_',\n",
       " 'subtract',\n",
       " 'sum',\n",
       " 'swapaxes',\n",
       " 'sys',\n",
       " 'take',\n",
       " 'take_along_axis',\n",
       " 'tan',\n",
       " 'tanh',\n",
       " 'tensordot',\n",
       " 'test',\n",
       " 'testing',\n",
       " 'tile',\n",
       " 'timedelta64',\n",
       " 'trace',\n",
       " 'tracemalloc_domain',\n",
       " 'transpose',\n",
       " 'trapz',\n",
       " 'tri',\n",
       " 'tril',\n",
       " 'tril_indices',\n",
       " 'tril_indices_from',\n",
       " 'trim_zeros',\n",
       " 'triu',\n",
       " 'triu_indices',\n",
       " 'triu_indices_from',\n",
       " 'true_divide',\n",
       " 'trunc',\n",
       " 'typeDict',\n",
       " 'typeNA',\n",
       " 'typecodes',\n",
       " 'typename',\n",
       " 'ubyte',\n",
       " 'ufunc',\n",
       " 'uint',\n",
       " 'uint0',\n",
       " 'uint16',\n",
       " 'uint32',\n",
       " 'uint64',\n",
       " 'uint8',\n",
       " 'uintc',\n",
       " 'uintp',\n",
       " 'ulonglong',\n",
       " 'unicode',\n",
       " 'unicode_',\n",
       " 'union1d',\n",
       " 'unique',\n",
       " 'unpackbits',\n",
       " 'unravel_index',\n",
       " 'unsignedinteger',\n",
       " 'unwrap',\n",
       " 'use_hugepage',\n",
       " 'ushort',\n",
       " 'vander',\n",
       " 'var',\n",
       " 'vdot',\n",
       " 'vectorize',\n",
       " 'version',\n",
       " 'void',\n",
       " 'void0',\n",
       " 'vsplit',\n",
       " 'vstack',\n",
       " 'warnings',\n",
       " 'where',\n",
       " 'who',\n",
       " 'zeros',\n",
       " 'zeros_like']"
      ]
     },
     "execution_count": 4,
     "metadata": {},
     "output_type": "execute_result"
    }
   ],
   "source": [
    "import numpy\n",
    "dir(numpy)\n"
   ]
  },
  {
   "cell_type": "code",
   "execution_count": 2,
   "metadata": {
    "cell_id": "00005-06b7e5e5-8e2c-4ad0-b923-4d80da3ec566",
    "deepnote_cell_type": "code",
    "deepnote_to_be_reexecuted": false,
    "execution_millis": 1,
    "execution_start": 1631885834542,
    "source_hash": "6e37a546",
    "tags": []
   },
   "outputs": [
    {
     "data": {
      "text/plain": [
       "[1, 2, 3, 4, 5, 6, 7, 8, 9, 10]"
      ]
     },
     "execution_count": 2,
     "metadata": {},
     "output_type": "execute_result"
    }
   ],
   "source": [
    " list(range(1, 11))"
   ]
  },
  {
   "cell_type": "code",
   "execution_count": null,
   "metadata": {
    "cell_id": "00006-df0db469-da2c-403b-8f2f-fe87ea4b2bac",
    "deepnote_cell_type": "code",
    "tags": []
   },
   "outputs": [],
   "source": []
  },
  {
   "cell_type": "code",
   "execution_count": 1,
   "metadata": {
    "cell_id": "00006-1ace5f2c-a45b-4862-be3c-dfc2dde2958f",
    "deepnote_cell_type": "code",
    "deepnote_to_be_reexecuted": false,
    "execution_millis": 109,
    "execution_start": 1631885760287,
    "source_hash": "d1ea1f50",
    "tags": []
   },
   "outputs": [
    {
     "data": {
      "text/plain": [
       "['hello', 'world', 'ibm', 'apple']"
      ]
     },
     "execution_count": 1,
     "metadata": {},
     "output_type": "execute_result"
    }
   ],
   "source": [
    " L = ['Hello', 'World', 'IBM', 'Apple']\n",
    "[s.lower() for s in L]"
   ]
  },
  {
   "cell_type": "markdown",
   "metadata": {
    "cell_id": "00008-e0935947-2ac7-4d2f-ac72-ae2df1645f6f",
    "deepnote_cell_type": "markdown",
    "tags": []
   },
   "source": [
    "但如果要生成[1x1, 2x2, 3x3, ..., 10x10]怎么做？方法一是循环："
   ]
  },
  {
   "cell_type": "code",
   "execution_count": 5,
   "metadata": {
    "cell_id": "00007-d2580274-587c-4283-afe1-a11afa1d9920",
    "deepnote_cell_type": "code",
    "deepnote_to_be_reexecuted": false,
    "execution_millis": 15,
    "execution_start": 1631885959504,
    "source_hash": "a5f9e4bc",
    "tags": []
   },
   "outputs": [
    {
     "name": "stdout",
     "output_type": "stream",
     "text": [
      "[1, 4, 9, 16, 25, 36, 49, 64, 81, 100]\n"
     ]
    }
   ],
   "source": [
    " L = []\n",
    " for x in range(1, 11):\n",
    "   L.append(x * x)\n",
    "print(L)"
   ]
  },
  {
   "cell_type": "markdown",
   "metadata": {
    "cell_id": "00010-8258bb75-0a8a-444b-aaf7-eb4fe4513972",
    "deepnote_cell_type": "markdown",
    "tags": []
   },
   "source": [
    "但是循环太繁琐，而列表生成式则可以用一行语句代替循环生成上面的list："
   ]
  },
  {
   "cell_type": "code",
   "execution_count": 6,
   "metadata": {
    "cell_id": "00011-5f321afd-9c6e-4799-85a9-4721209e9365",
    "deepnote_cell_type": "code",
    "deepnote_to_be_reexecuted": false,
    "execution_start": 1631886014183,
    "source_hash": "e2d85553",
    "tags": []
   },
   "outputs": [
    {
     "data": {
      "text/plain": [
       "[1, 4, 9, 16, 25, 36, 49, 64, 81, 100]"
      ]
     },
     "execution_count": 6,
     "metadata": {},
     "output_type": "execute_result"
    }
   ],
   "source": [
    "[x * x for x in range(1, 11)]"
   ]
  },
  {
   "cell_type": "markdown",
   "metadata": {
    "cell_id": "00012-e8083fde-8923-47b9-95e5-cb49332ae881",
    "deepnote_cell_type": "markdown",
    "tags": []
   },
   "source": [
    "写列表生成式时，把要生成的元素x * x放到前面，后面跟for循环，就可以把list创建出来，十分有用，多写几次，很快就可以熟悉这种语法。\n",
    "\n",
    "for循环后面还可以加上if判断，这样我们就可以筛选出仅偶数的平方："
   ]
  },
  {
   "cell_type": "code",
   "execution_count": 7,
   "metadata": {
    "cell_id": "00013-02ca42fa-9a01-425c-be00-000eda01be1c",
    "deepnote_cell_type": "code",
    "deepnote_to_be_reexecuted": false,
    "execution_millis": 13,
    "execution_start": 1631886161247,
    "source_hash": "e31aab6d",
    "tags": []
   },
   "outputs": [
    {
     "data": {
      "text/plain": [
       "[4, 16, 36, 64, 100]"
      ]
     },
     "execution_count": 7,
     "metadata": {},
     "output_type": "execute_result"
    }
   ],
   "source": [
    "[x*x  for x in range(1,11) if x%2==0]"
   ]
  },
  {
   "cell_type": "code",
   "execution_count": 11,
   "metadata": {
    "cell_id": "00014-15e83b41-b9a7-488b-b093-b978de040365",
    "deepnote_cell_type": "code",
    "deepnote_to_be_reexecuted": false,
    "execution_millis": 20,
    "execution_start": 1631886362269,
    "source_hash": "a6861751",
    "tags": []
   },
   "outputs": [
    {
     "name": "stdout",
     "output_type": "stream",
     "text": [
      "[4, 16, 36, 64, 100]\n"
     ]
    }
   ],
   "source": [
    "L=[]\n",
    "for x in range(1,11):\n",
    "    if x%2==0:\n",
    "        L.append(x*x)\n",
    "print (L)"
   ]
  },
  {
   "cell_type": "markdown",
   "metadata": {
    "cell_id": "00014-7084da68-8002-4e04-afb6-d1a1a0e55d24",
    "deepnote_cell_type": "markdown",
    "tags": []
   },
   "source": [
    "还可以使用两层循环，可以生成全排列："
   ]
  },
  {
   "cell_type": "code",
   "execution_count": 8,
   "metadata": {
    "cell_id": "00015-f3ca4f46-a32f-45b7-b7b7-b360bec1df17",
    "deepnote_cell_type": "code",
    "deepnote_to_be_reexecuted": false,
    "execution_millis": 16,
    "execution_start": 1631886198757,
    "source_hash": "c6e4b9ba",
    "tags": []
   },
   "outputs": [
    {
     "data": {
      "text/plain": [
       "['AX', 'AY', 'AZ', 'BX', 'BY', 'BZ', 'CX', 'CY', 'CZ']"
      ]
     },
     "execution_count": 8,
     "metadata": {},
     "output_type": "execute_result"
    }
   ],
   "source": [
    "[m + n for m in 'ABC' for n in 'XYZ']"
   ]
  },
  {
   "cell_type": "code",
   "execution_count": 13,
   "metadata": {
    "cell_id": "00017-4ce869b8-b5dc-4c96-b8e6-e8fb30d3ca5c",
    "deepnote_cell_type": "code",
    "deepnote_to_be_reexecuted": false,
    "execution_millis": 14,
    "execution_start": 1631886455875,
    "source_hash": "8964108",
    "tags": []
   },
   "outputs": [
    {
     "name": "stdout",
     "output_type": "stream",
     "text": [
      "['AX', 'AY', 'AZ', 'BX', 'BY', 'BZ', 'CX', 'CY', 'CZ']\n"
     ]
    }
   ],
   "source": [
    "L=[]\n",
    "for m in 'ABC':\n",
    "    for n in 'XYZ':\n",
    "        L.append(m+n)\n",
    "print(L)"
   ]
  },
  {
   "cell_type": "code",
   "execution_count": 16,
   "metadata": {
    "cell_id": "00018-66e47e1a-5a96-4c7c-8125-09d05de1ed77",
    "deepnote_cell_type": "code",
    "deepnote_to_be_reexecuted": false,
    "execution_millis": 116,
    "execution_start": 1631886686635,
    "source_hash": "bc4b2048",
    "tags": []
   },
   "outputs": [
    {
     "data": {
      "text/plain": [
       "['第一课基本数据结构.ipynb',\n",
       " 'diyLogo.png',\n",
       " 'test.html',\n",
       " 'example21.py',\n",
       " '.vscode',\n",
       " '学习安装Python.ipynb',\n",
       " 'tiantian01.py',\n",
       " 'img',\n",
       " 'test.ipynb',\n",
       " '.git',\n",
       " 'README.md',\n",
       " '第二课程序设计基础.ipynb']"
      ]
     },
     "execution_count": 16,
     "metadata": {},
     "output_type": "execute_result"
    }
   ],
   "source": [
    "import os\n",
    "[d for d in os.listdir(\".\")]"
   ]
  },
  {
   "cell_type": "code",
   "execution_count": 3,
   "metadata": {
    "cell_id": "00019-b0cab964-44fe-4a98-8207-366d4e4883aa",
    "deepnote_cell_type": "code",
    "tags": []
   },
   "outputs": [
    {
     "name": "stdout",
     "output_type": "stream",
     "text": [
      "[[ 4  7  5  6]\n",
      " [20 23 21 22]\n",
      " [28 31 29 30]\n",
      " [ 8 11  9 10]]\n"
     ]
    }
   ],
   "source": [
    "import numpy as np\n",
    "x=np.arange(32).reshape((8,4))\n",
    "print (x[np.ix_([1,5,7,2],[0,3,1,2])])\n"
   ]
  },
  {
   "cell_type": "markdown",
   "metadata": {},
   "source": []
  },
  {
   "cell_type": "code",
   "execution_count": 5,
   "metadata": {},
   "outputs": [
    {
     "data": {
      "image/svg+xml": "<?xml version=\"1.0\" encoding=\"UTF-8\" standalone=\"no\"?>\r\n<!DOCTYPE svg PUBLIC \"-//W3C//DTD SVG 1.1//EN\"\r\n \"http://www.w3.org/Graphics/SVG/1.1/DTD/svg11.dtd\">\r\n<!-- Generated by graphviz version 2.49.0 (20210828.1703)\r\n -->\r\n<!-- Title: Tree Pages: 1 -->\r\n<svg width=\"811pt\" height=\"552pt\"\r\n viewBox=\"0.00 0.00 811.00 552.00\" xmlns=\"http://www.w3.org/2000/svg\" xmlns:xlink=\"http://www.w3.org/1999/xlink\">\r\n<g id=\"graph0\" class=\"graph\" transform=\"scale(1 1) rotate(0) translate(4 548)\">\r\n<title>Tree</title>\r\n<polygon fill=\"white\" stroke=\"transparent\" points=\"-4,4 -4,-548 807,-548 807,4 -4,4\"/>\r\n<!-- 0 -->\r\n<g id=\"node1\" class=\"node\">\r\n<title>0</title>\r\n<path fill=\"#ecfdf3\" stroke=\"black\" d=\"M333.5,-544C333.5,-544 211.5,-544 211.5,-544 205.5,-544 199.5,-538 199.5,-532 199.5,-532 199.5,-473 199.5,-473 199.5,-467 205.5,-461 211.5,-461 211.5,-461 333.5,-461 333.5,-461 339.5,-461 345.5,-467 345.5,-473 345.5,-473 345.5,-532 345.5,-532 345.5,-538 339.5,-544 333.5,-544\"/>\r\n<text text-anchor=\"start\" x=\"207.5\" y=\"-528.8\" font-family=\"Helvetica,sans-Serif\" font-size=\"14.00\">稀释葡萄酒 ≤ 2.19</text>\r\n<text text-anchor=\"start\" x=\"222.5\" y=\"-513.8\" font-family=\"Helvetica,sans-Serif\" font-size=\"14.00\">entropy = 1.578</text>\r\n<text text-anchor=\"start\" x=\"225\" y=\"-498.8\" font-family=\"Helvetica,sans-Serif\" font-size=\"14.00\">samples = 124</text>\r\n<text text-anchor=\"start\" x=\"212\" y=\"-483.8\" font-family=\"Helvetica,sans-Serif\" font-size=\"14.00\">value = [39, 47, 38]</text>\r\n<text text-anchor=\"start\" x=\"230.5\" y=\"-468.8\" font-family=\"Helvetica,sans-Serif\" font-size=\"14.00\">class = 雪莉</text>\r\n</g>\r\n<!-- 1 -->\r\n<g id=\"node2\" class=\"node\">\r\n<title>1</title>\r\n<path fill=\"#8f4ee8\" stroke=\"black\" d=\"M252.5,-425C252.5,-425 142.5,-425 142.5,-425 136.5,-425 130.5,-419 130.5,-413 130.5,-413 130.5,-354 130.5,-354 130.5,-348 136.5,-342 142.5,-342 142.5,-342 252.5,-342 252.5,-342 258.5,-342 264.5,-348 264.5,-354 264.5,-354 264.5,-413 264.5,-413 264.5,-419 258.5,-425 252.5,-425\"/>\r\n<text text-anchor=\"start\" x=\"141\" y=\"-409.8\" font-family=\"Helvetica,sans-Serif\" font-size=\"14.00\">颜色强度 ≤ 3.51</text>\r\n<text text-anchor=\"start\" x=\"147.5\" y=\"-394.8\" font-family=\"Helvetica,sans-Serif\" font-size=\"14.00\">entropy = 0.461</text>\r\n<text text-anchor=\"start\" x=\"154\" y=\"-379.8\" font-family=\"Helvetica,sans-Serif\" font-size=\"14.00\">samples = 41</text>\r\n<text text-anchor=\"start\" x=\"145\" y=\"-364.8\" font-family=\"Helvetica,sans-Serif\" font-size=\"14.00\">value = [0, 4, 37]</text>\r\n<text text-anchor=\"start\" x=\"138.5\" y=\"-349.8\" font-family=\"Helvetica,sans-Serif\" font-size=\"14.00\">class = 贝尔摩德</text>\r\n</g>\r\n<!-- 0&#45;&gt;1 -->\r\n<g id=\"edge1\" class=\"edge\">\r\n<title>0&#45;&gt;1</title>\r\n<path fill=\"none\" stroke=\"black\" d=\"M246.48,-460.91C240.84,-452.1 234.81,-442.7 228.98,-433.61\"/>\r\n<polygon fill=\"black\" stroke=\"black\" points=\"231.82,-431.55 223.47,-425.02 225.93,-435.33 231.82,-431.55\"/>\r\n<text text-anchor=\"middle\" x=\"218.13\" y=\"-445.74\" font-family=\"Helvetica,sans-Serif\" font-size=\"14.00\">True</text>\r\n</g>\r\n<!-- 4 -->\r\n<g id=\"node5\" class=\"node\">\r\n<title>4</title>\r\n<path fill=\"#edfdf4\" stroke=\"black\" d=\"M400,-425C400,-425 295,-425 295,-425 289,-425 283,-419 283,-413 283,-413 283,-354 283,-354 283,-348 289,-342 295,-342 295,-342 400,-342 400,-342 406,-342 412,-348 412,-354 412,-354 412,-413 412,-413 412,-419 406,-425 400,-425\"/>\r\n<text text-anchor=\"start\" x=\"295.5\" y=\"-409.8\" font-family=\"Helvetica,sans-Serif\" font-size=\"14.00\">脯氨酸 ≤ 755.0</text>\r\n<text text-anchor=\"start\" x=\"301.5\" y=\"-394.8\" font-family=\"Helvetica,sans-Serif\" font-size=\"14.00\">entropy = 1.08</text>\r\n<text text-anchor=\"start\" x=\"304\" y=\"-379.8\" font-family=\"Helvetica,sans-Serif\" font-size=\"14.00\">samples = 83</text>\r\n<text text-anchor=\"start\" x=\"291\" y=\"-364.8\" font-family=\"Helvetica,sans-Serif\" font-size=\"14.00\">value = [39, 43, 1]</text>\r\n<text text-anchor=\"start\" x=\"305.5\" y=\"-349.8\" font-family=\"Helvetica,sans-Serif\" font-size=\"14.00\">class = 雪莉</text>\r\n</g>\r\n<!-- 0&#45;&gt;4 -->\r\n<g id=\"edge4\" class=\"edge\">\r\n<title>0&#45;&gt;4</title>\r\n<path fill=\"none\" stroke=\"black\" d=\"M298.52,-460.91C304.16,-452.1 310.19,-442.7 316.02,-433.61\"/>\r\n<polygon fill=\"black\" stroke=\"black\" points=\"319.07,-435.33 321.53,-425.02 313.18,-431.55 319.07,-435.33\"/>\r\n<text text-anchor=\"middle\" x=\"326.87\" y=\"-445.74\" font-family=\"Helvetica,sans-Serif\" font-size=\"14.00\">False</text>\r\n</g>\r\n<!-- 2 -->\r\n<g id=\"node3\" class=\"node\">\r\n<title>2</title>\r\n<path fill=\"#39e581\" stroke=\"black\" d=\"M101,-298.5C101,-298.5 12,-298.5 12,-298.5 6,-298.5 0,-292.5 0,-286.5 0,-286.5 0,-242.5 0,-242.5 0,-236.5 6,-230.5 12,-230.5 12,-230.5 101,-230.5 101,-230.5 107,-230.5 113,-236.5 113,-242.5 113,-242.5 113,-286.5 113,-286.5 113,-292.5 107,-298.5 101,-298.5\"/>\r\n<text text-anchor=\"start\" x=\"14.5\" y=\"-283.3\" font-family=\"Helvetica,sans-Serif\" font-size=\"14.00\">entropy = 0.0</text>\r\n<text text-anchor=\"start\" x=\"17\" y=\"-268.3\" font-family=\"Helvetica,sans-Serif\" font-size=\"14.00\">samples = 4</text>\r\n<text text-anchor=\"start\" x=\"8\" y=\"-253.3\" font-family=\"Helvetica,sans-Serif\" font-size=\"14.00\">value = [0, 4, 0]</text>\r\n<text text-anchor=\"start\" x=\"14.5\" y=\"-238.3\" font-family=\"Helvetica,sans-Serif\" font-size=\"14.00\">class = 雪莉</text>\r\n</g>\r\n<!-- 1&#45;&gt;2 -->\r\n<g id=\"edge2\" class=\"edge\">\r\n<title>1&#45;&gt;2</title>\r\n<path fill=\"none\" stroke=\"black\" d=\"M148.58,-341.91C134.22,-329.99 118.53,-316.98 104.25,-305.12\"/>\r\n<polygon fill=\"black\" stroke=\"black\" points=\"106.4,-302.36 96.47,-298.67 101.93,-307.75 106.4,-302.36\"/>\r\n</g>\r\n<!-- 3 -->\r\n<g id=\"node4\" class=\"node\">\r\n<title>3</title>\r\n<path fill=\"#8139e5\" stroke=\"black\" d=\"M253.5,-298.5C253.5,-298.5 143.5,-298.5 143.5,-298.5 137.5,-298.5 131.5,-292.5 131.5,-286.5 131.5,-286.5 131.5,-242.5 131.5,-242.5 131.5,-236.5 137.5,-230.5 143.5,-230.5 143.5,-230.5 253.5,-230.5 253.5,-230.5 259.5,-230.5 265.5,-236.5 265.5,-242.5 265.5,-242.5 265.5,-286.5 265.5,-286.5 265.5,-292.5 259.5,-298.5 253.5,-298.5\"/>\r\n<text text-anchor=\"start\" x=\"156.5\" y=\"-283.3\" font-family=\"Helvetica,sans-Serif\" font-size=\"14.00\">entropy = 0.0</text>\r\n<text text-anchor=\"start\" x=\"155\" y=\"-268.3\" font-family=\"Helvetica,sans-Serif\" font-size=\"14.00\">samples = 37</text>\r\n<text text-anchor=\"start\" x=\"146\" y=\"-253.3\" font-family=\"Helvetica,sans-Serif\" font-size=\"14.00\">value = [0, 0, 37]</text>\r\n<text text-anchor=\"start\" x=\"139.5\" y=\"-238.3\" font-family=\"Helvetica,sans-Serif\" font-size=\"14.00\">class = 贝尔摩德</text>\r\n</g>\r\n<!-- 1&#45;&gt;3 -->\r\n<g id=\"edge3\" class=\"edge\">\r\n<title>1&#45;&gt;3</title>\r\n<path fill=\"none\" stroke=\"black\" d=\"M197.85,-341.91C197.94,-331.2 198.04,-319.62 198.13,-308.78\"/>\r\n<polygon fill=\"black\" stroke=\"black\" points=\"201.63,-308.7 198.22,-298.67 194.63,-308.64 201.63,-308.7\"/>\r\n</g>\r\n<!-- 5 -->\r\n<g id=\"node6\" class=\"node\">\r\n<title>5</title>\r\n<path fill=\"#3ee684\" stroke=\"black\" d=\"M395,-306C395,-306 298,-306 298,-306 292,-306 286,-300 286,-294 286,-294 286,-235 286,-235 286,-229 292,-223 298,-223 298,-223 395,-223 395,-223 401,-223 407,-229 407,-235 407,-235 407,-294 407,-294 407,-300 401,-306 395,-306\"/>\r\n<text text-anchor=\"start\" x=\"299\" y=\"-290.8\" font-family=\"Helvetica,sans-Serif\" font-size=\"14.00\">酒精 ≤ 13.175</text>\r\n<text text-anchor=\"start\" x=\"296.5\" y=\"-275.8\" font-family=\"Helvetica,sans-Serif\" font-size=\"14.00\">entropy = 0.162</text>\r\n<text text-anchor=\"start\" x=\"303\" y=\"-260.8\" font-family=\"Helvetica,sans-Serif\" font-size=\"14.00\">samples = 42</text>\r\n<text text-anchor=\"start\" x=\"294\" y=\"-245.8\" font-family=\"Helvetica,sans-Serif\" font-size=\"14.00\">value = [1, 41, 0]</text>\r\n<text text-anchor=\"start\" x=\"304.5\" y=\"-230.8\" font-family=\"Helvetica,sans-Serif\" font-size=\"14.00\">class = 雪莉</text>\r\n</g>\r\n<!-- 4&#45;&gt;5 -->\r\n<g id=\"edge5\" class=\"edge\">\r\n<title>4&#45;&gt;5</title>\r\n<path fill=\"none\" stroke=\"black\" d=\"M347.15,-341.91C347.08,-333.65 347.01,-324.86 346.93,-316.3\"/>\r\n<polygon fill=\"black\" stroke=\"black\" points=\"350.43,-315.99 346.85,-306.02 343.43,-316.05 350.43,-315.99\"/>\r\n</g>\r\n<!-- 10 -->\r\n<g id=\"node11\" class=\"node\">\r\n<title>10</title>\r\n<path fill=\"#e78b48\" stroke=\"black\" d=\"M550,-306C550,-306 437,-306 437,-306 431,-306 425,-300 425,-294 425,-294 425,-235 425,-235 425,-229 431,-223 437,-223 437,-223 550,-223 550,-223 556,-223 562,-229 562,-235 562,-235 562,-294 562,-294 562,-300 556,-306 550,-306\"/>\r\n<text text-anchor=\"start\" x=\"433\" y=\"-290.8\" font-family=\"Helvetica,sans-Serif\" font-size=\"14.00\">颜色强度 ≤ 3.435</text>\r\n<text text-anchor=\"start\" x=\"443.5\" y=\"-275.8\" font-family=\"Helvetica,sans-Serif\" font-size=\"14.00\">entropy = 0.445</text>\r\n<text text-anchor=\"start\" x=\"450\" y=\"-260.8\" font-family=\"Helvetica,sans-Serif\" font-size=\"14.00\">samples = 41</text>\r\n<text text-anchor=\"start\" x=\"441\" y=\"-245.8\" font-family=\"Helvetica,sans-Serif\" font-size=\"14.00\">value = [38, 2, 1]</text>\r\n<text text-anchor=\"start\" x=\"451.5\" y=\"-230.8\" font-family=\"Helvetica,sans-Serif\" font-size=\"14.00\">class = 琴酒</text>\r\n</g>\r\n<!-- 4&#45;&gt;10 -->\r\n<g id=\"edge10\" class=\"edge\">\r\n<title>4&#45;&gt;10</title>\r\n<path fill=\"none\" stroke=\"black\" d=\"M398.15,-341.91C410.04,-332.38 422.81,-322.15 435.01,-312.37\"/>\r\n<polygon fill=\"black\" stroke=\"black\" points=\"437.32,-315.01 442.94,-306.02 432.94,-309.54 437.32,-315.01\"/>\r\n</g>\r\n<!-- 6 -->\r\n<g id=\"node7\" class=\"node\">\r\n<title>6</title>\r\n<path fill=\"#39e581\" stroke=\"black\" d=\"M265,-179.5C265,-179.5 168,-179.5 168,-179.5 162,-179.5 156,-173.5 156,-167.5 156,-167.5 156,-123.5 156,-123.5 156,-117.5 162,-111.5 168,-111.5 168,-111.5 265,-111.5 265,-111.5 271,-111.5 277,-117.5 277,-123.5 277,-123.5 277,-167.5 277,-167.5 277,-173.5 271,-179.5 265,-179.5\"/>\r\n<text text-anchor=\"start\" x=\"174.5\" y=\"-164.3\" font-family=\"Helvetica,sans-Serif\" font-size=\"14.00\">entropy = 0.0</text>\r\n<text text-anchor=\"start\" x=\"173\" y=\"-149.3\" font-family=\"Helvetica,sans-Serif\" font-size=\"14.00\">samples = 39</text>\r\n<text text-anchor=\"start\" x=\"164\" y=\"-134.3\" font-family=\"Helvetica,sans-Serif\" font-size=\"14.00\">value = [0, 39, 0]</text>\r\n<text text-anchor=\"start\" x=\"174.5\" y=\"-119.3\" font-family=\"Helvetica,sans-Serif\" font-size=\"14.00\">class = 雪莉</text>\r\n</g>\r\n<!-- 5&#45;&gt;6 -->\r\n<g id=\"edge6\" class=\"edge\">\r\n<title>5&#45;&gt;6</title>\r\n<path fill=\"none\" stroke=\"black\" d=\"M301.4,-222.91C288.28,-211.1 273.96,-198.22 260.89,-186.45\"/>\r\n<polygon fill=\"black\" stroke=\"black\" points=\"263.13,-183.76 253.35,-179.67 258.44,-188.96 263.13,-183.76\"/>\r\n</g>\r\n<!-- 7 -->\r\n<g id=\"node8\" class=\"node\">\r\n<title>7</title>\r\n<path fill=\"#9cf2c0\" stroke=\"black\" d=\"M399.5,-187C399.5,-187 307.5,-187 307.5,-187 301.5,-187 295.5,-181 295.5,-175 295.5,-175 295.5,-116 295.5,-116 295.5,-110 301.5,-104 307.5,-104 307.5,-104 399.5,-104 399.5,-104 405.5,-104 411.5,-110 411.5,-116 411.5,-116 411.5,-175 411.5,-175 411.5,-181 405.5,-187 399.5,-187\"/>\r\n<text text-anchor=\"start\" x=\"323\" y=\"-171.8\" font-family=\"Helvetica,sans-Serif\" font-size=\"14.00\">镁 ≤ 98.5</text>\r\n<text text-anchor=\"start\" x=\"303.5\" y=\"-156.8\" font-family=\"Helvetica,sans-Serif\" font-size=\"14.00\">entropy = 0.918</text>\r\n<text text-anchor=\"start\" x=\"314\" y=\"-141.8\" font-family=\"Helvetica,sans-Serif\" font-size=\"14.00\">samples = 3</text>\r\n<text text-anchor=\"start\" x=\"305\" y=\"-126.8\" font-family=\"Helvetica,sans-Serif\" font-size=\"14.00\">value = [1, 2, 0]</text>\r\n<text text-anchor=\"start\" x=\"311.5\" y=\"-111.8\" font-family=\"Helvetica,sans-Serif\" font-size=\"14.00\">class = 雪莉</text>\r\n</g>\r\n<!-- 5&#45;&gt;7 -->\r\n<g id=\"edge7\" class=\"edge\">\r\n<title>5&#45;&gt;7</title>\r\n<path fill=\"none\" stroke=\"black\" d=\"M348.93,-222.91C349.43,-214.56 349.96,-205.67 350.48,-197.02\"/>\r\n<polygon fill=\"black\" stroke=\"black\" points=\"353.97,-197.21 351.08,-187.02 346.98,-196.79 353.97,-197.21\"/>\r\n</g>\r\n<!-- 8 -->\r\n<g id=\"node9\" class=\"node\">\r\n<title>8</title>\r\n<path fill=\"#39e581\" stroke=\"black\" d=\"M298,-68C298,-68 209,-68 209,-68 203,-68 197,-62 197,-56 197,-56 197,-12 197,-12 197,-6 203,0 209,0 209,0 298,0 298,0 304,0 310,-6 310,-12 310,-12 310,-56 310,-56 310,-62 304,-68 298,-68\"/>\r\n<text text-anchor=\"start\" x=\"211.5\" y=\"-52.8\" font-family=\"Helvetica,sans-Serif\" font-size=\"14.00\">entropy = 0.0</text>\r\n<text text-anchor=\"start\" x=\"214\" y=\"-37.8\" font-family=\"Helvetica,sans-Serif\" font-size=\"14.00\">samples = 2</text>\r\n<text text-anchor=\"start\" x=\"205\" y=\"-22.8\" font-family=\"Helvetica,sans-Serif\" font-size=\"14.00\">value = [0, 2, 0]</text>\r\n<text text-anchor=\"start\" x=\"211.5\" y=\"-7.8\" font-family=\"Helvetica,sans-Serif\" font-size=\"14.00\">class = 雪莉</text>\r\n</g>\r\n<!-- 7&#45;&gt;8 -->\r\n<g id=\"edge8\" class=\"edge\">\r\n<title>7&#45;&gt;8</title>\r\n<path fill=\"none\" stroke=\"black\" d=\"M316.26,-103.73C307.93,-94.61 299.1,-84.93 290.77,-75.81\"/>\r\n<polygon fill=\"black\" stroke=\"black\" points=\"293.24,-73.32 283.91,-68.3 288.07,-78.04 293.24,-73.32\"/>\r\n</g>\r\n<!-- 9 -->\r\n<g id=\"node10\" class=\"node\">\r\n<title>9</title>\r\n<path fill=\"#e58139\" stroke=\"black\" d=\"M429,-68C429,-68 340,-68 340,-68 334,-68 328,-62 328,-56 328,-56 328,-12 328,-12 328,-6 334,0 340,0 340,0 429,0 429,0 435,0 441,-6 441,-12 441,-12 441,-56 441,-56 441,-62 435,-68 429,-68\"/>\r\n<text text-anchor=\"start\" x=\"342.5\" y=\"-52.8\" font-family=\"Helvetica,sans-Serif\" font-size=\"14.00\">entropy = 0.0</text>\r\n<text text-anchor=\"start\" x=\"345\" y=\"-37.8\" font-family=\"Helvetica,sans-Serif\" font-size=\"14.00\">samples = 1</text>\r\n<text text-anchor=\"start\" x=\"336\" y=\"-22.8\" font-family=\"Helvetica,sans-Serif\" font-size=\"14.00\">value = [1, 0, 0]</text>\r\n<text text-anchor=\"start\" x=\"342.5\" y=\"-7.8\" font-family=\"Helvetica,sans-Serif\" font-size=\"14.00\">class = 琴酒</text>\r\n</g>\r\n<!-- 7&#45;&gt;9 -->\r\n<g id=\"edge9\" class=\"edge\">\r\n<title>7&#45;&gt;9</title>\r\n<path fill=\"none\" stroke=\"black\" d=\"M365.04,-103.73C367.42,-95.34 369.93,-86.47 372.32,-78.01\"/>\r\n<polygon fill=\"black\" stroke=\"black\" points=\"375.72,-78.87 375.07,-68.3 368.98,-76.97 375.72,-78.87\"/>\r\n</g>\r\n<!-- 11 -->\r\n<g id=\"node12\" class=\"node\">\r\n<title>11</title>\r\n<path fill=\"#39e581\" stroke=\"black\" d=\"M535,-179.5C535,-179.5 446,-179.5 446,-179.5 440,-179.5 434,-173.5 434,-167.5 434,-167.5 434,-123.5 434,-123.5 434,-117.5 440,-111.5 446,-111.5 446,-111.5 535,-111.5 535,-111.5 541,-111.5 547,-117.5 547,-123.5 547,-123.5 547,-167.5 547,-167.5 547,-173.5 541,-179.5 535,-179.5\"/>\r\n<text text-anchor=\"start\" x=\"448.5\" y=\"-164.3\" font-family=\"Helvetica,sans-Serif\" font-size=\"14.00\">entropy = 0.0</text>\r\n<text text-anchor=\"start\" x=\"451\" y=\"-149.3\" font-family=\"Helvetica,sans-Serif\" font-size=\"14.00\">samples = 2</text>\r\n<text text-anchor=\"start\" x=\"442\" y=\"-134.3\" font-family=\"Helvetica,sans-Serif\" font-size=\"14.00\">value = [0, 2, 0]</text>\r\n<text text-anchor=\"start\" x=\"448.5\" y=\"-119.3\" font-family=\"Helvetica,sans-Serif\" font-size=\"14.00\">class = 雪莉</text>\r\n</g>\r\n<!-- 10&#45;&gt;11 -->\r\n<g id=\"edge11\" class=\"edge\">\r\n<title>10&#45;&gt;11</title>\r\n<path fill=\"none\" stroke=\"black\" d=\"M492.46,-222.91C492.18,-212.2 491.89,-200.62 491.61,-189.78\"/>\r\n<polygon fill=\"black\" stroke=\"black\" points=\"495.11,-189.57 491.35,-179.67 488.11,-189.75 495.11,-189.57\"/>\r\n</g>\r\n<!-- 12 -->\r\n<g id=\"node13\" class=\"node\">\r\n<title>12</title>\r\n<path fill=\"#e6843e\" stroke=\"black\" d=\"M674,-187C674,-187 577,-187 577,-187 571,-187 565,-181 565,-175 565,-175 565,-116 565,-116 565,-110 571,-104 577,-104 577,-104 674,-104 674,-104 680,-104 686,-110 686,-116 686,-116 686,-175 686,-175 686,-181 680,-187 674,-187\"/>\r\n<text text-anchor=\"start\" x=\"590.5\" y=\"-171.8\" font-family=\"Helvetica,sans-Serif\" font-size=\"14.00\">总酚 ≤ 1.8</text>\r\n<text text-anchor=\"start\" x=\"575.5\" y=\"-156.8\" font-family=\"Helvetica,sans-Serif\" font-size=\"14.00\">entropy = 0.172</text>\r\n<text text-anchor=\"start\" x=\"582\" y=\"-141.8\" font-family=\"Helvetica,sans-Serif\" font-size=\"14.00\">samples = 39</text>\r\n<text text-anchor=\"start\" x=\"573\" y=\"-126.8\" font-family=\"Helvetica,sans-Serif\" font-size=\"14.00\">value = [38, 0, 1]</text>\r\n<text text-anchor=\"start\" x=\"583.5\" y=\"-111.8\" font-family=\"Helvetica,sans-Serif\" font-size=\"14.00\">class = 琴酒</text>\r\n</g>\r\n<!-- 10&#45;&gt;12 -->\r\n<g id=\"edge12\" class=\"edge\">\r\n<title>10&#45;&gt;12</title>\r\n<path fill=\"none\" stroke=\"black\" d=\"M539.3,-222.91C549.84,-213.56 561.15,-203.54 571.99,-193.93\"/>\r\n<polygon fill=\"black\" stroke=\"black\" points=\"574.62,-196.27 579.78,-187.02 569.98,-191.03 574.62,-196.27\"/>\r\n</g>\r\n<!-- 13 -->\r\n<g id=\"node14\" class=\"node\">\r\n<title>13</title>\r\n<path fill=\"#8139e5\" stroke=\"black\" d=\"M651.5,-68C651.5,-68 541.5,-68 541.5,-68 535.5,-68 529.5,-62 529.5,-56 529.5,-56 529.5,-12 529.5,-12 529.5,-6 535.5,0 541.5,0 541.5,0 651.5,0 651.5,0 657.5,0 663.5,-6 663.5,-12 663.5,-12 663.5,-56 663.5,-56 663.5,-62 657.5,-68 651.5,-68\"/>\r\n<text text-anchor=\"start\" x=\"554.5\" y=\"-52.8\" font-family=\"Helvetica,sans-Serif\" font-size=\"14.00\">entropy = 0.0</text>\r\n<text text-anchor=\"start\" x=\"557\" y=\"-37.8\" font-family=\"Helvetica,sans-Serif\" font-size=\"14.00\">samples = 1</text>\r\n<text text-anchor=\"start\" x=\"548\" y=\"-22.8\" font-family=\"Helvetica,sans-Serif\" font-size=\"14.00\">value = [0, 0, 1]</text>\r\n<text text-anchor=\"start\" x=\"537.5\" y=\"-7.8\" font-family=\"Helvetica,sans-Serif\" font-size=\"14.00\">class = 贝尔摩德</text>\r\n</g>\r\n<!-- 12&#45;&gt;13 -->\r\n<g id=\"edge13\" class=\"edge\">\r\n<title>12&#45;&gt;13</title>\r\n<path fill=\"none\" stroke=\"black\" d=\"M614.7,-103.73C612.48,-95.34 610.13,-86.47 607.89,-78.01\"/>\r\n<polygon fill=\"black\" stroke=\"black\" points=\"611.26,-77.07 605.32,-68.3 604.5,-78.86 611.26,-77.07\"/>\r\n</g>\r\n<!-- 14 -->\r\n<g id=\"node15\" class=\"node\">\r\n<title>14</title>\r\n<path fill=\"#e58139\" stroke=\"black\" d=\"M791,-68C791,-68 694,-68 694,-68 688,-68 682,-62 682,-56 682,-56 682,-12 682,-12 682,-6 688,0 694,0 694,0 791,0 791,0 797,0 803,-6 803,-12 803,-12 803,-56 803,-56 803,-62 797,-68 791,-68\"/>\r\n<text text-anchor=\"start\" x=\"700.5\" y=\"-52.8\" font-family=\"Helvetica,sans-Serif\" font-size=\"14.00\">entropy = 0.0</text>\r\n<text text-anchor=\"start\" x=\"699\" y=\"-37.8\" font-family=\"Helvetica,sans-Serif\" font-size=\"14.00\">samples = 38</text>\r\n<text text-anchor=\"start\" x=\"690\" y=\"-22.8\" font-family=\"Helvetica,sans-Serif\" font-size=\"14.00\">value = [38, 0, 0]</text>\r\n<text text-anchor=\"start\" x=\"700.5\" y=\"-7.8\" font-family=\"Helvetica,sans-Serif\" font-size=\"14.00\">class = 琴酒</text>\r\n</g>\r\n<!-- 12&#45;&gt;14 -->\r\n<g id=\"edge14\" class=\"edge\">\r\n<title>12&#45;&gt;14</title>\r\n<path fill=\"none\" stroke=\"black\" d=\"M669.07,-103.73C679.01,-94.42 689.56,-84.54 699.48,-75.26\"/>\r\n<polygon fill=\"black\" stroke=\"black\" points=\"702.01,-77.69 706.92,-68.3 697.23,-72.58 702.01,-77.69\"/>\r\n</g>\r\n</g>\r\n</svg>\r\n",
      "text/plain": [
       "<graphviz.files.Source at 0x2866818c130>"
      ]
     },
     "execution_count": 5,
     "metadata": {},
     "output_type": "execute_result"
    }
   ],
   "source": [
    "from sklearn import tree\n",
    "from sklearn.datasets import load_wine\n",
    "from sklearn.model_selection import train_test_split\n",
    "wine = load_wine()\n",
    "#区分数据集和测试集\n",
    "Xtrain,Xtest,Ytrain,Ytest = train_test_split(wine.data,wine.target,test_size=0.3)\n",
    "\n",
    "clf = tree.DecisionTreeClassifier(criterion=\"entropy\")\n",
    "clf = clf.fit(Xtrain,Ytrain)\n",
    "score = clf.score(Xtest,Ytest)\n",
    "feature_name = ['酒精','苹果酸','灰','灰的碱性','镁','总酚','类黄酮','非黄烷类酚类','花青素','颜色强度','色调','稀释葡萄酒','脯氨酸']\n",
    "\n",
    "import graphviz\n",
    "#输出生成的决策树\n",
    "dot_data = tree.export_graphviz(clf\n",
    "                               ,feature_names = feature_name\n",
    "                               ,class_names = [\"琴酒\",\"雪莉\",\"贝尔摩德\"]\n",
    "                               ,filled=True\n",
    "                               ,rounded=True\n",
    "                               ,out_file=None #---->（异常二的解决方法二）\n",
    "                                ,special_characters=\"utf-8\"\n",
    "                               )\n",
    "\n",
    "graph = graphviz.Source(dot_data)\n",
    "graph.view()\n",
    "graph\n",
    "            "
   ]
  },
  {
   "cell_type": "markdown",
   "metadata": {},
   "source": [
    "绘制dot图"
   ]
  },
  {
   "cell_type": "code",
   "execution_count": null,
   "metadata": {},
   "outputs": [],
   "source": [
    "import graphviz\n",
    "dot=graphviz.Digraph(comment='the round table',node_attr={'shape': 'box'})\n",
    "dot.node('A','Start')\n",
    "dot.node('B','A=0')\n",
    "dot.node('C','B=1')\n",
    "dot.node('D','C=A+B',shape='parallelogram')\n",
    "dot.node('E','print(c)')\n",
    "dot.node('F','end')\n",
    "dot.edges(['AB','BC','CD','DE','EF'])\n",
    "dot"
   ]
  },
  {
   "cell_type": "markdown",
   "metadata": {},
   "source": [
    "# 两大库xlrd，xlwt\n",
    "\n",
    "## 1).Python操作excel主要用到xlrd和xlwt这两个库\n",
    "\n",
    "即xlrd是读excel，xlwt是写excel的库,名字也蛮好记得,xl是excel的缩写,rd是read,wt是write.xlrd可以解析微软的.xls and .xlsx两种各种的电子表格\n",
    "\n",
    "## 2).如何安装\n",
    "\n",
    "用pip install xlrd就可以安装xlrd模块\n",
    "\n",
    "用pip install xlwt就可以安装xlwt模块\n",
    "\n",
    "如果小伙伴是用Pycharm的话更简单，直接打开File/Setting/Project/Project Interpreter,然后选择左边的绿色加号安装\n",
    "\n",
    "## 1 如何读一个excel文件\n",
    "\n",
    "比如有这样一个\"user_data.xlsx\"表格,第一个sheet叫\"data\",内容如下:\n",
    "\n",
    "\n"
   ]
  },
  {
   "cell_type": "code",
   "execution_count": 26,
   "metadata": {},
   "outputs": [
    {
     "data": {
      "image/svg+xml": "<?xml version=\"1.0\" encoding=\"UTF-8\" standalone=\"no\"?>\r\n<!DOCTYPE svg PUBLIC \"-//W3C//DTD SVG 1.1//EN\"\r\n \"http://www.w3.org/Graphics/SVG/1.1/DTD/svg11.dtd\">\r\n<!-- Generated by graphviz version 2.49.0 (20210828.1703)\r\n -->\r\n<!-- Title: G Pages: 1 -->\r\n<svg width=\"703pt\" height=\"584pt\"\r\n viewBox=\"0.00 0.00 703.09 584.00\" xmlns=\"http://www.w3.org/2000/svg\" xmlns:xlink=\"http://www.w3.org/1999/xlink\">\r\n<g id=\"graph0\" class=\"graph\" transform=\"scale(1 1) rotate(0) translate(4 580)\">\r\n<title>G</title>\r\n<polygon fill=\"white\" stroke=\"transparent\" points=\"-4,4 -4,-580 699.09,-580 699.09,4 -4,4\"/>\r\n<!-- 0 -->\r\n<g id=\"node1\" class=\"node\">\r\n<title>0</title>\r\n<ellipse fill=\"none\" stroke=\"black\" cx=\"63.04\" cy=\"-234\" rx=\"63.09\" ry=\"18\"/>\r\n<text text-anchor=\"middle\" x=\"63.04\" y=\"-230.3\" font-family=\"Times New Roman,serif\" font-size=\"14.00\">Py处理Excel</text>\r\n</g>\r\n<!-- 1 -->\r\n<g id=\"node2\" class=\"node\">\r\n<title>1</title>\r\n<ellipse fill=\"none\" stroke=\"black\" cx=\"189.09\" cy=\"-369\" rx=\"27\" ry=\"18\"/>\r\n<text text-anchor=\"middle\" x=\"189.09\" y=\"-365.3\" font-family=\"Times New Roman,serif\" font-size=\"14.00\">xlrd</text>\r\n</g>\r\n<!-- 0&#45;&gt;1 -->\r\n<g id=\"edge1\" class=\"edge\">\r\n<title>0&#45;&gt;1</title>\r\n<path fill=\"none\" stroke=\"black\" d=\"M80.01,-251.37C102.28,-275.61 142.71,-319.61 167.31,-346.39\"/>\r\n<polygon fill=\"black\" stroke=\"black\" points=\"164.76,-348.78 174.1,-353.78 169.91,-344.04 164.76,-348.78\"/>\r\n</g>\r\n<!-- 2 -->\r\n<g id=\"node3\" class=\"node\">\r\n<title>2</title>\r\n<ellipse fill=\"none\" stroke=\"black\" cx=\"189.09\" cy=\"-126\" rx=\"27\" ry=\"18\"/>\r\n<text text-anchor=\"middle\" x=\"189.09\" y=\"-122.3\" font-family=\"Times New Roman,serif\" font-size=\"14.00\">xlrw</text>\r\n</g>\r\n<!-- 0&#45;&gt;2 -->\r\n<g id=\"edge2\" class=\"edge\">\r\n<title>0&#45;&gt;2</title>\r\n<path fill=\"none\" stroke=\"black\" d=\"M83.7,-216.89C105.45,-197.95 140.53,-167.41 163.94,-147.02\"/>\r\n<polygon fill=\"black\" stroke=\"black\" points=\"166.45,-149.48 171.69,-140.27 161.85,-144.2 166.45,-149.48\"/>\r\n</g>\r\n<!-- 11 -->\r\n<g id=\"node4\" class=\"node\">\r\n<title>11</title>\r\n<text text-anchor=\"middle\" x=\"355.59\" y=\"-554.3\" font-family=\"Times New Roman,serif\" font-size=\"14.00\">rd=open_workbook(f)</text>\r\n</g>\r\n<!-- 1&#45;&gt;11 -->\r\n<g id=\"edge3\" class=\"edge\">\r\n<title>1&#45;&gt;11</title>\r\n<path fill=\"none\" stroke=\"black\" d=\"M191.71,-387.07C195.7,-420.57 209.06,-492.38 252.09,-531 258.66,-536.89 266.36,-541.53 274.54,-545.17\"/>\r\n<polygon fill=\"black\" stroke=\"black\" points=\"273.36,-548.46 283.95,-548.86 275.93,-541.95 273.36,-548.46\"/>\r\n</g>\r\n<!-- 12 -->\r\n<g id=\"node6\" class=\"node\">\r\n<title>12</title>\r\n<text text-anchor=\"middle\" x=\"355.59\" y=\"-500.3\" font-family=\"Times New Roman,serif\" font-size=\"14.00\">rd.nsheets</text>\r\n</g>\r\n<!-- 1&#45;&gt;12 -->\r\n<g id=\"edge5\" class=\"edge\">\r\n<title>1&#45;&gt;12</title>\r\n<path fill=\"none\" stroke=\"black\" d=\"M195.48,-386.86C203.7,-411.01 221.71,-453.73 252.09,-477 268.19,-489.33 289.42,-496.05 308.38,-499.7\"/>\r\n<polygon fill=\"black\" stroke=\"black\" points=\"307.9,-503.17 318.34,-501.39 309.07,-496.27 307.9,-503.17\"/>\r\n</g>\r\n<!-- 13 -->\r\n<g id=\"node8\" class=\"node\">\r\n<title>13</title>\r\n<text text-anchor=\"middle\" x=\"355.59\" y=\"-446.3\" font-family=\"Times New Roman,serif\" font-size=\"14.00\">rd.sheets_names</text>\r\n</g>\r\n<!-- 1&#45;&gt;13 -->\r\n<g id=\"edge7\" class=\"edge\">\r\n<title>1&#45;&gt;13</title>\r\n<path fill=\"none\" stroke=\"black\" d=\"M203.91,-384.44C215.61,-396.61 233.42,-413.11 252.09,-423 263.95,-429.28 277.36,-434.17 290.49,-437.96\"/>\r\n<polygon fill=\"black\" stroke=\"black\" points=\"289.88,-441.42 300.44,-440.64 291.7,-434.66 289.88,-441.42\"/>\r\n</g>\r\n<!-- 14 -->\r\n<g id=\"node10\" class=\"node\">\r\n<title>14</title>\r\n<text text-anchor=\"middle\" x=\"355.59\" y=\"-392.3\" font-family=\"Times New Roman,serif\" font-size=\"14.00\">rd.sheets_by_index().nrows/ncols</text>\r\n</g>\r\n<!-- 1&#45;&gt;14 -->\r\n<g id=\"edge9\" class=\"edge\">\r\n<title>1&#45;&gt;14</title>\r\n<path fill=\"none\" stroke=\"black\" d=\"M215.43,-373.16C223.2,-374.44 232.31,-375.93 242.07,-377.53\"/>\r\n<polygon fill=\"black\" stroke=\"black\" points=\"241.6,-381 252.03,-379.17 242.73,-374.09 241.6,-381\"/>\r\n</g>\r\n<!-- 15 -->\r\n<g id=\"node12\" class=\"node\">\r\n<title>15</title>\r\n<text text-anchor=\"middle\" x=\"355.59\" y=\"-338.3\" font-family=\"Times New Roman,serif\" font-size=\"14.00\">rd.sheets_by_index().row()</text>\r\n</g>\r\n<!-- 1&#45;&gt;15 -->\r\n<g id=\"edge11\" class=\"edge\">\r\n<title>1&#45;&gt;15</title>\r\n<path fill=\"none\" stroke=\"black\" d=\"M215.43,-364.84C227.82,-362.81 243.59,-360.22 260.03,-357.52\"/>\r\n<polygon fill=\"black\" stroke=\"black\" points=\"261.03,-360.9 270.33,-355.83 259.89,-354 261.03,-360.9\"/>\r\n</g>\r\n<!-- 16 -->\r\n<g id=\"node14\" class=\"node\">\r\n<title>16</title>\r\n<text text-anchor=\"middle\" x=\"355.59\" y=\"-284.3\" font-family=\"Times New Roman,serif\" font-size=\"14.00\">rd.sheets_by_index().col()</text>\r\n</g>\r\n<!-- 1&#45;&gt;16 -->\r\n<g id=\"edge13\" class=\"edge\">\r\n<title>1&#45;&gt;16</title>\r\n<path fill=\"none\" stroke=\"black\" d=\"M203.91,-353.56C215.61,-341.39 233.42,-324.89 252.09,-315 255.79,-313.04 259.65,-311.21 263.6,-309.51\"/>\r\n<polygon fill=\"black\" stroke=\"black\" points=\"264.98,-312.73 272.97,-305.77 262.39,-306.23 264.98,-312.73\"/>\r\n</g>\r\n<!-- 17 -->\r\n<g id=\"node16\" class=\"node\">\r\n<title>17</title>\r\n<text text-anchor=\"middle\" x=\"355.59\" y=\"-230.3\" font-family=\"Times New Roman,serif\" font-size=\"14.00\">rd.sheets_by_index().cell</text>\r\n</g>\r\n<!-- 1&#45;&gt;17 -->\r\n<g id=\"edge15\" class=\"edge\">\r\n<title>1&#45;&gt;17</title>\r\n<path fill=\"none\" stroke=\"black\" d=\"M195.48,-351.14C203.7,-326.99 221.71,-284.27 252.09,-261 256.77,-257.42 261.88,-254.31 267.25,-251.61\"/>\r\n<polygon fill=\"black\" stroke=\"black\" points=\"268.8,-254.75 276.48,-247.44 265.93,-248.36 268.8,-254.75\"/>\r\n</g>\r\n<!-- 21 -->\r\n<g id=\"node18\" class=\"node\">\r\n<title>21</title>\r\n<text text-anchor=\"middle\" x=\"355.59\" y=\"-176.3\" font-family=\"Times New Roman,serif\" font-size=\"14.00\">wb=xlwt.Workbook()</text>\r\n</g>\r\n<!-- 2&#45;&gt;21 -->\r\n<g id=\"edge17\" class=\"edge\">\r\n<title>2&#45;&gt;21</title>\r\n<path fill=\"none\" stroke=\"black\" d=\"M211.57,-136.32C223.36,-141.74 238.34,-148.23 252.09,-153 259.69,-155.64 267.68,-158.16 275.72,-160.54\"/>\r\n<polygon fill=\"black\" stroke=\"black\" points=\"274.93,-163.95 285.51,-163.35 276.87,-157.23 274.93,-163.95\"/>\r\n</g>\r\n<!-- 22 -->\r\n<g id=\"node20\" class=\"node\">\r\n<title>22</title>\r\n<text text-anchor=\"middle\" x=\"355.59\" y=\"-122.3\" font-family=\"Times New Roman,serif\" font-size=\"14.00\">wsh=wb.add_sheet()</text>\r\n</g>\r\n<!-- 2&#45;&gt;22 -->\r\n<g id=\"edge19\" class=\"edge\">\r\n<title>2&#45;&gt;22</title>\r\n<path fill=\"none\" stroke=\"black\" d=\"M216.15,-126C233.05,-126 255.99,-126 278.34,-126\"/>\r\n<polygon fill=\"black\" stroke=\"black\" points=\"278.55,-129.5 288.55,-126 278.55,-122.5 278.55,-129.5\"/>\r\n</g>\r\n<!-- 23 -->\r\n<g id=\"node22\" class=\"node\">\r\n<title>23</title>\r\n<text text-anchor=\"middle\" x=\"355.59\" y=\"-68.3\" font-family=\"Times New Roman,serif\" font-size=\"14.00\">wsh.write()</text>\r\n</g>\r\n<!-- 2&#45;&gt;23 -->\r\n<g id=\"edge21\" class=\"edge\">\r\n<title>2&#45;&gt;23</title>\r\n<path fill=\"none\" stroke=\"black\" d=\"M211.57,-115.68C223.36,-110.26 238.34,-103.77 252.09,-99 269.38,-93 288.71,-87.58 305.89,-83.2\"/>\r\n<polygon fill=\"black\" stroke=\"black\" points=\"306.86,-86.57 315.72,-80.75 305.17,-79.78 306.86,-86.57\"/>\r\n</g>\r\n<!-- 24 -->\r\n<g id=\"node24\" class=\"node\">\r\n<title>24</title>\r\n<text text-anchor=\"middle\" x=\"355.59\" y=\"-14.3\" font-family=\"Times New Roman,serif\" font-size=\"14.00\">wsh.save()</text>\r\n</g>\r\n<!-- 2&#45;&gt;24 -->\r\n<g id=\"edge23\" class=\"edge\">\r\n<title>2&#45;&gt;24</title>\r\n<path fill=\"none\" stroke=\"black\" d=\"M198.62,-109.05C208.82,-90.52 227.62,-61.3 252.09,-45 268.37,-34.16 288.81,-27.66 307.14,-23.78\"/>\r\n<polygon fill=\"black\" stroke=\"black\" points=\"307.9,-27.19 317.07,-21.87 306.59,-20.32 307.9,-27.19\"/>\r\n</g>\r\n<!-- 111 -->\r\n<g id=\"node5\" class=\"node\">\r\n<title>111</title>\r\n<text text-anchor=\"middle\" x=\"595.09\" y=\"-554.3\" font-family=\"Times New Roman,serif\" font-size=\"14.00\">打开表格</text>\r\n</g>\r\n<!-- 11&#45;&gt;111 -->\r\n<g id=\"edge4\" class=\"edge\">\r\n<title>11&#45;&gt;111</title>\r\n<path fill=\"none\" stroke=\"black\" d=\"M427.2,-558C464.01,-558 508.24,-558 541.91,-558\"/>\r\n<polygon fill=\"black\" stroke=\"black\" points=\"542,-561.5 552,-558 542,-554.5 542,-561.5\"/>\r\n</g>\r\n<!-- 122 -->\r\n<g id=\"node7\" class=\"node\">\r\n<title>122</title>\r\n<text text-anchor=\"middle\" x=\"595.09\" y=\"-500.3\" font-family=\"Times New Roman,serif\" font-size=\"14.00\">获取表格多少个sheets</text>\r\n</g>\r\n<!-- 12&#45;&gt;122 -->\r\n<g id=\"edge6\" class=\"edge\">\r\n<title>12&#45;&gt;122</title>\r\n<path fill=\"none\" stroke=\"black\" d=\"M392.66,-504C420.83,-504 461.33,-504 498.63,-504\"/>\r\n<polygon fill=\"black\" stroke=\"black\" points=\"499.05,-507.5 509.05,-504 499.05,-500.5 499.05,-507.5\"/>\r\n</g>\r\n<!-- 133 -->\r\n<g id=\"node9\" class=\"node\">\r\n<title>133</title>\r\n<text text-anchor=\"middle\" x=\"595.09\" y=\"-446.3\" font-family=\"Times New Roman,serif\" font-size=\"14.00\">获取sheet名字</text>\r\n</g>\r\n<!-- 13&#45;&gt;133 -->\r\n<g id=\"edge8\" class=\"edge\">\r\n<title>13&#45;&gt;133</title>\r\n<path fill=\"none\" stroke=\"black\" d=\"M410.78,-450C445.57,-450 490.98,-450 527.9,-450\"/>\r\n<polygon fill=\"black\" stroke=\"black\" points=\"528.07,-453.5 538.07,-450 528.07,-446.5 528.07,-453.5\"/>\r\n</g>\r\n<!-- 144 -->\r\n<g id=\"node11\" class=\"node\">\r\n<title>144</title>\r\n<text text-anchor=\"middle\" x=\"595.09\" y=\"-392.3\" font-family=\"Times New Roman,serif\" font-size=\"14.00\">获取单个sheet行，列总数</text>\r\n</g>\r\n<!-- 14&#45;&gt;144 -->\r\n<g id=\"edge10\" class=\"edge\">\r\n<title>14&#45;&gt;144</title>\r\n<path fill=\"none\" stroke=\"black\" d=\"M459.38,-396C467.76,-396 476.24,-396 484.67,-396\"/>\r\n<polygon fill=\"black\" stroke=\"black\" points=\"484.9,-399.5 494.9,-396 484.9,-392.5 484.9,-399.5\"/>\r\n</g>\r\n<!-- 155 -->\r\n<g id=\"node13\" class=\"node\">\r\n<title>155</title>\r\n<text text-anchor=\"middle\" x=\"595.09\" y=\"-338.3\" font-family=\"Times New Roman,serif\" font-size=\"14.00\">获取每一行内容</text>\r\n</g>\r\n<!-- 15&#45;&gt;155 -->\r\n<g id=\"edge12\" class=\"edge\">\r\n<title>15&#45;&gt;155</title>\r\n<path fill=\"none\" stroke=\"black\" d=\"M440.66,-342C465.29,-342 492.11,-342 516.34,-342\"/>\r\n<polygon fill=\"black\" stroke=\"black\" points=\"516.55,-345.5 526.55,-342 516.55,-338.5 516.55,-345.5\"/>\r\n</g>\r\n<!-- 166 -->\r\n<g id=\"node15\" class=\"node\">\r\n<title>166</title>\r\n<text text-anchor=\"middle\" x=\"595.09\" y=\"-284.3\" font-family=\"Times New Roman,serif\" font-size=\"14.00\">获取每一列内容</text>\r\n</g>\r\n<!-- 16&#45;&gt;166 -->\r\n<g id=\"edge14\" class=\"edge\">\r\n<title>16&#45;&gt;166</title>\r\n<path fill=\"none\" stroke=\"black\" d=\"M438.32,-288C463.56,-288 491.28,-288 516.24,-288\"/>\r\n<polygon fill=\"black\" stroke=\"black\" points=\"516.39,-291.5 526.39,-288 516.39,-284.5 516.39,-291.5\"/>\r\n</g>\r\n<!-- 177 -->\r\n<g id=\"node17\" class=\"node\">\r\n<title>177</title>\r\n<text text-anchor=\"middle\" x=\"595.09\" y=\"-230.3\" font-family=\"Times New Roman,serif\" font-size=\"14.00\">获取单元格内容</text>\r\n</g>\r\n<!-- 17&#45;&gt;177 -->\r\n<g id=\"edge16\" class=\"edge\">\r\n<title>17&#45;&gt;177</title>\r\n<path fill=\"none\" stroke=\"black\" d=\"M434.68,-234C460.82,-234 489.95,-234 516.08,-234\"/>\r\n<polygon fill=\"black\" stroke=\"black\" points=\"516.32,-237.5 526.32,-234 516.32,-230.5 516.32,-237.5\"/>\r\n</g>\r\n<!-- 211 -->\r\n<g id=\"node19\" class=\"node\">\r\n<title>211</title>\r\n<text text-anchor=\"middle\" x=\"595.09\" y=\"-176.3\" font-family=\"Times New Roman,serif\" font-size=\"14.00\">建立表格</text>\r\n</g>\r\n<!-- 21&#45;&gt;211 -->\r\n<g id=\"edge18\" class=\"edge\">\r\n<title>21&#45;&gt;211</title>\r\n<path fill=\"none\" stroke=\"black\" d=\"M425.6,-180C462.59,-180 507.43,-180 541.56,-180\"/>\r\n<polygon fill=\"black\" stroke=\"black\" points=\"541.78,-183.5 551.78,-180 541.78,-176.5 541.78,-183.5\"/>\r\n</g>\r\n<!-- 222 -->\r\n<g id=\"node21\" class=\"node\">\r\n<title>222</title>\r\n<text text-anchor=\"middle\" x=\"595.09\" y=\"-122.3\" font-family=\"Times New Roman,serif\" font-size=\"14.00\">增加sheet</text>\r\n</g>\r\n<!-- 22&#45;&gt;222 -->\r\n<g id=\"edge20\" class=\"edge\">\r\n<title>22&#45;&gt;222</title>\r\n<path fill=\"none\" stroke=\"black\" d=\"M422.75,-126C461.47,-126 509.55,-126 544.91,-126\"/>\r\n<polygon fill=\"black\" stroke=\"black\" points=\"544.99,-129.5 554.99,-126 544.99,-122.5 544.99,-129.5\"/>\r\n</g>\r\n<!-- 233 -->\r\n<g id=\"node23\" class=\"node\">\r\n<title>233</title>\r\n<text text-anchor=\"middle\" x=\"595.09\" y=\"-68.3\" font-family=\"Times New Roman,serif\" font-size=\"14.00\">写入每一行</text>\r\n</g>\r\n<!-- 23&#45;&gt;233 -->\r\n<g id=\"edge22\" class=\"edge\">\r\n<title>23&#45;&gt;233</title>\r\n<path fill=\"none\" stroke=\"black\" d=\"M395.28,-72C432.63,-72 489.78,-72 533.23,-72\"/>\r\n<polygon fill=\"black\" stroke=\"black\" points=\"533.4,-75.5 543.4,-72 533.4,-68.5 533.4,-75.5\"/>\r\n</g>\r\n<!-- 244 -->\r\n<g id=\"node25\" class=\"node\">\r\n<title>244</title>\r\n<text text-anchor=\"middle\" x=\"595.09\" y=\"-14.3\" font-family=\"Times New Roman,serif\" font-size=\"14.00\">生成Excel文件</text>\r\n</g>\r\n<!-- 24&#45;&gt;244 -->\r\n<g id=\"edge24\" class=\"edge\">\r\n<title>24&#45;&gt;244</title>\r\n<path fill=\"none\" stroke=\"black\" d=\"M394.22,-18C429.7,-18 483.69,-18 526.61,-18\"/>\r\n<polygon fill=\"black\" stroke=\"black\" points=\"526.7,-21.5 536.7,-18 526.7,-14.5 526.7,-21.5\"/>\r\n</g>\r\n</g>\r\n</svg>\r\n",
      "text/plain": [
       "<graphviz.files.Source at 0x25b9b3bea90>"
      ]
     },
     "execution_count": 26,
     "metadata": {},
     "output_type": "execute_result"
    }
   ],
   "source": [
    "import graphviz\n",
    "import pydot\n",
    "#graphs = pydot.graph_from_dot_file(\"./excelrw.dot\",encoding='utf-8')\n",
    "#dot=graphs[0]\n",
    "#graph=graphviz.Source(dot)\n",
    "graph.from_file(\"./excelrw.dot\",encoding='utf-8')"
   ]
  },
  {
   "cell_type": "markdown",
   "metadata": {},
   "source": [
    "## 1) 打开表格"
   ]
  },
  {
   "cell_type": "code",
   "execution_count": 31,
   "metadata": {},
   "outputs": [
    {
     "name": "stdout",
     "output_type": "stream",
     "text": [
      "<class 'xlrd.book.Book'>\n"
     ]
    }
   ],
   "source": [
    "import xlrd\n",
    "file_name='user_data.xls'\n",
    "\n",
    "excel_file=os.getcwd()+ '\\\\' + file_name\n",
    "\n",
    "rdata=xlrd.open_workbook(excel_file)\n",
    "\n",
    "print (type(rdata))"
   ]
  },
  {
   "cell_type": "markdown",
   "metadata": {},
   "source": [
    "我们用open_workbook这个函数打开一个excel文件，并返回一个rdata对象，有同学好奇这个rdata是啥,我们type一下\n",
    "\n",
    "发现data是:xlrd这个模块下面的book文件下面的Book类的实例对象\n",
    "\n",
    "有点拗口，但确实是这样的，不信可以看源码\n"
   ]
  },
  {
   "cell_type": "markdown",
   "metadata": {},
   "source": [
    "## 2) 获取表格的基本信息"
   ]
  },
  {
   "cell_type": "code",
   "execution_count": 32,
   "metadata": {},
   "outputs": [
    {
     "name": "stdout",
     "output_type": "stream",
     "text": [
      "sheets nums: 1\n"
     ]
    }
   ],
   "source": [
    "print ('sheets nums:',rdata.nsheets) #excel sheets 个数"
   ]
  },
  {
   "cell_type": "markdown",
   "metadata": {},
   "source": [
    "## 3) 每个sheets名字\n",
    "\n"
   ]
  },
  {
   "cell_type": "code",
   "execution_count": 33,
   "metadata": {},
   "outputs": [
    {
     "name": "stdout",
     "output_type": "stream",
     "text": [
      "sheets names: ['Sheet1']\n"
     ]
    }
   ],
   "source": [
    "print('sheets names:',rdata.sheet_names())#excel sheets 每个名字"
   ]
  },
  {
   "cell_type": "markdown",
   "metadata": {},
   "source": [
    "## 4) 每个sheet的行列总数，比如第一个sheet\n",
    "\n"
   ]
  },
  {
   "cell_type": "code",
   "execution_count": 34,
   "metadata": {},
   "outputs": [
    {
     "name": "stdout",
     "output_type": "stream",
     "text": [
      "rows: 11\n",
      "clos 3\n"
     ]
    }
   ],
   "source": [
    "sheet1=rdata.sheet_by_index(0)\n",
    "\n",
    "print('rows:',sheet1.nrows)\n",
    "\n",
    "print ('clos',sheet1.ncols)"
   ]
  },
  {
   "cell_type": "markdown",
   "metadata": {},
   "source": [
    "## 5) 获取行，列的对象\n",
    "\n",
    "获取第一行的内容\n",
    "\n"
   ]
  },
  {
   "cell_type": "code",
   "execution_count": 35,
   "metadata": {},
   "outputs": [
    {
     "name": "stdout",
     "output_type": "stream",
     "text": [
      "[text:'时间', text:'人数1', text:'人数2']\n",
      "[44197.0, 16.0, 26.0]\n"
     ]
    }
   ],
   "source": [
    "sh1=rdata.sheet_by_index(0)\n",
    "\n",
    "print(sh1.row(0))\n",
    "\n",
    "print (sh1.row_values(1))\n",
    "\n",
    "#返回的是列表对象，中文会转成的unicode显示"
   ]
  },
  {
   "cell_type": "markdown",
   "metadata": {},
   "source": [
    "获取第二列的内容\n",
    "\n"
   ]
  },
  {
   "cell_type": "code",
   "execution_count": 36,
   "metadata": {},
   "outputs": [
    {
     "name": "stdout",
     "output_type": "stream",
     "text": [
      "[text:'人数1', number:16.0, number:21.0, number:34.0, number:45.0, number:30.0, number:40.0, number:36.0, number:45.0, number:24.0, number:46.0]\n"
     ]
    }
   ],
   "source": [
    "print (sh1.col(1))\n",
    "#返回的是列表对象，text表示是文本对象,number是数字"
   ]
  },
  {
   "cell_type": "code",
   "execution_count": 37,
   "metadata": {},
   "outputs": [
    {
     "name": "stdout",
     "output_type": "stream",
     "text": [
      "['人数1', 16.0, 21.0, 34.0, 45.0, 30.0, 40.0, 36.0, 45.0, 24.0, 46.0]\n"
     ]
    }
   ],
   "source": [
    "print (sh1.col_values(1))"
   ]
  },
  {
   "cell_type": "markdown",
   "metadata": {},
   "source": [
    "我们可以利用列表切片访问:第二列到第5列\n",
    "\n"
   ]
  },
  {
   "cell_type": "code",
   "execution_count": 39,
   "metadata": {},
   "outputs": [
    {
     "name": "stdout",
     "output_type": "stream",
     "text": [
      "[16.0, 21.0, 34.0, 45.0]\n",
      "[16.0, 21.0, 34.0, 45.0]\n"
     ]
    }
   ],
   "source": [
    "print (sh1.col_values(1)[1:5])\n",
    "\n",
    "#也可以利用默认的col_values参数\n",
    "\n",
    "# col_values(self, colx, start_rowx=0, end_rowx=None)\n",
    "\n",
    "print (sh1.col_values(1,1,5))\n"
   ]
  },
  {
   "cell_type": "markdown",
   "metadata": {},
   "source": [
    "## 6)获取单元格cell的内容\n",
    "\n",
    "xlrd对excel里面内容分成下面7种的,是枚举类型\n",
    "\n",
    "(\n",
    "\n",
    "XL_CELL_EMPTY,\n",
    "\n",
    "XL_CELL_TEXT,\n",
    "\n",
    "XL_CELL_NUMBER,\n",
    "\n",
    "XL_CELL_DATE,\n",
    "\n",
    "XL_CELL_BOOLEAN,\n",
    "\n",
    "XL_CELL_ERROR,\n",
    "\n",
    "XL_CELL_BLANK, # for use in debugging, gathering stats, etc\n",
    "\n",
    ") = range(7)\n",
    "\n"
   ]
  },
  {
   "cell_type": "markdown",
   "metadata": {},
   "source": [
    "我们来看一下，第一行第一列的单元格是个字符串\n"
   ]
  },
  {
   "cell_type": "code",
   "execution_count": 40,
   "metadata": {},
   "outputs": [
    {
     "name": "stdout",
     "output_type": "stream",
     "text": [
      "text:'时间'\n",
      "1\n",
      "时间\n"
     ]
    }
   ],
   "source": [
    "sh1=rdata.sheet_by_index(0)\n",
    "\n",
    "cell_0_0=sh1.cell(0,0)\n",
    "\n",
    "print( cell_0_0)\n",
    "\n",
    "print (cell_0_0.ctype)\n",
    "\n",
    "print (cell_0_0.value)"
   ]
  },
  {
   "cell_type": "markdown",
   "metadata": {},
   "source": [
    "时间\n",
    "\n",
    "#1确实对应的是文本\n",
    "\n",
    "我们来看一下，第二行第一列的单元格:日期"
   ]
  },
  {
   "cell_type": "code",
   "execution_count": 41,
   "metadata": {},
   "outputs": [
    {
     "name": "stdout",
     "output_type": "stream",
     "text": [
      "xldate:44197.0\n",
      "3\n",
      "44197.0\n"
     ]
    }
   ],
   "source": [
    "cell_1_0=sh1.cell(1,0)\n",
    "\n",
    "print (cell_1_0)\n",
    "\n",
    "print (cell_1_0.ctype)\n",
    "\n",
    "print (cell_1_0.value)"
   ]
  },
  {
   "cell_type": "markdown",
   "metadata": {},
   "source": [
    "#3确实对应的是日期 (有小伙伴问日期怎么变成这个数字，\n",
    "\n",
    "#因为日期被转换成了xldate对象，一会我们会转换回来,后面会详细讲)\n",
    "\n",
    "我们来看一下，第二行第二列的单元格:数字"
   ]
  },
  {
   "cell_type": "code",
   "execution_count": 42,
   "metadata": {},
   "outputs": [
    {
     "name": "stdout",
     "output_type": "stream",
     "text": [
      "number:16.0\n",
      "2\n"
     ]
    }
   ],
   "source": [
    "cell_1_1=sh1.cell(1,1)\n",
    "\n",
    "print (cell_1_1)\n",
    "\n",
    "print (cell_1_1.ctype)\n",
    "#2确实对应的是日期 (有小伙伴问日期怎么变成这个数字，不急后面会讲)"
   ]
  },
  {
   "cell_type": "markdown",
   "metadata": {},
   "source": [
    "## 2.如何写数据进表格\n",
    "\n",
    "主要是用xlwt模块,现在我们要把上面的'data.xls'表格中人数1和人数2相加等于总数列，并写入到一个新的excel文件中去.\n",
    "\n",
    "1).读取'user_data.xls'中sheet1的数据\n",
    "\n"
   ]
  },
  {
   "cell_type": "code",
   "execution_count": 44,
   "metadata": {},
   "outputs": [],
   "source": [
    "import xlrd\n",
    "\n",
    "import os\n",
    "\n",
    "file_name='user_data.xls'\n",
    "\n",
    "excel_file=os.getcwd()+'//'+file_name\n",
    "\n",
    "rdata=xlrd.open_workbook(excel_file)\n",
    "\n",
    "sh1=rdata.sheet_by_index(0)"
   ]
  },
  {
   "cell_type": "markdown",
   "metadata": {},
   "source": [
    "2).创建一个wbook对象,生成一个新的sheet\n",
    "\n"
   ]
  },
  {
   "cell_type": "code",
   "execution_count": 46,
   "metadata": {},
   "outputs": [],
   "source": [
    "import xlwt\n",
    "\n",
    "wbook=xlwt.Workbook()\n",
    "\n",
    "wsheet=wbook.add_sheet(sh1.name)\n"
   ]
  },
  {
   "cell_type": "markdown",
   "metadata": {},
   "source": [
    "3).在写入第一行,标题栏\n",
    "\n",
    "wsheet这个函数(row,col,value,style),这个style其实就是这个内容单元格的格式\n",
    "\n"
   ]
  },
  {
   "cell_type": "code",
   "execution_count": 47,
   "metadata": {},
   "outputs": [],
   "source": [
    "style=xlwt.easyxf('align: vertical center, horizontal center')\n",
    "\n",
    "wsheet.write(0,0,u'时间',style)\n",
    "\n",
    "wsheet.write(0,1,u'人数1',style)\n",
    "\n",
    "wsheet.write(0,2,u'人数2',style)\n",
    "\n",
    "wsheet.write(0,3,u'总分',style)\n",
    "\n"
   ]
  },
  {
   "cell_type": "markdown",
   "metadata": {},
   "source": [
    "4).写入时间列的数据,需要转化数据格式\n",
    "\n",
    "上面读表格的时候，我们遗留了一个问题，就是第一列的日期\n",
    "\n",
    "为啥打印出来，会变成奇怪的数据\n",
    "\n",
    "其实那个是xldate对象，我们需要把sheet1里面的内容提取处理，然后转成日期数\n"
   ]
  },
  {
   "cell_type": "code",
   "execution_count": 50,
   "metadata": {},
   "outputs": [],
   "source": [
    "from datetime import date,datetime\n",
    "def get_date(cell):\n",
    "    if cell.ctype==xlrd.XL_CELL_DATE:\n",
    "        date_value=xlrd.xldate_as_tuple(cell.value,rdata.datemode)\n",
    "        date_tmp=date(*date_value[:3]).strftime('%Y/%m/%d')\n",
    "        return date_tmp\n",
    "    else:\n",
    "        return None\n",
    "#从第二行开始写入时间列的数据\n",
    "for row in range(1,sh1.nrows):\n",
    "    new_date=get_date(sh1.cell(row,0))\n",
    "    wsheet.write(row,0,new_date,style)\n",
    "    "
   ]
  },
  {
   "cell_type": "markdown",
   "metadata": {},
   "source": [
    "5).计算第二列和第三列的数据,得到总分"
   ]
  },
  {
   "cell_type": "code",
   "execution_count": 51,
   "metadata": {},
   "outputs": [],
   "source": [
    "nc=sh1.ncols\n",
    "for row in range(1,sh1.nrows):\n",
    "    total=sum(sh1.row_values(row,1))\n",
    "    sh1.put_cell(row,nc,xlrd.XL_CELL_NUMBER,total,None)"
   ]
  },
  {
   "cell_type": "markdown",
   "metadata": {},
   "source": [
    "6).把sheet1里面的第二列,第三列和总分的数据写入excel文件"
   ]
  },
  {
   "cell_type": "code",
   "execution_count": 52,
   "metadata": {},
   "outputs": [],
   "source": [
    "for row in range(1,sh1.nrows):\n",
    "    for col in range(1,sh1.ncols):\n",
    "        wsheet.write(row,col,sh1.cell_value(row,col),style)"
   ]
  },
  {
   "cell_type": "markdown",
   "metadata": {},
   "source": [
    "7).写成文件new_data.xls"
   ]
  },
  {
   "cell_type": "code",
   "execution_count": 53,
   "metadata": {},
   "outputs": [
    {
     "name": "stdout",
     "output_type": "stream",
     "text": [
      "write excel file successful\n"
     ]
    }
   ],
   "source": [
    "try:\n",
    "\n",
    "    wbook.save('new_data.xls')\n",
    "\n",
    "except Exception as e:\n",
    "\n",
    "    print (e)\n",
    "\n",
    "else:\n",
    "\n",
    "    print ('write excel file successful')    "
   ]
  },
  {
   "cell_type": "markdown",
   "metadata": {},
   "source": [
    "运行一下，打开新的表格new_data.xls"
   ]
  }
 ],
 "metadata": {
  "deepnote": {},
  "deepnote_execution_queue": [],
  "deepnote_notebook_id": "76065766-8f89-4f9d-a534-3b5cc4300152",
  "interpreter": {
   "hash": "b77746e9332ffa618d6f1b0c30b3b999bda6b9685dc073ddc506779c9ceef622"
  },
  "kernelspec": {
   "display_name": "Python 3.9.7 64-bit",
   "name": "python3"
  },
  "language_info": {
   "codemirror_mode": {
    "name": "ipython",
    "version": 3
   },
   "file_extension": ".py",
   "mimetype": "text/x-python",
   "name": "python",
   "nbconvert_exporter": "python",
   "pygments_lexer": "ipython3",
   "version": "3.9.7"
  },
  "orig_nbformat": 4
 },
 "nbformat": 4,
 "nbformat_minor": 2
}
