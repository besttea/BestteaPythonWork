{
 "cells": [
  {
   "cell_type": "markdown",
   "source": [
    "<img src=\".\\\\diyLogo.png\" alt=\"some_text\">\r\n",
    "<h1> 第三讲 程序设计基础</h1>\r\n",
    "<a id=backup></a>\r\n",
    "<H2>目录</H2>  \r\n",
    "\r\n",
    "[3.1 组合数据类型概述](#Section1)  \r\n",
    "[3.2 序列类型](#Section2)  \r\n",
    "[3.3 集合类型](#Section3)     \r\n",
    "[3.4 映射类型](#Section4)  \r\n",
    "[3.5 numpy](#Section5)  \r\n",
    "[3.6 ](#Section6)"
   ],
   "metadata": {}
  },
  {
   "cell_type": "markdown",
   "source": [
    "<a id = Section1> </a>\r\n",
    "## 3.1 组合数据类型概述"
   ],
   "metadata": {}
  },
  {
   "cell_type": "markdown",
   "source": [
    "<a id = Section2> </a>\r\n",
    "## 3.2 序列类型\r\n",
    "### 字符串\r\n",
    "### 元组\r\n",
    "### 列表\r\n",
    "\r\n",
    "<p><a href=\"https://yanghailin.blog.csdn.net/article/details/81126087?utm_medium=distribute.pc_relevant.none-task-blog-2%7Edefault%7EBlogCommendFromBaidu%7Edefault-5.no_search_link&depth_1-utm_source=distribute.pc_relevant.none-task-blog-2%7Edefault%7EBlogCommendFromBaidu%7Edefault-5.no_search_link\">\r\n",
    "this is example of python</a></p"
   ],
   "metadata": {}
  },
  {
   "cell_type": "markdown",
   "source": [
    "### 字符串\r\n"
   ],
   "metadata": {}
  },
  {
   "cell_type": "markdown",
   "source": [
    "### 元组\r\n"
   ],
   "metadata": {}
  },
  {
   "cell_type": "code",
   "execution_count": null,
   "source": [
    "### 列表\r\n"
   ],
   "outputs": [],
   "metadata": {}
  },
  {
   "cell_type": "markdown",
   "source": [
    "<a id=Section3></a>\r\n",
    "## 3.3 集合类型"
   ],
   "metadata": {}
  },
  {
   "cell_type": "markdown",
   "source": [
    "<a id=Section4></a>\r\n",
    "## 3.4 映射类型\r\n"
   ],
   "metadata": {}
  }
 ],
 "metadata": {
  "orig_nbformat": 4,
  "language_info": {
   "name": "python",
   "version": "3.9.7",
   "mimetype": "text/x-python",
   "codemirror_mode": {
    "name": "ipython",
    "version": 3
   },
   "pygments_lexer": "ipython3",
   "nbconvert_exporter": "python",
   "file_extension": ".py"
  },
  "kernelspec": {
   "name": "python3",
   "display_name": "Python 3.9.7 64-bit"
  },
  "interpreter": {
   "hash": "b77746e9332ffa618d6f1b0c30b3b999bda6b9685dc073ddc506779c9ceef622"
  }
 },
 "nbformat": 4,
 "nbformat_minor": 2
}