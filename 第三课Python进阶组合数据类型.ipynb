{
 "cells": [
  {
   "cell_type": "markdown",
   "source": [
    "<img src=\".\\\\diyLogo.png\" alt=\"some_text\">\r\n",
    "<h1> 第三讲 程序设计基础</h1>\r\n",
    "<a id=backup></a>\r\n",
    "<H2>目录</H2>  \r\n",
    "\r\n",
    "[3.1 组合数据类型概述](#Section1)  \r\n",
    "[3.2 序列类型](#Section2)  \r\n",
    "[3.3 集合类型](#Section3)     \r\n",
    "[3.4 映射类型](#Section4)  \r\n",
    "[3.5 numpy](#Section5)  \r\n",
    "[3.6 ](#Section6)"
   ],
   "metadata": {}
  },
  {
   "cell_type": "markdown",
   "source": [
    "<a id = Section1> </a>\r\n",
    "## 3.1 组合数据类型概述"
   ],
   "metadata": {}
  },
  {
   "cell_type": "markdown",
   "source": [
    "<a id = Section2> </a>\r\n",
    "## 3.2 序列类型\r\n",
    "### 字符串\r\n",
    "### 元组\r\n",
    "### 列表\r\n",
    "\r\n",
    "<p><a href=\"https://yanghailin.blog.csdn.net/article/details/81126087?utm_medium=distribute.pc_relevant.none-task-blog-2%7Edefault%7EBlogCommendFromBaidu%7Edefault-5.no_search_link&depth_1-utm_source=distribute.pc_relevant.none-task-blog-2%7Edefault%7EBlogCommendFromBaidu%7Edefault-5.no_search_link\">\r\n",
    "this is example of python</a></p"
   ],
   "metadata": {}
  },
  {
   "cell_type": "markdown",
   "source": [
    "### 3.2.1字符串运算\r\n",
    "\r\n"
   ],
   "metadata": {}
  },
  {
   "cell_type": "code",
   "execution_count": 1,
   "source": [
    "a = \"Hello\"\r\n",
    "b = \"Python\"\r\n",
    " \r\n",
    "print(\"a + b 输出结果：\", a + b)\r\n",
    "print(\"a * 2 输出结果：\", a * 2)\r\n",
    "print(\"a[1] 输出结果：\", a[1])\r\n",
    "print(\"a[1:4] 输出结果：\", a[1:4])\r\n",
    "# in \r\n",
    "if( \"H\" in a) :\r\n",
    "    print(\"H 在变量 a 中\")\r\n",
    "else :\r\n",
    "    print(\"H 不在变量 a 中\")\r\n",
    "#not in \r\n",
    "if( \"M\" not in a) :\r\n",
    "    print(\"M 不在变量 a 中\")\r\n",
    "else :\r\n",
    "    print(\"M 在变量 a 中\")\r\n",
    "# r R 直接打印字符串 \r\n",
    "print (r'\\n')\r\n",
    "print (R'\\n')"
   ],
   "outputs": [
    {
     "output_type": "stream",
     "name": "stdout",
     "text": [
      "a + b 输出结果： HelloPython\n",
      "a * 2 输出结果： HelloHello\n",
      "a[1] 输出结果： e\n",
      "a[1:4] 输出结果： ell\n",
      "H 在变量 a 中\n",
      "M 不在变量 a 中\n",
      "\\n\n",
      "\\n\n"
     ]
    }
   ],
   "metadata": {}
  },
  {
   "cell_type": "markdown",
   "source": [
    "### 3.2.2元组\r\n",
    "Python 的元组与列表类似，不同之处在于元组的元素不能修改,可以合并。\r\n",
    "\r\n",
    "元组使用小括号 ( )，列表使用方括号 [ ]。\r\n",
    "\r\n",
    "元组创建很简单，只需要在括号中添加元素，并使用逗号隔开即可。"
   ],
   "metadata": {}
  },
  {
   "cell_type": "code",
   "execution_count": 27,
   "source": [
    "tup1 = ('Google', 'Runoob', 1997, 2000)\r\n",
    "tup2 = (1, 2, 3, 4, 5 )\r\n",
    "tup3 = \"a\", \"b\", \"c\", \"d\"   #  不需要括号也可以\r\n",
    "type(tup3)\r\n",
    "print(tup1,\"\\n\",\"tup2\",\"\\n\",tup3,\"\\n\",type(tup3))"
   ],
   "outputs": [
    {
     "output_type": "stream",
     "name": "stdout",
     "text": [
      "('Google', 'Runoob', 1997, 2000) \n",
      " tup2 \n",
      " ('a', 'b', 'c', 'd') \n",
      " <class 'tuple'>\n"
     ]
    }
   ],
   "metadata": {}
  },
  {
   "cell_type": "code",
   "execution_count": 28,
   "source": [
    "print(id(tup1))\r\n",
    "tup1=1,2,3\r\n",
    "print(id(tup1))\r\n"
   ],
   "outputs": [
    {
     "output_type": "stream",
     "name": "stdout",
     "text": [
      "2448321434544\n",
      "2448321266176\n"
     ]
    }
   ],
   "metadata": {}
  },
  {
   "cell_type": "markdown",
   "source": [
    "### 3.2.3列表\r\n",
    "序列是 Python 中最基本的数据结构。\r\n",
    "\r\n",
    "序列中的每个值都有对应的位置值，称之为索引，第一个索引是 0，第二个索引是 1，依此类推。\r\n",
    "\r\n",
    "Python 有 6 个序列的内置类型，但最常见的是列表和元组。\r\n",
    "\r\n",
    "列表都可以进行的操作包括索引，切片，加，乘，检查成员。\r\n",
    "\r\n",
    "此外，Python 已经内置确定序列的长度以及确定最大和最小的元素的方法。\r\n",
    "\r\n",
    "列表是最常用的 Python 数据类型，它可以作为一个方括号内的逗号分隔值出现。\r\n",
    "\r\n",
    "列表的数据项不需要具有相同的类型\r\n",
    "\r\n",
    "创建一个列表，只要把逗号分隔的不同的数据项使用方括号括起来即可。如下所示："
   ],
   "metadata": {}
  },
  {
   "cell_type": "code",
   "execution_count": 23,
   "source": [
    "list = ['red', 'green', 'blue', 'yellow', 'white', 'black']\r\n",
    "print( list[0] )\r\n",
    "print( list[1] )\r\n",
    "print( list[2] )\r\n"
   ],
   "outputs": [
    {
     "output_type": "stream",
     "name": "stdout",
     "text": [
      "red\n",
      "green\n",
      "blue\n"
     ]
    }
   ],
   "metadata": {}
  },
  {
   "cell_type": "code",
   "execution_count": 24,
   "source": [
    "list = ['Google', 'Runoob', \"Zhihu\", \"Taobao\", \"Wiki\"]\r\n",
    " \r\n",
    "# 读取第二位\r\n",
    "print (\"list[1]: \", list[1])\r\n",
    "# 从第二位开始（包含）截取到倒数第二位（不包含）\r\n",
    "print (\"list[1:-2]: \", list[1:-2])"
   ],
   "outputs": [
    {
     "output_type": "stream",
     "name": "stdout",
     "text": [
      "list[1]:  Runoob\n",
      "list[1:-2]:  ['Runoob', 'Zhihu']\n"
     ]
    }
   ],
   "metadata": {}
  },
  {
   "cell_type": "code",
   "execution_count": 25,
   "source": [
    "#\r\n",
    "list[2] = 2001\r\n",
    "print (\"更新后的第三个元素为 : \", list[2])\r\n",
    " \r\n",
    "list.append('Baidu')\r\n",
    "print (\"更新后的列表 : \", list)"
   ],
   "outputs": [
    {
     "output_type": "stream",
     "name": "stdout",
     "text": [
      "更新后的第三个元素为 :  2001\n",
      "更新后的列表 :  ['Google', 'Runoob', 2001, 'Taobao', 'Wiki', 'Baidu']\n"
     ]
    }
   ],
   "metadata": {}
  },
  {
   "cell_type": "code",
   "execution_count": null,
   "source": [
    "#删除元素\r\n",
    "del list[2]\r\n",
    "print (\"删除第三个元素 : \", list)"
   ],
   "outputs": [],
   "metadata": {}
  },
  {
   "cell_type": "markdown",
   "source": [
    "<a id=Section3></a>\r\n",
    "## 3.3 集合类型\r\n",
    "集合（set）是一个无序的不重复元素序列。\r\n",
    "\r\n",
    "可以使用大括号 { } 或者 set() 函数创建集合，注意：创建一个空集合必须用 set() 而不是 { }，因为 { } 是用来创建一个空字典。"
   ],
   "metadata": {}
  },
  {
   "cell_type": "markdown",
   "source": [
    "### 3.3.1基本操作："
   ],
   "metadata": {}
  },
  {
   "cell_type": "code",
   "execution_count": 18,
   "source": [
    "basket = {'apple', 'orange', 'apple', 'pear', 'orange', 'banana'}\r\n",
    "print(basket)                      # 这里演示的是去重功能"
   ],
   "outputs": [
    {
     "output_type": "stream",
     "name": "stdout",
     "text": [
      "{'banana', 'pear', 'orange', 'apple'}\n"
     ]
    }
   ],
   "metadata": {}
  },
  {
   "cell_type": "code",
   "execution_count": 2,
   "source": [
    "{'orange', 'banana', 'pear', 'apple'}\r\n",
    "'orange' in basket                 # 快速判断元素是否在集合内"
   ],
   "outputs": [
    {
     "output_type": "execute_result",
     "data": {
      "text/plain": [
       "True"
      ]
     },
     "metadata": {},
     "execution_count": 2
    }
   ],
   "metadata": {}
  },
  {
   "cell_type": "code",
   "execution_count": 3,
   "source": [
    "'crabgrass' in basket"
   ],
   "outputs": [
    {
     "output_type": "execute_result",
     "data": {
      "text/plain": [
       "False"
      ]
     },
     "metadata": {},
     "execution_count": 3
    }
   ],
   "metadata": {}
  },
  {
   "cell_type": "code",
   "execution_count": 6,
   "source": [
    "# 下面展示两个集合间的运算.\r\n",
    "a = set('abracadabra')\r\n",
    "b = set('alacazam')\r\n",
    "\r\n",
    "# 集合a中包含而集合b中不包含的元素                                 \r\n",
    "a - b                              "
   ],
   "outputs": [
    {
     "output_type": "execute_result",
     "data": {
      "text/plain": [
       "{'b', 'd', 'r'}"
      ]
     },
     "metadata": {},
     "execution_count": 6
    }
   ],
   "metadata": {}
  },
  {
   "cell_type": "code",
   "execution_count": 7,
   "source": [
    "# 集合a或b中包含的所有元素\r\n",
    "a | b                              "
   ],
   "outputs": [
    {
     "output_type": "execute_result",
     "data": {
      "text/plain": [
       "{'a', 'b', 'c', 'd', 'l', 'm', 'r', 'z'}"
      ]
     },
     "metadata": {},
     "execution_count": 7
    }
   ],
   "metadata": {}
  },
  {
   "cell_type": "code",
   "execution_count": 8,
   "source": [
    "# 集合a和b中都包含了的元素\r\n",
    "a & b                              "
   ],
   "outputs": [
    {
     "output_type": "execute_result",
     "data": {
      "text/plain": [
       "{'a', 'c'}"
      ]
     },
     "metadata": {},
     "execution_count": 8
    }
   ],
   "metadata": {}
  },
  {
   "cell_type": "code",
   "execution_count": 9,
   "source": [
    "# 不同时包含于a和b的元素\r\n",
    "a ^ b                              "
   ],
   "outputs": [
    {
     "output_type": "execute_result",
     "data": {
      "text/plain": [
       "{'b', 'd', 'l', 'm', 'r', 'z'}"
      ]
     },
     "metadata": {},
     "execution_count": 9
    }
   ],
   "metadata": {}
  },
  {
   "cell_type": "code",
   "execution_count": null,
   "source": [
    "#类似列表推导式，同样集合支持集合推导式(Set comprehension):\r\n",
    "a = {x for x in 'abracadabra' if x not in 'abc'}"
   ],
   "outputs": [],
   "metadata": {}
  },
  {
   "cell_type": "markdown",
   "source": [
    "### 3.3.2集合运算\r\n"
   ],
   "metadata": {}
  },
  {
   "cell_type": "code",
   "execution_count": 19,
   "source": [
    "# 增加\r\n",
    "basket.add(\"Facebook\")\r\n",
    "print(basket)\r\n",
    "# 添加\r\n",
    "basket.update(\"Facebook\")\r\n",
    "print(basket)\r\n",
    "# 删除\r\n",
    "basket.remove(\"apple\")\r\n",
    "print(basket)\r\n",
    "#basket.remove('none')  # throw error!!!\r\n",
    "#basket.discard('none') # don't throw error!!!\r\n",
    "basket.pop()# throw one element random"
   ],
   "outputs": [
    {
     "output_type": "stream",
     "name": "stdout",
     "text": [
      "{'apple', 'orange', 'pear', 'banana', 'Facebook'}\n",
      "{'e', 'o', 'b', 'apple', 'a', 'c', 'F', 'k', 'orange', 'pear', 'banana', 'Facebook'}\n",
      "{'e', 'o', 'b', 'a', 'c', 'F', 'k', 'orange', 'pear', 'banana', 'Facebook'}\n"
     ]
    },
    {
     "output_type": "execute_result",
     "data": {
      "text/plain": [
       "'e'"
      ]
     },
     "metadata": {},
     "execution_count": 19
    }
   ],
   "metadata": {}
  },
  {
   "cell_type": "code",
   "execution_count": 20,
   "source": [
    "# 计算集合长度\r\n",
    "len(basket)"
   ],
   "outputs": [
    {
     "output_type": "execute_result",
     "data": {
      "text/plain": [
       "10"
      ]
     },
     "metadata": {},
     "execution_count": 20
    }
   ],
   "metadata": {}
  },
  {
   "cell_type": "code",
   "execution_count": 22,
   "source": [
    "#清理集合\r\n",
    "basket.clear()\r\n"
   ],
   "outputs": [],
   "metadata": {}
  },
  {
   "cell_type": "markdown",
   "source": [
    "<a id=Section4></a>\r\n",
    "## 3.4 映射类型\r\n",
    "\r\n"
   ],
   "metadata": {}
  },
  {
   "cell_type": "markdown",
   "source": [
    "###\r\n"
   ],
   "metadata": {}
  }
 ],
 "metadata": {
  "orig_nbformat": 4,
  "language_info": {
   "name": "python",
   "version": "3.9.7",
   "mimetype": "text/x-python",
   "codemirror_mode": {
    "name": "ipython",
    "version": 3
   },
   "pygments_lexer": "ipython3",
   "nbconvert_exporter": "python",
   "file_extension": ".py"
  },
  "kernelspec": {
   "name": "python3",
   "display_name": "Python 3.9.7 64-bit"
  },
  "interpreter": {
   "hash": "b77746e9332ffa618d6f1b0c30b3b999bda6b9685dc073ddc506779c9ceef622"
  }
 },
 "nbformat": 4,
 "nbformat_minor": 2
}