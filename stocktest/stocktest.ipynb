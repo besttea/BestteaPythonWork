{
 "cells": [
  {
   "cell_type": "code",
   "execution_count": 1,
   "metadata": {},
   "outputs": [],
   "source": [
    "import tensorflow as tf\n",
    "import pandas            as pd\n",
    "import tensorflow        as tf  \n",
    "import numpy             as np\n",
    "import matplotlib.pyplot as plt\n",
    "# 支持中文\n",
    "plt.rcParams['font.sans-serif'] = ['SimHei']  # 用来正常显示中文标签\n",
    "plt.rcParams['axes.unicode_minus'] = False  # 用来正常显示负号\n",
    "\n",
    "from numpy                 import array\n",
    "from sklearn               import metrics\n",
    "from sklearn.preprocessing import MinMaxScaler\n",
    "from tensorflow.keras.models          import Sequential\n",
    "from tensorflow.keras.layers          import Dense,LSTM,Bidirectional\n",
    "\n",
    "\n",
    "# 确保结果尽可能重现\n",
    "from numpy.random   import seed\n",
    "seed(1)\n",
    "tf.random.set_seed(1)\n",
    "\n",
    "# 设置相关参数\n",
    "n_timestamp  = 40    # 时间戳\n",
    "n_epochs     = 20    # 训练轮数\n",
    "# ====================================\n",
    "#      选择模型：\n",
    "#            1: 单层 LSTM\n",
    "#            2: 多层 LSTM\n",
    "#            3: 双向 LSTM\n",
    "# ====================================\n",
    "model_type = 2\n"
   ]
  },
  {
   "cell_type": "code",
   "execution_count": 2,
   "metadata": {},
   "outputs": [],
   "source": [
    "# 导入tushare\n",
    "import tushare as ts\n",
    "# 初始化pro接口\n",
    "pro = ts.pro_api('84a7d42ba53be1e345b15650d19116113087ad5440320b4c6b7b6c67')\n",
    "\n",
    "# 拉取数据\n",
    "data = pro.daily(**{\n",
    "    \"ts_code\": '688333.sh',\n",
    "    \"trade_date\": \"\",\n",
    "    \"start_date\": \"\",\n",
    "    \"end_date\": \"\",\n",
    "    \"offset\": \"\",\n",
    "    \"limit\": \"\"\n",
    "}, fields=[\n",
    "    \"trade_date\",\n",
    "    \"open\",\n",
    "    \"close\",\n",
    "    \"high\",\n",
    "    \"low\",\n",
    "    \"vol\",\n",
    "    \"ts_code\"\n",
    "])\n"
   ]
  },
  {
   "cell_type": "code",
   "execution_count": 3,
   "metadata": {},
   "outputs": [
    {
     "name": "stdout",
     "output_type": "stream",
     "text": [
      "       ts_code trade_date    open    high     low   close        vol\n",
      "0    688333.SH   20211014  203.21  205.46  199.00  199.50    2314.23\n",
      "1    688333.SH   20211013  203.00  204.00  198.00  203.21    2135.11\n",
      "2    688333.SH   20211012  213.82  213.82  198.08  201.90    2820.59\n",
      "3    688333.SH   20211011  208.64  216.33  206.34  210.08    3148.10\n",
      "4    688333.SH   20211008  211.47  211.47  205.00  208.81    2364.72\n",
      "..         ...        ...     ...     ...     ...     ...        ...\n",
      "536  688333.SH   20190726   68.00   70.79   66.18   67.34   55146.48\n",
      "537  688333.SH   20190725   65.46   76.00   65.03   71.02   95340.23\n",
      "538  688333.SH   20190724   61.21   68.00   61.18   67.99   93735.42\n",
      "539  688333.SH   20190723   54.50   62.00   54.00   57.40   58753.25\n",
      "540  688333.SH   20190722   61.00   96.00   43.40   64.33  148263.07\n",
      "\n",
      "[541 rows x 7 columns]\n"
     ]
    }
   ],
   "source": [
    "print(data)\n",
    "data.to_csv(\"stock688333.csv\")"
   ]
  },
  {
   "cell_type": "code",
   "execution_count": 4,
   "metadata": {},
   "outputs": [
    {
     "name": "stdout",
     "output_type": "stream",
     "text": [
      "ts_code\n",
      "trade_date\n",
      "open\n",
      "high\n",
      "low\n",
      "close\n",
      "vol\n"
     ]
    }
   ],
   "source": [
    "\n",
    "#data.iloc[0:4813-300,3]\n",
    "#plt.xlabel(\"Time\")\n",
    "#plt.ylabel(\"Price\")\n",
    "#i=data[\"low\"].items()\n",
    "#i,x=data[\"trade_date\"].items()\n",
    "\n",
    "\n",
    "for item in data.items():\n",
    "    print(item[0])\n",
    "     \n",
    "#plt.pli ot(x,y)\n",
    "#plt.show()\n",
    "#print(data[\"open\"])"
   ]
  },
  {
   "cell_type": "code",
   "execution_count": 5,
   "metadata": {},
   "outputs": [
    {
     "data": {
      "text/plain": [
       "<bound method DataFrame.items of     trade_date   close\n",
       "0     20190722   64.33\n",
       "1     20190723   57.40\n",
       "2     20190724   67.99\n",
       "3     20190725   71.02\n",
       "4     20190726   67.34\n",
       "..         ...     ...\n",
       "536   20211008  208.81\n",
       "537   20211011  210.08\n",
       "538   20211012  201.90\n",
       "539   20211013  203.21\n",
       "540   20211014  199.50\n",
       "\n",
       "[541 rows x 2 columns]>"
      ]
     },
     "execution_count": 5,
     "metadata": {},
     "output_type": "execute_result"
    }
   ],
   "source": [
    "data1=pd.DataFrame(data,columns=[\"trade_date\",\"close\"])\n",
    "#data1=data1.iloc[::-1]\n",
    "#plt.plot(data1[\"close\"])\n",
    "ddd=[]\n",
    "for item in data1.items():\n",
    "    ddd.append(item)\n",
    "ind=ddd[0][1].values\n",
    "da1=ddd[1][1].values\n",
    "index1=[]\n",
    "data2=[]\n",
    "for item in ind:\n",
    "    index1.append(item)\n",
    "index1.reverse()\n",
    "for item in da1:\n",
    "    data2.append(item)\n",
    "data2.reverse()\n",
    "data1={'trade_date':index1,'close':data2}\n",
    "stockdata=pd.DataFrame(data1)\n",
    "\n",
    "stockdata.items    "
   ]
  },
  {
   "cell_type": "code",
   "execution_count": 6,
   "metadata": {},
   "outputs": [],
   "source": [
    "\n",
    "training_set = stockdata.iloc[0:512, 1:3]\n",
    "test_set     = stockdata.iloc[537 - 300:, 1:3]\n",
    "#将数据归一化，范围是0到1\n",
    "sc  = MinMaxScaler(feature_range=(0, 1))\n",
    "training_set_scaled = sc.fit_transform(training_set)\n",
    "testing_set_scaled  = sc.transform(test_set) \n"
   ]
  },
  {
   "cell_type": "code",
   "execution_count": 7,
   "metadata": {},
   "outputs": [],
   "source": [
    "# 取前 n_timestamp 天的数据为 X；n_timestamp+1天数据为 Y。\n",
    "def data_split(sequence, n_timestamp):\n",
    "    X = []\n",
    "    y = []\n",
    "    for i in range(len(sequence)):\n",
    "        end_ix = i + n_timestamp\n",
    "        \n",
    "        if end_ix > len(sequence)-1:\n",
    "            break\n",
    "            \n",
    "        seq_x, seq_y = sequence[i:end_ix], sequence[end_ix]\n",
    "        X.append(seq_x)\n",
    "        y.append(seq_y)\n",
    "    return array(X), array(y)\n",
    "\n",
    "X_train, y_train = data_split(training_set_scaled, n_timestamp)\n",
    "X_train          = X_train.reshape(X_train.shape[0], X_train.shape[1], 1)\n",
    "\n",
    "X_test, y_test   = data_split(testing_set_scaled, n_timestamp)\n",
    "X_test           = X_test.reshape(X_test.shape[0], X_test.shape[1], 1)\n"
   ]
  },
  {
   "cell_type": "code",
   "execution_count": 8,
   "metadata": {},
   "outputs": [
    {
     "name": "stdout",
     "output_type": "stream",
     "text": [
      "Model: \"sequential\"\n",
      "_________________________________________________________________\n",
      "Layer (type)                 Output Shape              Param #   \n",
      "=================================================================\n",
      "bidirectional (Bidirectional (None, 100)               20800     \n",
      "_________________________________________________________________\n",
      "dense (Dense)                (None, 1)                 101       \n",
      "=================================================================\n",
      "Total params: 20,901\n",
      "Trainable params: 20,901\n",
      "Non-trainable params: 0\n",
      "_________________________________________________________________\n"
     ]
    }
   ],
   "source": [
    "#五、构建模型\n",
    "# 建构 LSTM模型\n",
    "model_type=3\n",
    "if model_type == 1:\n",
    "    # 单层 LSTM\n",
    "    model = Sequential()\n",
    "    model.add(LSTM(units=50, activation='relu',\n",
    "                   input_shape=(X_train.shape[1], 1)))\n",
    "    model.add(Dense(units=1))\n",
    "if model_type == 2:\n",
    "    # 多层 LSTM\n",
    "    model = Sequential()\n",
    "    model.add(LSTM(units=50, activation='relu', return_sequences=True,\n",
    "                   input_shape=(X_train.shape[1], 1)))\n",
    "    model.add(LSTM(units=50, activation='relu'))\n",
    "    model.add(Dense(1))\n",
    "if model_type == 3:\n",
    "    # 双向 LSTM\n",
    "    model = Sequential()\n",
    "    model.add(Bidirectional(LSTM(50, activation='relu'),\n",
    "                            input_shape=(X_train.shape[1], 1)))\n",
    "    model.add(Dense(1))\n",
    "\n",
    "model.summary()  # 输出模型结构"
   ]
  },
  {
   "cell_type": "code",
   "execution_count": 9,
   "metadata": {},
   "outputs": [
    {
     "name": "stdout",
     "output_type": "stream",
     "text": [
      "Epoch 1/20\n",
      "8/8 [==============================] - 4s 100ms/step - loss: 0.1276 - val_loss: 0.2174\n",
      "Epoch 2/20\n",
      "8/8 [==============================] - 0s 42ms/step - loss: 0.0800 - val_loss: 0.1283\n",
      "Epoch 3/20\n",
      "8/8 [==============================] - 0s 39ms/step - loss: 0.0435 - val_loss: 0.0394\n",
      "Epoch 4/20\n",
      "8/8 [==============================] - 0s 37ms/step - loss: 0.0179 - val_loss: 0.0490\n",
      "Epoch 5/20\n",
      "8/8 [==============================] - 0s 37ms/step - loss: 0.0164 - val_loss: 0.0154\n",
      "Epoch 6/20\n",
      "8/8 [==============================] - 0s 38ms/step - loss: 0.0128 - val_loss: 0.0158\n",
      "Epoch 7/20\n",
      "8/8 [==============================] - 0s 43ms/step - loss: 0.0091 - val_loss: 0.0540\n",
      "Epoch 8/20\n",
      "8/8 [==============================] - 0s 40ms/step - loss: 0.0075 - val_loss: 0.0385\n",
      "Epoch 9/20\n",
      "8/8 [==============================] - 0s 39ms/step - loss: 0.0073 - val_loss: 0.0538\n",
      "Epoch 10/20\n",
      "8/8 [==============================] - 0s 40ms/step - loss: 0.0066 - val_loss: 0.0276\n",
      "Epoch 11/20\n",
      "8/8 [==============================] - 0s 39ms/step - loss: 0.0064 - val_loss: 0.0282\n",
      "Epoch 12/20\n",
      "8/8 [==============================] - 0s 40ms/step - loss: 0.0061 - val_loss: 0.0268\n",
      "Epoch 13/20\n",
      "8/8 [==============================] - 0s 41ms/step - loss: 0.0058 - val_loss: 0.0253\n",
      "Epoch 14/20\n",
      "8/8 [==============================] - 0s 40ms/step - loss: 0.0055 - val_loss: 0.0226\n",
      "Epoch 15/20\n",
      "8/8 [==============================] - 0s 41ms/step - loss: 0.0053 - val_loss: 0.0187\n",
      "Epoch 16/20\n",
      "8/8 [==============================] - 0s 42ms/step - loss: 0.0050 - val_loss: 0.0164\n",
      "Epoch 17/20\n",
      "8/8 [==============================] - 0s 45ms/step - loss: 0.0047 - val_loss: 0.0187\n",
      "Epoch 18/20\n",
      "8/8 [==============================] - 0s 51ms/step - loss: 0.0043 - val_loss: 0.0118\n",
      "Epoch 19/20\n",
      "8/8 [==============================] - 0s 44ms/step - loss: 0.0040 - val_loss: 0.0146\n",
      "Epoch 20/20\n",
      "8/8 [==============================] - 0s 41ms/step - loss: 0.0037 - val_loss: 0.0903\n",
      "Model: \"sequential\"\n",
      "_________________________________________________________________\n",
      "Layer (type)                 Output Shape              Param #   \n",
      "=================================================================\n",
      "bidirectional (Bidirectional (None, 100)               20800     \n",
      "_________________________________________________________________\n",
      "dense (Dense)                (None, 1)                 101       \n",
      "=================================================================\n",
      "Total params: 20,901\n",
      "Trainable params: 20,901\n",
      "Non-trainable params: 0\n",
      "_________________________________________________________________\n"
     ]
    }
   ],
   "source": [
    "model.compile(optimizer=tf.keras.optimizers.Adam(0.001),\n",
    "              loss='mean_squared_error')  # 损失函数用均方误差\n",
    "#七、训练模型\n",
    "history = model.fit(X_train, y_train,\n",
    "                    batch_size=64,\n",
    "                    epochs=n_epochs,\n",
    "                    validation_data=(X_test, y_test),\n",
    "                    validation_freq=1)  # 测试的epoch间隔数\n",
    "\n",
    "model.summary()"
   ]
  },
  {
   "cell_type": "code",
   "execution_count": 10,
   "metadata": {},
   "outputs": [
    {
     "data": {
      "image/png": "[encoded data removed]",
      "text/plain": [
       "<Figure size 432x288 with 1 Axes>"
      ]
     },
     "metadata": {
      "needs_background": "light"
     },
     "output_type": "display_data"
    }
   ],
   "source": [
    "plt.plot(history.history['loss'], label='Training Loss')\n",
    "plt.plot(history.history['val_loss'], label='Validation Loss')\n",
    "#plt.title('Training and Validation Loss')\n",
    "plt.legend()\n",
    "plt.show()"
   ]
  },
  {
   "cell_type": "code",
   "execution_count": 11,
   "metadata": {},
   "outputs": [],
   "source": [
    "predicted_stock_price = model.predict(\n",
    "    X_test)                        # 测试集输入模型进行预测\n",
    "predicted_stock_price = sc.inverse_transform(\n",
    "    predicted_stock_price)  # 对预测数据还原---从（0，1）反归一化到原始范围\n",
    "real_stock_price = sc.inverse_transform(y_test)  # 对真实数据还原---从（0，1）反归一化到原始范围"
   ]
  },
  {
   "cell_type": "code",
   "execution_count": 12,
   "metadata": {},
   "outputs": [
    {
     "data": {
      "image/png": "[encoded data removed]",
      "text/plain": [
       "<Figure size 432x288 with 1 Axes>"
      ]
     },
     "metadata": {
      "needs_background": "light"
     },
     "output_type": "display_data"
    }
   ],
   "source": [
    "# 画出真实数据和预测数据的对比曲线\n",
    "plt.plot(real_stock_price, color='red', label='Stock Price')\n",
    "plt.plot(predicted_stock_price, color='blue', label='Predicted Stock Price')\n",
    "#plt.title('Stock Price Prediction')\n",
    "plt.xlabel('Time')\n",
    "plt.ylabel('Stock Price')\n",
    "plt.legend()\n",
    "plt.show()"
   ]
  },
  {
   "cell_type": "code",
   "execution_count": 13,
   "metadata": {},
   "outputs": [
    {
     "name": "stdout",
     "output_type": "stream",
     "text": [
      "均方误差: 3826.82294\n",
      "均方根误差: 61.86132\n",
      "平均绝对误差: 25.20611\n",
      "R2: -0.11625\n"
     ]
    }
   ],
   "source": [
    "MSE = metrics.mean_squared_error(predicted_stock_price, real_stock_price)\n",
    "RMSE = metrics.mean_squared_error(predicted_stock_price, real_stock_price)**0.5\n",
    "MAE = metrics.mean_absolute_error(predicted_stock_price, real_stock_price)\n",
    "R2 = metrics.r2_score(predicted_stock_price, real_stock_price)\n",
    "\n",
    "print('均方误差: %.5f' % MSE)\n",
    "print('均方根误差: %.5f' % RMSE)\n",
    "print('平均绝对误差: %.5f' % MAE)\n",
    "print('R2: %.5f' % R2)"
   ]
  }
 ],
 "metadata": {
  "interpreter": {
   "hash": "b77746e9332ffa618d6f1b0c30b3b999bda6b9685dc073ddc506779c9ceef622"
  },
  "kernelspec": {
   "display_name": "Python 3.9.7 64-bit",
   "name": "python3"
  },
  "language_info": {
   "codemirror_mode": {
    "name": "ipython",
    "version": 3
   },
   "file_extension": ".py",
   "mimetype": "text/x-python",
   "name": "python",
   "nbconvert_exporter": "python",
   "pygments_lexer": "ipython3",
   "version": "3.9.7"
  },
  "orig_nbformat": 4
 },
 "nbformat": 4,
 "nbformat_minor": 2
}
