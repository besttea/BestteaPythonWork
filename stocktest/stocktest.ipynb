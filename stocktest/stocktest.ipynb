{
 "cells": [
  {
   "cell_type": "code",
   "execution_count": 45,
   "metadata": {},
   "outputs": [],
   "source": [
    "import tensorflow as tf\n",
    "import pandas            as pd\n",
    "import tensorflow        as tf  \n",
    "import numpy             as np\n",
    "import matplotlib.pyplot as plt\n",
    "# 支持中文\n",
    "plt.rcParams['font.sans-serif'] = ['SimHei']  # 用来正常显示中文标签\n",
    "plt.rcParams['axes.unicode_minus'] = False  # 用来正常显示负号\n",
    "\n",
    "from numpy                 import array\n",
    "from sklearn               import metrics\n",
    "from sklearn.preprocessing import MinMaxScaler\n",
    "from tensorflow.keras.models          import Sequential\n",
    "from tensorflow.keras.layers          import Dense,LSTM,Bidirectional\n",
    "\n",
    "from numpy.random   import seed\n",
    "\n"
   ]
  },
  {
   "cell_type": "code",
   "execution_count": 54,
   "metadata": {},
   "outputs": [],
   "source": [
    "# 确保结果尽可能重现\n",
    "\n",
    "seed(1)\n",
    "tf.random.set_seed(1)\n",
    "\n",
    "# 设置相关参数\n",
    "n_timestamp  = 40    # 时间戳\n",
    "n_epochs     = 20    # 训练轮数\n",
    "# ====================================\n",
    "#      选择模型：\n",
    "#            1: 单层 LSTM\n",
    "#            2: 多层 LSTM\n",
    "#            3: 双向 LSTM\n",
    "# ====================================\n",
    "model_type = 1"
   ]
  },
  {
   "cell_type": "code",
   "execution_count": 1,
   "metadata": {},
   "outputs": [],
   "source": [
    "# 导入tushare\n",
    "import tushare as ts"
   ]
  },
  {
   "cell_type": "code",
   "execution_count": 5,
   "metadata": {},
   "outputs": [
    {
     "name": "stdout",
     "output_type": "stream",
     "text": [
      "本接口即将停止更新，请尽快使用Pro版接口：https://waditu.com/document/2\n"
     ]
    }
   ],
   "source": [
    "pro=ts.get_hist_data('600848')"
   ]
  },
  {
   "cell_type": "code",
   "execution_count": null,
   "metadata": {},
   "outputs": [],
   "source": [
    "\n",
    "# 初始化pro接口\n",
    "#pro = ts.pro_api('84a7d42ba53be1e345b15650d19116113087ad5440320b4c6b7b6c67')\n",
    "\n",
    "# 拉取数据\n",
    "data = pro.daily(**{\n",
    "    \"ts_code\": '600848.sh',\n",
    "    \"trade_date\": \"\",\n",
    "    \"start_date\": \"\",\n",
    "    \"end_date\": \"\",\n",
    "    \"offset\": \"\",\n",
    "    \"limit\": \"\"\n",
    "}, fields=[\n",
    "    \"trade_date\",\n",
    "    \"open\",\n",
    "    \"close\",\n",
    "    \"high\",\n",
    "    \"low\",\n",
    "    \"vol\",\n",
    "    \"ts_code\"\n",
    "])\n"
   ]
  },
  {
   "cell_type": "code",
   "execution_count": 4,
   "metadata": {},
   "outputs": [
    {
     "name": "stdout",
     "output_type": "stream",
     "text": [
      "             open   high  close    low     volume  price_change  p_change  \\\n",
      "date                                                                        \n",
      "2021-10-15  15.38  15.53  15.39  15.32   37514.89          0.02      0.13   \n",
      "2021-10-14  15.46  15.46  15.37  15.23   37009.49          0.01      0.07   \n",
      "2021-10-13  15.13  15.48  15.36  15.12   43195.69          0.22      1.45   \n",
      "2021-10-12  15.28  15.34  15.14  15.08   42036.80         -0.12     -0.79   \n",
      "2021-10-11  15.13  15.34  15.26  15.13   33682.97          0.14      0.93   \n",
      "...           ...    ...    ...    ...        ...           ...       ...   \n",
      "2019-04-23  36.14  38.81  37.49  35.61  203943.80          1.73      4.84   \n",
      "2019-04-22  35.30  36.66  35.76  35.30  126570.22          0.29      0.82   \n",
      "2019-04-19  35.88  36.29  35.47  34.49   99508.10         -0.53     -1.47   \n",
      "2019-04-18  35.52  36.30  36.00  35.22   81878.63          0.17      0.47   \n",
      "2019-04-17  35.96  36.67  35.83  35.20  118798.04         -0.37     -1.02   \n",
      "\n",
      "               ma5    ma10    ma20      v_ma5     v_ma10     v_ma20  turnover  \n",
      "date                                                                           \n",
      "2021-10-15  15.304  15.184  15.276   38687.97   35609.28   42411.28      0.26  \n",
      "2021-10-14  15.250  15.174  15.296   36865.46   35406.01   42924.30      0.25  \n",
      "2021-10-13  15.186  15.187  15.318   35007.06   38023.78   43639.09      0.30  \n",
      "2021-10-12  15.114  15.171  15.346   33512.85   38633.25   45142.14      0.29  \n",
      "2021-10-11  15.100  15.164  15.385   31217.00   38353.66   47653.80      0.23  \n",
      "...            ...     ...     ...        ...        ...        ...       ...  \n",
      "2019-04-23  36.110  36.110  36.110  126139.76  126139.76  126139.76      2.59  \n",
      "2019-04-22  35.765  35.765  35.765  106688.75  106688.75  106688.75      1.61  \n",
      "2019-04-19  35.767  35.767  35.767  100061.59  100061.59  100061.59      1.26  \n",
      "2019-04-18  35.915  35.915  35.915  100338.34  100338.34  100338.34      1.04  \n",
      "2019-04-17  35.830  35.830  35.830  118798.04  118798.04  118798.04      1.51  \n",
      "\n",
      "[606 rows x 14 columns]\n"
     ]
    }
   ],
   "source": [
    "print(data)\n",
    "data.to_csv(\"stock600848.csv\")"
   ]
  },
  {
   "cell_type": "code",
   "execution_count": null,
   "metadata": {},
   "outputs": [],
   "source": [
    "\n",
    "data.iloc[0:4813-300,3]\n",
    "#plt.xlabel(\"Time\")\n",
    "#plt.ylabel(\"Price\")\n",
    "i=data[\"close\"]\n",
    "#i,x=data[\"trade_date\"].items()\n",
    "\n",
    "\n",
    "for item in data.items():\n",
    "    print(item[0])\n",
    "     \n",
    "plt.plot(i.iloc[::-1])\n",
    "#plt.show()\n",
    "print(i.iloc[::-1])"
   ]
  },
  {
   "cell_type": "code",
   "execution_count": null,
   "metadata": {},
   "outputs": [],
   "source": []
  },
  {
   "cell_type": "code",
   "execution_count": 64,
   "metadata": {},
   "outputs": [
    {
     "data": {
      "image/png": "[encoded data removed]",
      "text/plain": [
       "<Figure size 432x288 with 1 Axes>"
      ]
     },
     "metadata": {
      "needs_background": "light"
     },
     "output_type": "display_data"
    }
   ],
   "source": [
    "# data1=pd.DataFrame(data,columns=[\"trade_date\",\"close\"])\n",
    "#data1=pd.DataFrame(data,columns=[\"close\"])\n",
    "data1=data.iloc[::-1]\n",
    "data1[\"open\"].plot(label=\"open\")\n",
    "data1[\"close\"].plot(label=\"close\")\n",
    "plt.legend()\n",
    "plt.show()\n"
   ]
  },
  {
   "cell_type": "code",
   "execution_count": null,
   "metadata": {},
   "outputs": [],
   "source": [
    "ddd=[]\n",
    "for item in data1.items():\n",
    "    ddd.append(item)\n",
    "ind=ddd[0][1].values\n",
    "da1=ddd[1][1].values\n",
    "index1=[]\n",
    "data2=[]\n",
    "for item in ind:\n",
    "    index1.append(item)\n",
    "index1.reverse()\n",
    "for item in da1:\n",
    "    data2.append(item)\n",
    "data2.reverse()\n",
    "data1={'trade_date':index1,'close':data2}\n",
    "stockdata=pd.DataFrame(data1)\n",
    "\n",
    "stockdata.items    "
   ]
  },
  {
   "cell_type": "code",
   "execution_count": 47,
   "metadata": {},
   "outputs": [],
   "source": [
    "\n",
    "training_set = data1.iloc[0:512, 1:2]\n",
    "test_set     = data1.iloc[606 - 300:, 1:2]\n",
    "#将数据归一化，范围是0到1\n",
    "sc  = MinMaxScaler(feature_range=(0, 1))\n",
    "training_set_scaled = sc.fit_transform(training_set)\n",
    "testing_set_scaled  = sc.transform(test_set) \n"
   ]
  },
  {
   "cell_type": "code",
   "execution_count": 55,
   "metadata": {},
   "outputs": [],
   "source": [
    "# 取前 n_timestamp 天的数据为 X；n_timestamp+1天数据为 Y。\n",
    "def data_split(sequence, n_timestamp):\n",
    "    X = []\n",
    "    y = []\n",
    "    for i in range(len(sequence)):\n",
    "        end_ix = i + n_timestamp\n",
    "        \n",
    "        if end_ix > len(sequence)-1:\n",
    "            break\n",
    "            \n",
    "        seq_x, seq_y = sequence[i:end_ix], sequence[end_ix]\n",
    "        X.append(seq_x)\n",
    "        y.append(seq_y)\n",
    "    return array(X), array(y)\n",
    "\n",
    "X_train, y_train = data_split(training_set_scaled, n_timestamp)\n",
    "X_train          = X_train.reshape(X_train.shape[0], X_train.shape[1], 1)\n",
    "\n",
    "X_test, y_test   = data_split(testing_set_scaled, n_timestamp)\n",
    "X_test           = X_test.reshape(X_test.shape[0], X_test.shape[1], 1)\n"
   ]
  },
  {
   "cell_type": "code",
   "execution_count": 56,
   "metadata": {},
   "outputs": [
    {
     "name": "stdout",
     "output_type": "stream",
     "text": [
      "Model: \"sequential_1\"\n",
      "_________________________________________________________________\n",
      "Layer (type)                 Output Shape              Param #   \n",
      "=================================================================\n",
      "bidirectional_1 (Bidirection (None, 100)               20800     \n",
      "_________________________________________________________________\n",
      "dense_1 (Dense)              (None, 1)                 101       \n",
      "=================================================================\n",
      "Total params: 20,901\n",
      "Trainable params: 20,901\n",
      "Non-trainable params: 0\n",
      "_________________________________________________________________\n"
     ]
    }
   ],
   "source": [
    "#五、构建模型\n",
    "# 建构 LSTM模型\n",
    "model_type=3\n",
    "if model_type == 1:\n",
    "    # 单层 LSTM\n",
    "    model = Sequential()\n",
    "    model.add(LSTM(units=50, activation='relu',\n",
    "                   input_shape=(X_train.shape[1], 1)))\n",
    "    model.add(Dense(units=1))\n",
    "if model_type == 2:\n",
    "    # 多层 LSTM\n",
    "    model = Sequential()\n",
    "    model.add(LSTM(units=50, activation='relu', return_sequences=True,\n",
    "                   input_shape=(X_train.shape[1], 1)))\n",
    "    model.add(LSTM(units=50, activation='relu'))\n",
    "    model.add(Dense(1))\n",
    "if model_type == 3:\n",
    "    # 双向 LSTM\n",
    "    model = Sequential()\n",
    "    model.add(Bidirectional(LSTM(50, activation='relu'),\n",
    "                            input_shape=(X_train.shape[1], 1)))\n",
    "    model.add(Dense(1))\n",
    "\n",
    "model.summary()  # 输出模型结构"
   ]
  },
  {
   "cell_type": "code",
   "execution_count": 57,
   "metadata": {},
   "outputs": [
    {
     "name": "stdout",
     "output_type": "stream",
     "text": [
      "Epoch 1/20\n",
      "8/8 [==============================] - 3s 100ms/step - loss: 0.0866 - val_loss: 0.0162\n",
      "Epoch 2/20\n",
      "8/8 [==============================] - 0s 42ms/step - loss: 0.0486 - val_loss: 0.0150\n",
      "Epoch 3/20\n",
      "8/8 [==============================] - 0s 40ms/step - loss: 0.0215 - val_loss: 0.0234\n",
      "Epoch 4/20\n",
      "8/8 [==============================] - 0s 39ms/step - loss: 0.0137 - val_loss: 0.0245\n",
      "Epoch 5/20\n",
      "8/8 [==============================] - 0s 42ms/step - loss: 0.0112 - val_loss: 0.0161\n",
      "Epoch 6/20\n",
      "8/8 [==============================] - 0s 39ms/step - loss: 0.0100 - val_loss: 0.0137\n",
      "Epoch 7/20\n",
      "8/8 [==============================] - 0s 44ms/step - loss: 0.0090 - val_loss: 0.0125\n",
      "Epoch 8/20\n",
      "8/8 [==============================] - 0s 44ms/step - loss: 0.0085 - val_loss: 0.0103\n",
      "Epoch 9/20\n",
      "8/8 [==============================] - 0s 41ms/step - loss: 0.0082 - val_loss: 0.0101\n",
      "Epoch 10/20\n",
      "8/8 [==============================] - 0s 39ms/step - loss: 0.0080 - val_loss: 0.0090\n",
      "Epoch 11/20\n",
      "8/8 [==============================] - 0s 39ms/step - loss: 0.0073 - val_loss: 0.0086\n",
      "Epoch 12/20\n",
      "8/8 [==============================] - 0s 40ms/step - loss: 0.0068 - val_loss: 0.0087\n",
      "Epoch 13/20\n",
      "8/8 [==============================] - 0s 38ms/step - loss: 0.0063 - val_loss: 0.0060\n",
      "Epoch 14/20\n",
      "8/8 [==============================] - 0s 42ms/step - loss: 0.0058 - val_loss: 0.0067\n",
      "Epoch 15/20\n",
      "8/8 [==============================] - 0s 40ms/step - loss: 0.0054 - val_loss: 0.0058\n",
      "Epoch 16/20\n",
      "8/8 [==============================] - 0s 40ms/step - loss: 0.0048 - val_loss: 0.0045\n",
      "Epoch 17/20\n",
      "8/8 [==============================] - 0s 47ms/step - loss: 0.0045 - val_loss: 0.0042\n",
      "Epoch 18/20\n",
      "8/8 [==============================] - 0s 44ms/step - loss: 0.0042 - val_loss: 0.0041\n",
      "Epoch 19/20\n",
      "8/8 [==============================] - 0s 43ms/step - loss: 0.0040 - val_loss: 0.0032\n",
      "Epoch 20/20\n",
      "8/8 [==============================] - 0s 42ms/step - loss: 0.0040 - val_loss: 0.0033\n",
      "Model: \"sequential_1\"\n",
      "_________________________________________________________________\n",
      "Layer (type)                 Output Shape              Param #   \n",
      "=================================================================\n",
      "bidirectional_1 (Bidirection (None, 100)               20800     \n",
      "_________________________________________________________________\n",
      "dense_1 (Dense)              (None, 1)                 101       \n",
      "=================================================================\n",
      "Total params: 20,901\n",
      "Trainable params: 20,901\n",
      "Non-trainable params: 0\n",
      "_________________________________________________________________\n"
     ]
    }
   ],
   "source": [
    "model.compile(optimizer=tf.keras.optimizers.Adam(0.001),\n",
    "              loss='mean_squared_error')  # 损失函数用均方误差\n",
    "#七、训练模型\n",
    "history = model.fit(X_train, y_train,\n",
    "                    batch_size=64,\n",
    "                    epochs=n_epochs,\n",
    "                    validation_data=(X_test, y_test),\n",
    "                    validation_freq=1)  # 测试的epoch间隔数\n",
    "\n",
    "model.summary()"
   ]
  },
  {
   "cell_type": "code",
   "execution_count": 58,
   "metadata": {},
   "outputs": [
    {
     "data": {
      "image/png": "[encoded data removed]",
      "text/plain": [
       "<Figure size 432x288 with 1 Axes>"
      ]
     },
     "metadata": {
      "needs_background": "light"
     },
     "output_type": "display_data"
    }
   ],
   "source": [
    "plt.plot(history.history['loss'], label='Training Loss')\n",
    "plt.plot(history.history['val_loss'], label='Validation Loss')\n",
    "#plt.title('Training and Validation Loss')\n",
    "plt.legend()\n",
    "plt.show()"
   ]
  },
  {
   "cell_type": "code",
   "execution_count": 59,
   "metadata": {},
   "outputs": [],
   "source": [
    "predicted_stock_price = model.predict(\n",
    "    X_test)                        # 测试集输入模型进行预测\n",
    "predicted_stock_price = sc.inverse_transform(\n",
    "    predicted_stock_price)  # 对预测数据还原---从（0，1）反归一化到原始范围\n",
    "real_stock_price = sc.inverse_transform(y_test)  # 对真实数据还原---从（0，1）反归一化到原始范围"
   ]
  },
  {
   "cell_type": "code",
   "execution_count": 60,
   "metadata": {},
   "outputs": [
    {
     "data": {
      "image/png": "[encoded data removed]",
      "text/plain": [
       "<Figure size 432x288 with 1 Axes>"
      ]
     },
     "metadata": {
      "needs_background": "light"
     },
     "output_type": "display_data"
    }
   ],
   "source": [
    "# 画出真实数据和预测数据的对比曲线\n",
    "plt.plot(real_stock_price, color='red', label='Stock Price')\n",
    "plt.plot(predicted_stock_price, color='blue', label='Predicted Stock Price')\n",
    "#plt.title('Stock Price Prediction')\n",
    "plt.xlabel('Time')\n",
    "plt.ylabel('Stock Price')\n",
    "plt.legend()\n",
    "plt.show()"
   ]
  },
  {
   "cell_type": "code",
   "execution_count": 61,
   "metadata": {},
   "outputs": [
    {
     "name": "stdout",
     "output_type": "stream",
     "text": [
      "均方误差: 1.40783\n",
      "均方根误差: 1.18652\n",
      "平均绝对误差: 0.93228\n",
      "R2: 0.64628\n"
     ]
    }
   ],
   "source": [
    "MSE = metrics.mean_squared_error(predicted_stock_price, real_stock_price)\n",
    "RMSE = metrics.mean_squared_error(predicted_stock_price, real_stock_price)**0.5\n",
    "MAE = metrics.mean_absolute_error(predicted_stock_price, real_stock_price)\n",
    "R2 = metrics.r2_score(predicted_stock_price, real_stock_price)\n",
    "\n",
    "print('均方误差: %.5f' % MSE)\n",
    "print('均方根误差: %.5f' % RMSE)\n",
    "print('平均绝对误差: %.5f' % MAE)\n",
    "print('R2: %.5f' % R2)"
   ]
  }
 ],
 "metadata": {
  "interpreter": {
   "hash": "b77746e9332ffa618d6f1b0c30b3b999bda6b9685dc073ddc506779c9ceef622"
  },
  "kernelspec": {
   "display_name": "Python 3.9.7 64-bit",
   "name": "python3"
  },
  "language_info": {
   "codemirror_mode": {
    "name": "ipython",
    "version": 3
   },
   "file_extension": ".py",
   "mimetype": "text/x-python",
   "name": "python",
   "nbconvert_exporter": "python",
   "pygments_lexer": "ipython3",
   "version": "3.9.7"
  },
  "orig_nbformat": 4
 },
 "nbformat": 4,
 "nbformat_minor": 2
}
