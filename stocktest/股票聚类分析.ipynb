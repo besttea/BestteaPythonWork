import numpy as np
import pandas as pd
import tushare as ts
import MySQLdb as mdb

import matplotlib
matplotlib.use(“TkAgg”)
import matplotlib.pyplot as plt
from matplotlib.collections import LineCollection

import pandas as pd
from sklearn import cluster,covariance,manifold

from matplotlib.font_manager import FontProperties

