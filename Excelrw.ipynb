{
 "cells": [
  {
   "cell_type": "code",
   "execution_count": null,
   "source": [
    "import xlrd\r\n",
    "book = xlrd.open_workbook(\"myfile.xls\")\r\n",
    "print(\"The number of worksheets is {0}\".format(book.nsheets))\r\n",
    "print(\"Worksheet name(s): {0}\".format(book.sheet_names()))\r\n",
    "sh = book.sheet_by_index(0)\r\n",
    "print(\"{0} {1} {2}\".format(sh.name, sh.nrows, sh.ncols))\r\n",
    "print(\"Cell D30 is {0}\".format(sh.cell_value(rowx=29, colx=3)))\r\n",
    "for rx in range(sh.nrows):\r\n",
    "    print(sh.row(rx))"
   ],
   "outputs": [],
   "metadata": {}
  }
 ],
 "metadata": {
  "orig_nbformat": 4,
  "language_info": {
   "name": "python"
  }
 },
 "nbformat": 4,
 "nbformat_minor": 2
}