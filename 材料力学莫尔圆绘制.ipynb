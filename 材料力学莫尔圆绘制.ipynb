{
 "cells": [
  {
   "cell_type": "markdown",
   "source": [
    "# 材料力学莫尔圆\r\n"
   ],
   "metadata": {}
  },
  {
   "cell_type": "code",
   "execution_count": 1,
   "source": [
    "from numpy import *\r\n",
    "from matplotlib.pyplot import *  \r\n",
    "from ipywidgets import interactive\r\n",
    "def stress(s_x,s_y,shear):\r\n",
    "    z=linspace(0,360,360)\r\n",
    "    R=sqrt(((s_x-s_y)/2)**2+shear**2)\r\n",
    "    X=(s_x+s_y)/2+R*cos(radians(z))\r\n",
    "    Y=R*sin(radians(z))\r\n",
    "    C_X=([s_x,s_x,s_y,s_y,s_x])\r\n",
    "    C_Y=([0,shear,-shear,0,0])\r\n",
    "    plot(C_X,C_Y,X,Y)\r\n",
    "    xlabel(\"Sigma\")\r\n",
    "    ylabel(\"Shear Stress\")\r\n",
    "    axis('equal')\r\n",
    "    show()\r\n",
    "interactive_plot=interactive(stress,shear=(0,90),s_x=(-50,100),s_y=(-50,100))\r\n",
    "interactive_plot\r\n"
   ],
   "outputs": [
    {
     "output_type": "display_data",
     "data": {
      "application/vnd.jupyter.widget-view+json": {
       "version_major": 2,
       "version_minor": 0,
       "model_id": "ecb0ed105caa4d22bc3588383004ff0b"
      },
      "text/plain": [
       "interactive(children=(IntSlider(value=25, description='s_x', min=-50), IntSlider(value=25, description='s_y', …"
      ]
     },
     "metadata": {}
    }
   ],
   "metadata": {}
  },
  {
   "cell_type": "code",
   "execution_count": 2,
   "source": [
    "import ipywidgets as widgets\r\n",
    "from IPython.display import display\r\n",
    "w = widgets.IntSlider()\r\n",
    "display(w)\r\n"
   ],
   "outputs": [
    {
     "output_type": "display_data",
     "data": {
      "application/vnd.jupyter.widget-view+json": {
       "version_major": 2,
       "version_minor": 0,
       "model_id": "cc0e0221ab4f433a83e62221a60f9669"
      },
      "text/plain": [
       "IntSlider(value=0)"
      ]
     },
     "metadata": {}
    }
   ],
   "metadata": {}
  },
  {
   "cell_type": "code",
   "execution_count": 3,
   "source": [
    "w.keys"
   ],
   "outputs": [
    {
     "output_type": "execute_result",
     "data": {
      "text/plain": [
       "['_dom_classes',\n",
       " '_model_module',\n",
       " '_model_module_version',\n",
       " '_model_name',\n",
       " '_view_count',\n",
       " '_view_module',\n",
       " '_view_module_version',\n",
       " '_view_name',\n",
       " 'continuous_update',\n",
       " 'description',\n",
       " 'description_tooltip',\n",
       " 'disabled',\n",
       " 'layout',\n",
       " 'max',\n",
       " 'min',\n",
       " 'orientation',\n",
       " 'readout',\n",
       " 'readout_format',\n",
       " 'step',\n",
       " 'style',\n",
       " 'value']"
      ]
     },
     "metadata": {},
     "execution_count": 3
    }
   ],
   "metadata": {}
  },
  {
   "cell_type": "code",
   "execution_count": 4,
   "source": [
    "widgets.Text(value='Hello World!', disabled=True)"
   ],
   "outputs": [
    {
     "output_type": "display_data",
     "data": {
      "application/vnd.jupyter.widget-view+json": {
       "version_major": 2,
       "version_minor": 0,
       "model_id": "e431b60561ec46348e745515ba987f94"
      },
      "text/plain": [
       "Text(value='Hello World!', disabled=True)"
      ]
     },
     "metadata": {}
    }
   ],
   "metadata": {}
  },
  {
   "cell_type": "code",
   "execution_count": 5,
   "source": [
    "a = widgets.FloatText()\r\n",
    "b = widgets.FloatSlider()\r\n",
    "display(a,b)\r\n",
    "\r\n",
    "mylink = widgets.jslink((a, 'value'), (b, 'value'))"
   ],
   "outputs": [
    {
     "output_type": "display_data",
     "data": {
      "application/vnd.jupyter.widget-view+json": {
       "version_major": 2,
       "version_minor": 0,
       "model_id": "ad334438fe314f52a9f272c8426dc1a8"
      },
      "text/plain": [
       "FloatText(value=0.0)"
      ]
     },
     "metadata": {}
    },
    {
     "output_type": "display_data",
     "data": {
      "application/vnd.jupyter.widget-view+json": {
       "version_major": 2,
       "version_minor": 0,
       "model_id": "a5d63726af0944a6916fb7f972b8c614"
      },
      "text/plain": [
       "FloatSlider(value=0.0)"
      ]
     },
     "metadata": {}
    }
   ],
   "metadata": {}
  },
  {
   "cell_type": "code",
   "execution_count": 6,
   "source": [
    "out = widgets.Output(layout={'border': '1px solid black'})\r\n",
    "out"
   ],
   "outputs": [
    {
     "output_type": "display_data",
     "data": {
      "application/vnd.jupyter.widget-view+json": {
       "version_major": 2,
       "version_minor": 0,
       "model_id": "cbc1791cb5e54b1eaa1461ec6505ee0c"
      },
      "text/plain": [
       "Output(layout=Layout(border='1px solid black'))"
      ]
     },
     "metadata": {}
    }
   ],
   "metadata": {}
  },
  {
   "cell_type": "code",
   "execution_count": 7,
   "source": [
    "with out:\r\n",
    "    for i in range(10):\r\n",
    "        print(i, 'Hello world!')"
   ],
   "outputs": [],
   "metadata": {}
  },
  {
   "cell_type": "code",
   "execution_count": 8,
   "source": [
    "from IPython.display import YouTubeVideo\r\n",
    "with out:\r\n",
    "    display(YouTubeVideo('eWzY2nGfkXk'))"
   ],
   "outputs": [],
   "metadata": {}
  },
  {
   "cell_type": "code",
   "execution_count": 9,
   "source": [
    "a = widgets.IntSlider(description='a')\r\n",
    "b = widgets.IntSlider(description='b')\r\n",
    "c = widgets.IntSlider(description='c')\r\n",
    "def f(a, b, c):\r\n",
    "    print('{}*{}*{}={}'.format(a, b, c, a*b*c))\r\n",
    "\r\n",
    "out = widgets.interactive_output(f, {'a': a, 'b': b, 'c': c})\r\n",
    "\r\n",
    "widgets.HBox([widgets.VBox([a, b, c]), out])"
   ],
   "outputs": [
    {
     "output_type": "display_data",
     "data": {
      "application/vnd.jupyter.widget-view+json": {
       "version_major": 2,
       "version_minor": 0,
       "model_id": "3fd7281ff3644a29b38af6a0010d0c7d"
      },
      "text/plain": [
       "HBox(children=(VBox(children=(IntSlider(value=0, description='a'), IntSlider(value=0, description='b'), IntSli…"
      ]
     },
     "metadata": {}
    }
   ],
   "metadata": {}
  },
  {
   "cell_type": "code",
   "execution_count": 11,
   "source": [
    "# Utils widgets\r\n",
    "from ipywidgets import Button, Layout, jslink, IntText, IntSlider\r\n",
    "\r\n",
    "def create_expanded_button(description, button_style):\r\n",
    "    return Button(description=description, button_style=button_style, layout=Layout(height='auto', width='auto'))\r\n",
    "\r\n",
    "top_left_button = create_expanded_button(\"Top left\", 'info')\r\n",
    "top_right_button = create_expanded_button(\"Top right\", 'success')\r\n",
    "bottom_left_button = create_expanded_button(\"Bottom left\", 'danger')\r\n",
    "bottom_right_button = create_expanded_button(\"Bottom right\", 'warning')\r\n",
    "\r\n",
    "top_left_text = IntText(description='Top left', layout=Layout(width='auto', height='auto'))\r\n",
    "top_right_text = IntText(description='Top right', layout=Layout(width='auto', height='auto'))\r\n",
    "bottom_left_slider = IntSlider(description='Bottom left', layout=Layout(width='auto', height='auto'))\r\n",
    "bottom_right_slider = IntSlider(description='Bottom right', layout=Layout(width='auto', height='auto'))"
   ],
   "outputs": [],
   "metadata": {}
  },
  {
   "cell_type": "code",
   "execution_count": 12,
   "source": [
    "from ipywidgets import TwoByTwoLayout\r\n",
    "\r\n",
    "TwoByTwoLayout(top_left=top_left_button,\r\n",
    "               top_right=top_right_button,\r\n",
    "               bottom_left=bottom_left_button,\r\n",
    "               bottom_right=bottom_right_button)"
   ],
   "outputs": [
    {
     "output_type": "display_data",
     "data": {
      "application/vnd.jupyter.widget-view+json": {
       "version_major": 2,
       "version_minor": 0,
       "model_id": "a88681a001a54367bce585484986e352"
      },
      "text/plain": [
       "TwoByTwoLayout(children=(Button(button_style='info', description='Top left', layout=Layout(grid_area='top-left…"
      ]
     },
     "metadata": {}
    }
   ],
   "metadata": {}
  },
  {
   "cell_type": "code",
   "execution_count": null,
   "source": [],
   "outputs": [],
   "metadata": {}
  }
 ],
 "metadata": {
  "orig_nbformat": 4,
  "language_info": {
   "name": "python",
   "version": "3.9.7",
   "mimetype": "text/x-python",
   "codemirror_mode": {
    "name": "ipython",
    "version": 3
   },
   "pygments_lexer": "ipython3",
   "nbconvert_exporter": "python",
   "file_extension": ".py"
  },
  "kernelspec": {
   "name": "python3",
   "display_name": "Python 3.9.7 64-bit"
  },
  "interpreter": {
   "hash": "b77746e9332ffa618d6f1b0c30b3b999bda6b9685dc073ddc506779c9ceef622"
  }
 },
 "nbformat": 4,
 "nbformat_minor": 2
}